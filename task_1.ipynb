{
  "nbformat": 4,
  "nbformat_minor": 0,
  "metadata": {
    "colab": {
      "provenance": [],
      "mount_file_id": "1i7GJ_LB2n8_bFT3Sx37vY5s8oarUrwzv",
      "authorship_tag": "ABX9TyP5+USDmPajksjw7Jo3jUF7",
      "include_colab_link": true
    },
    "kernelspec": {
      "name": "python3",
      "display_name": "Python 3"
    },
    "language_info": {
      "name": "python"
    }
  },
  "cells": [
    {
      "cell_type": "markdown",
      "metadata": {
        "id": "view-in-github",
        "colab_type": "text"
      },
      "source": [
        "<a href=\"https://colab.research.google.com/github/Tatiana-Polonskaya/ML_for_sciensdata_analysis/blob/main/task_1.ipynb\" target=\"_parent\"><img src=\"https://colab.research.google.com/assets/colab-badge.svg\" alt=\"Open In Colab\"/></a>"
      ]
    },
    {
      "cell_type": "code",
      "execution_count": 1,
      "metadata": {
        "id": "Kd0hjGF8IMk5"
      },
      "outputs": [],
      "source": [
        "import pandas as pd\n",
        "import dask as dd"
      ]
    },
    {
      "cell_type": "code",
      "source": [
        "import numpy as np\n",
        "import seaborn as sns\n",
        "import matplotlib.pyplot as plt\n",
        "from sklearn.preprocessing import StandardScaler\n",
        "from sklearn.preprocessing import LabelEncoder"
      ],
      "metadata": {
        "id": "KYybMXK5KEgU"
      },
      "execution_count": 42,
      "outputs": []
    },
    {
      "cell_type": "code",
      "source": [
        "from google.colab import drive\n",
        "drive.mount('/content/drive/')"
      ],
      "metadata": {
        "colab": {
          "base_uri": "https://localhost:8080/"
        },
        "id": "5ts2_l14I4iX",
        "outputId": "6b177763-810b-4ce5-eb4c-e1ae22b017ba"
      },
      "execution_count": 3,
      "outputs": [
        {
          "output_type": "stream",
          "name": "stdout",
          "text": [
            "Drive already mounted at /content/drive/; to attempt to forcibly remount, call drive.mount(\"/content/drive/\", force_remount=True).\n"
          ]
        }
      ]
    },
    {
      "cell_type": "code",
      "source": [
        "data = pd.read_csv(\"/content/drive/MyDrive/mo_couse_science_data/data-water/train.csv\")"
      ],
      "metadata": {
        "id": "siPtJmScJgzv"
      },
      "execution_count": 58,
      "outputs": []
    },
    {
      "cell_type": "code",
      "source": [
        "test = pd.read_csv(\"/content/drive/MyDrive/mo_couse_science_data/data-water/train.csv\")"
      ],
      "metadata": {
        "id": "RjfPtWnhmFhJ"
      },
      "execution_count": 56,
      "outputs": []
    },
    {
      "cell_type": "code",
      "source": [
        "data.info()"
      ],
      "metadata": {
        "colab": {
          "base_uri": "https://localhost:8080/"
        },
        "id": "ovRYHvjdJ1A7",
        "outputId": "34c90ad9-6210-444a-ce70-7c74b48203de"
      },
      "execution_count": 57,
      "outputs": [
        {
          "output_type": "stream",
          "name": "stdout",
          "text": [
            "<class 'pandas.core.frame.DataFrame'>\n",
            "Int64Index: 12936 entries, 0 to 12999\n",
            "Data columns (total 28 columns):\n",
            " #   Column        Non-Null Count  Dtype  \n",
            "---  ------        --------------  -----  \n",
            " 0   id            12936 non-null  object \n",
            " 1   categoryA     12936 non-null  int64  \n",
            " 2   categoryB     12936 non-null  int64  \n",
            " 3   categoryC     12936 non-null  int64  \n",
            " 4   categoryD     12936 non-null  object \n",
            " 5   categoryE     12936 non-null  object \n",
            " 6   categoryF     12936 non-null  object \n",
            " 7   featureA      12936 non-null  float64\n",
            " 8   featureB      12936 non-null  float64\n",
            " 9   featureC      12936 non-null  float64\n",
            " 10  featureD      12936 non-null  float64\n",
            " 11  featureE      12936 non-null  float64\n",
            " 12  featureF      12936 non-null  float64\n",
            " 13  featureG      12936 non-null  float64\n",
            " 14  featureH      12936 non-null  float64\n",
            " 15  featureI      12936 non-null  float64\n",
            " 16  compositionA  12936 non-null  float64\n",
            " 17  compositionB  12936 non-null  float64\n",
            " 18  compositionC  12936 non-null  float64\n",
            " 19  compositionD  12936 non-null  float64\n",
            " 20  compositionE  12936 non-null  float64\n",
            " 21  compositionF  12936 non-null  float64\n",
            " 22  compositionG  12936 non-null  float64\n",
            " 23  compositionH  12936 non-null  float64\n",
            " 24  compositionI  12936 non-null  float64\n",
            " 25  compositionJ  12936 non-null  float64\n",
            " 26  unit          12936 non-null  object \n",
            " 27  result        12936 non-null  float64\n",
            "dtypes: float64(20), int64(3), object(5)\n",
            "memory usage: 2.9+ MB\n"
          ]
        }
      ]
    },
    {
      "cell_type": "markdown",
      "source": [
        "Признак *result* - целевая переменная, которую необходимо предсказать -> решается задача **регресии**"
      ],
      "metadata": {
        "id": "hHJoBZPukODO"
      }
    },
    {
      "cell_type": "markdown",
      "source": [
        "Для оценки качества модели будет использован коэффициент детерминации, т.к. результат детерминации легче интерпритировать для сравнения качества моделей в интервале от 0 до 1 "
      ],
      "metadata": {
        "id": "ruaYyCGh5LWx"
      }
    },
    {
      "cell_type": "code",
      "source": [
        "data.head()"
      ],
      "metadata": {
        "id": "bjjtLiH6KAk4",
        "colab": {
          "base_uri": "https://localhost:8080/",
          "height": 299
        },
        "outputId": "9501f705-0c5f-4d1a-dda8-80d83fa0b915"
      },
      "execution_count": 6,
      "outputs": [
        {
          "output_type": "execute_result",
          "data": {
            "text/plain": [
              "                                                  id categoryA categoryB  \\\n",
              "0  a563699ca2a601c6ac64aa29986a00a90fb42b48741695...    catA_1    catB_0   \n",
              "1  91ab3eb3bcf6c8c1c5fe2da9ba671aa5a48c7369d9a50f...    catA_1    catB_0   \n",
              "2  7128c51c554735d6c81862684ad6005ae12d2edbcd4644...   catA_15    catB_0   \n",
              "3  c8144b52e4f63014de0a0d8e1c629bf0b05cb2696cfc23...    catA_0    catB_0   \n",
              "4  88d15a5b2df6692f23d105ff1ae82ae026be00c9271eef...   catA_22    catB_0   \n",
              "\n",
              "   categoryC categoryD categoryE categoryF   featureA  featureB  featureC  \\\n",
              "0   catC_718    catD_0    catE_0    catF_0  75808.375  4.457840  0.005718   \n",
              "1  catC_1309    catD_0    catE_0    catF_0  75808.375  4.457840  0.005718   \n",
              "2  catC_1309    catD_0    catE_0    catF_0  75808.375  4.457840  0.005718   \n",
              "3   catC_935    catD_0    catE_0    catF_0  75808.375  4.457840  0.005718   \n",
              "4  catC_1325    catD_0    catE_2    catF_0 -40055.250  4.363288  0.729194   \n",
              "\n",
              "   ...  compositionC  compositionD  compositionE  compositionF  compositionG  \\\n",
              "0  ...          26.0           0.0          32.0           3.0           0.0   \n",
              "1  ...          26.0           0.0          32.0           3.0           0.0   \n",
              "2  ...          26.0           0.0          32.0           3.0           0.0   \n",
              "3  ...          26.0           0.0          32.0           3.0           0.0   \n",
              "4  ...          14.0           0.0          49.0           3.0           2.0   \n",
              "\n",
              "   compositionH  compositionI  compositionJ     unit    result  \n",
              "0           9.0         22.26          20.0   unit_6  0.000458  \n",
              "1           9.0         22.26          20.0   unit_6  0.000335  \n",
              "2           9.0         22.26          20.0   unit_4  0.054072  \n",
              "3           9.0         22.26          20.0   unit_5  0.061143  \n",
              "4           9.0         16.84          15.0  unit_15  0.015439  \n",
              "\n",
              "[5 rows x 28 columns]"
            ],
            "text/html": [
              "\n",
              "  <div id=\"df-b5c84bd2-178a-4339-976c-00695e01aa14\">\n",
              "    <div class=\"colab-df-container\">\n",
              "      <div>\n",
              "<style scoped>\n",
              "    .dataframe tbody tr th:only-of-type {\n",
              "        vertical-align: middle;\n",
              "    }\n",
              "\n",
              "    .dataframe tbody tr th {\n",
              "        vertical-align: top;\n",
              "    }\n",
              "\n",
              "    .dataframe thead th {\n",
              "        text-align: right;\n",
              "    }\n",
              "</style>\n",
              "<table border=\"1\" class=\"dataframe\">\n",
              "  <thead>\n",
              "    <tr style=\"text-align: right;\">\n",
              "      <th></th>\n",
              "      <th>id</th>\n",
              "      <th>categoryA</th>\n",
              "      <th>categoryB</th>\n",
              "      <th>categoryC</th>\n",
              "      <th>categoryD</th>\n",
              "      <th>categoryE</th>\n",
              "      <th>categoryF</th>\n",
              "      <th>featureA</th>\n",
              "      <th>featureB</th>\n",
              "      <th>featureC</th>\n",
              "      <th>...</th>\n",
              "      <th>compositionC</th>\n",
              "      <th>compositionD</th>\n",
              "      <th>compositionE</th>\n",
              "      <th>compositionF</th>\n",
              "      <th>compositionG</th>\n",
              "      <th>compositionH</th>\n",
              "      <th>compositionI</th>\n",
              "      <th>compositionJ</th>\n",
              "      <th>unit</th>\n",
              "      <th>result</th>\n",
              "    </tr>\n",
              "  </thead>\n",
              "  <tbody>\n",
              "    <tr>\n",
              "      <th>0</th>\n",
              "      <td>a563699ca2a601c6ac64aa29986a00a90fb42b48741695...</td>\n",
              "      <td>catA_1</td>\n",
              "      <td>catB_0</td>\n",
              "      <td>catC_718</td>\n",
              "      <td>catD_0</td>\n",
              "      <td>catE_0</td>\n",
              "      <td>catF_0</td>\n",
              "      <td>75808.375</td>\n",
              "      <td>4.457840</td>\n",
              "      <td>0.005718</td>\n",
              "      <td>...</td>\n",
              "      <td>26.0</td>\n",
              "      <td>0.0</td>\n",
              "      <td>32.0</td>\n",
              "      <td>3.0</td>\n",
              "      <td>0.0</td>\n",
              "      <td>9.0</td>\n",
              "      <td>22.26</td>\n",
              "      <td>20.0</td>\n",
              "      <td>unit_6</td>\n",
              "      <td>0.000458</td>\n",
              "    </tr>\n",
              "    <tr>\n",
              "      <th>1</th>\n",
              "      <td>91ab3eb3bcf6c8c1c5fe2da9ba671aa5a48c7369d9a50f...</td>\n",
              "      <td>catA_1</td>\n",
              "      <td>catB_0</td>\n",
              "      <td>catC_1309</td>\n",
              "      <td>catD_0</td>\n",
              "      <td>catE_0</td>\n",
              "      <td>catF_0</td>\n",
              "      <td>75808.375</td>\n",
              "      <td>4.457840</td>\n",
              "      <td>0.005718</td>\n",
              "      <td>...</td>\n",
              "      <td>26.0</td>\n",
              "      <td>0.0</td>\n",
              "      <td>32.0</td>\n",
              "      <td>3.0</td>\n",
              "      <td>0.0</td>\n",
              "      <td>9.0</td>\n",
              "      <td>22.26</td>\n",
              "      <td>20.0</td>\n",
              "      <td>unit_6</td>\n",
              "      <td>0.000335</td>\n",
              "    </tr>\n",
              "    <tr>\n",
              "      <th>2</th>\n",
              "      <td>7128c51c554735d6c81862684ad6005ae12d2edbcd4644...</td>\n",
              "      <td>catA_15</td>\n",
              "      <td>catB_0</td>\n",
              "      <td>catC_1309</td>\n",
              "      <td>catD_0</td>\n",
              "      <td>catE_0</td>\n",
              "      <td>catF_0</td>\n",
              "      <td>75808.375</td>\n",
              "      <td>4.457840</td>\n",
              "      <td>0.005718</td>\n",
              "      <td>...</td>\n",
              "      <td>26.0</td>\n",
              "      <td>0.0</td>\n",
              "      <td>32.0</td>\n",
              "      <td>3.0</td>\n",
              "      <td>0.0</td>\n",
              "      <td>9.0</td>\n",
              "      <td>22.26</td>\n",
              "      <td>20.0</td>\n",
              "      <td>unit_4</td>\n",
              "      <td>0.054072</td>\n",
              "    </tr>\n",
              "    <tr>\n",
              "      <th>3</th>\n",
              "      <td>c8144b52e4f63014de0a0d8e1c629bf0b05cb2696cfc23...</td>\n",
              "      <td>catA_0</td>\n",
              "      <td>catB_0</td>\n",
              "      <td>catC_935</td>\n",
              "      <td>catD_0</td>\n",
              "      <td>catE_0</td>\n",
              "      <td>catF_0</td>\n",
              "      <td>75808.375</td>\n",
              "      <td>4.457840</td>\n",
              "      <td>0.005718</td>\n",
              "      <td>...</td>\n",
              "      <td>26.0</td>\n",
              "      <td>0.0</td>\n",
              "      <td>32.0</td>\n",
              "      <td>3.0</td>\n",
              "      <td>0.0</td>\n",
              "      <td>9.0</td>\n",
              "      <td>22.26</td>\n",
              "      <td>20.0</td>\n",
              "      <td>unit_5</td>\n",
              "      <td>0.061143</td>\n",
              "    </tr>\n",
              "    <tr>\n",
              "      <th>4</th>\n",
              "      <td>88d15a5b2df6692f23d105ff1ae82ae026be00c9271eef...</td>\n",
              "      <td>catA_22</td>\n",
              "      <td>catB_0</td>\n",
              "      <td>catC_1325</td>\n",
              "      <td>catD_0</td>\n",
              "      <td>catE_2</td>\n",
              "      <td>catF_0</td>\n",
              "      <td>-40055.250</td>\n",
              "      <td>4.363288</td>\n",
              "      <td>0.729194</td>\n",
              "      <td>...</td>\n",
              "      <td>14.0</td>\n",
              "      <td>0.0</td>\n",
              "      <td>49.0</td>\n",
              "      <td>3.0</td>\n",
              "      <td>2.0</td>\n",
              "      <td>9.0</td>\n",
              "      <td>16.84</td>\n",
              "      <td>15.0</td>\n",
              "      <td>unit_15</td>\n",
              "      <td>0.015439</td>\n",
              "    </tr>\n",
              "  </tbody>\n",
              "</table>\n",
              "<p>5 rows × 28 columns</p>\n",
              "</div>\n",
              "      <button class=\"colab-df-convert\" onclick=\"convertToInteractive('df-b5c84bd2-178a-4339-976c-00695e01aa14')\"\n",
              "              title=\"Convert this dataframe to an interactive table.\"\n",
              "              style=\"display:none;\">\n",
              "        \n",
              "  <svg xmlns=\"http://www.w3.org/2000/svg\" height=\"24px\"viewBox=\"0 0 24 24\"\n",
              "       width=\"24px\">\n",
              "    <path d=\"M0 0h24v24H0V0z\" fill=\"none\"/>\n",
              "    <path d=\"M18.56 5.44l.94 2.06.94-2.06 2.06-.94-2.06-.94-.94-2.06-.94 2.06-2.06.94zm-11 1L8.5 8.5l.94-2.06 2.06-.94-2.06-.94L8.5 2.5l-.94 2.06-2.06.94zm10 10l.94 2.06.94-2.06 2.06-.94-2.06-.94-.94-2.06-.94 2.06-2.06.94z\"/><path d=\"M17.41 7.96l-1.37-1.37c-.4-.4-.92-.59-1.43-.59-.52 0-1.04.2-1.43.59L10.3 9.45l-7.72 7.72c-.78.78-.78 2.05 0 2.83L4 21.41c.39.39.9.59 1.41.59.51 0 1.02-.2 1.41-.59l7.78-7.78 2.81-2.81c.8-.78.8-2.07 0-2.86zM5.41 20L4 18.59l7.72-7.72 1.47 1.35L5.41 20z\"/>\n",
              "  </svg>\n",
              "      </button>\n",
              "      \n",
              "  <style>\n",
              "    .colab-df-container {\n",
              "      display:flex;\n",
              "      flex-wrap:wrap;\n",
              "      gap: 12px;\n",
              "    }\n",
              "\n",
              "    .colab-df-convert {\n",
              "      background-color: #E8F0FE;\n",
              "      border: none;\n",
              "      border-radius: 50%;\n",
              "      cursor: pointer;\n",
              "      display: none;\n",
              "      fill: #1967D2;\n",
              "      height: 32px;\n",
              "      padding: 0 0 0 0;\n",
              "      width: 32px;\n",
              "    }\n",
              "\n",
              "    .colab-df-convert:hover {\n",
              "      background-color: #E2EBFA;\n",
              "      box-shadow: 0px 1px 2px rgba(60, 64, 67, 0.3), 0px 1px 3px 1px rgba(60, 64, 67, 0.15);\n",
              "      fill: #174EA6;\n",
              "    }\n",
              "\n",
              "    [theme=dark] .colab-df-convert {\n",
              "      background-color: #3B4455;\n",
              "      fill: #D2E3FC;\n",
              "    }\n",
              "\n",
              "    [theme=dark] .colab-df-convert:hover {\n",
              "      background-color: #434B5C;\n",
              "      box-shadow: 0px 1px 3px 1px rgba(0, 0, 0, 0.15);\n",
              "      filter: drop-shadow(0px 1px 2px rgba(0, 0, 0, 0.3));\n",
              "      fill: #FFFFFF;\n",
              "    }\n",
              "  </style>\n",
              "\n",
              "      <script>\n",
              "        const buttonEl =\n",
              "          document.querySelector('#df-b5c84bd2-178a-4339-976c-00695e01aa14 button.colab-df-convert');\n",
              "        buttonEl.style.display =\n",
              "          google.colab.kernel.accessAllowed ? 'block' : 'none';\n",
              "\n",
              "        async function convertToInteractive(key) {\n",
              "          const element = document.querySelector('#df-b5c84bd2-178a-4339-976c-00695e01aa14');\n",
              "          const dataTable =\n",
              "            await google.colab.kernel.invokeFunction('convertToInteractive',\n",
              "                                                     [key], {});\n",
              "          if (!dataTable) return;\n",
              "\n",
              "          const docLinkHtml = 'Like what you see? Visit the ' +\n",
              "            '<a target=\"_blank\" href=https://colab.research.google.com/notebooks/data_table.ipynb>data table notebook</a>'\n",
              "            + ' to learn more about interactive tables.';\n",
              "          element.innerHTML = '';\n",
              "          dataTable['output_type'] = 'display_data';\n",
              "          await google.colab.output.renderOutput(dataTable, element);\n",
              "          const docLink = document.createElement('div');\n",
              "          docLink.innerHTML = docLinkHtml;\n",
              "          element.appendChild(docLink);\n",
              "        }\n",
              "      </script>\n",
              "    </div>\n",
              "  </div>\n",
              "  "
            ]
          },
          "metadata": {},
          "execution_count": 6
        }
      ]
    },
    {
      "cell_type": "code",
      "source": [
        "data.describe()"
      ],
      "metadata": {
        "colab": {
          "base_uri": "https://localhost:8080/",
          "height": 394
        },
        "id": "-ZbI4yysifh3",
        "outputId": "826980a3-b512-4413-9fec-ced73b8bdd8d"
      },
      "execution_count": 128,
      "outputs": [
        {
          "output_type": "execute_result",
          "data": {
            "text/plain": [
              "          categoryA     categoryB     categoryC     categoryD     categoryE  \\\n",
              "count  13000.000000  13000.000000  13000.000000  13000.000000  13000.000000   \n",
              "mean      73.555923      0.000846   1222.297077      0.028154      4.489385   \n",
              "std       49.901148      0.029078    682.157115      0.175790      7.000338   \n",
              "min        0.000000      0.000000      0.000000      0.000000      0.000000   \n",
              "25%       23.000000      0.000000    575.000000      0.000000      0.000000   \n",
              "50%       79.000000      0.000000   1486.000000      0.000000      1.000000   \n",
              "75%      112.000000      0.000000   1798.000000      0.000000     11.000000   \n",
              "max      166.000000      1.000000   2211.000000      2.000000     24.000000   \n",
              "\n",
              "          categoryF       featureA      featureB      featureC      featureD  \\\n",
              "count  13000.000000   12936.000000  12936.000000  12936.000000  12936.000000   \n",
              "mean       0.002846  116559.238066      4.526278      0.132972    150.341104   \n",
              "std        0.058768  146502.011917      3.180817      0.264148     75.093666   \n",
              "min        0.000000  -83749.750000      1.064468      0.000000     18.148547   \n",
              "25%        0.000000   56744.750000      4.363288      0.005718    122.299437   \n",
              "50%        0.000000   75808.375000      4.457840      0.005718    122.299437   \n",
              "75%        0.000000   75808.375000      4.457840      0.032407    137.976566   \n",
              "max        2.000000  582211.000000     25.982190      0.729194    511.475928   \n",
              "\n",
              "       ...  compositionC  compositionD  compositionE  compositionF  \\\n",
              "count  ...  12936.000000  12936.000000  12936.000000  12936.000000   \n",
              "mean   ...     23.627522      1.296887     32.038122      3.178698   \n",
              "std    ...      6.433507      3.724154     11.098175      1.098585   \n",
              "min    ...      0.000000      0.000000     12.780000      1.380000   \n",
              "25%    ...     17.700000      0.000000     30.000000      3.000000   \n",
              "50%    ...     26.000000      0.000000     32.000000      3.000000   \n",
              "75%    ...     26.000000      1.940000     32.000000      3.000000   \n",
              "max    ...     44.050000     30.460000     62.300000      9.200000   \n",
              "\n",
              "       compositionG  compositionH  compositionI  compositionJ          unit  \\\n",
              "count  12936.000000  12936.000000  12936.000000  12936.000000  13000.000000   \n",
              "mean       2.024316     11.214700     23.386089     18.942594      8.178000   \n",
              "std        2.964965      4.860118      5.937944      4.096265      6.687812   \n",
              "min        0.000000      1.450000      0.760000      6.100000      0.000000   \n",
              "25%        0.000000      9.000000     22.260000     18.900000      1.000000   \n",
              "50%        0.000000      9.000000     22.260000     20.000000     11.000000   \n",
              "75%        2.000000     12.330000     27.250000     20.000000     14.000000   \n",
              "max        7.900000     20.200000     47.830000     37.830000     18.000000   \n",
              "\n",
              "             result  \n",
              "count  13000.000000  \n",
              "mean       0.144223  \n",
              "std        0.224062  \n",
              "min        0.000000  \n",
              "25%        0.003875  \n",
              "50%        0.027909  \n",
              "75%        0.168678  \n",
              "max        1.000000  \n",
              "\n",
              "[8 rows x 27 columns]"
            ],
            "text/html": [
              "\n",
              "  <div id=\"df-f54a7aaa-dee6-40ce-98e2-72736094daf1\">\n",
              "    <div class=\"colab-df-container\">\n",
              "      <div>\n",
              "<style scoped>\n",
              "    .dataframe tbody tr th:only-of-type {\n",
              "        vertical-align: middle;\n",
              "    }\n",
              "\n",
              "    .dataframe tbody tr th {\n",
              "        vertical-align: top;\n",
              "    }\n",
              "\n",
              "    .dataframe thead th {\n",
              "        text-align: right;\n",
              "    }\n",
              "</style>\n",
              "<table border=\"1\" class=\"dataframe\">\n",
              "  <thead>\n",
              "    <tr style=\"text-align: right;\">\n",
              "      <th></th>\n",
              "      <th>categoryA</th>\n",
              "      <th>categoryB</th>\n",
              "      <th>categoryC</th>\n",
              "      <th>categoryD</th>\n",
              "      <th>categoryE</th>\n",
              "      <th>categoryF</th>\n",
              "      <th>featureA</th>\n",
              "      <th>featureB</th>\n",
              "      <th>featureC</th>\n",
              "      <th>featureD</th>\n",
              "      <th>...</th>\n",
              "      <th>compositionC</th>\n",
              "      <th>compositionD</th>\n",
              "      <th>compositionE</th>\n",
              "      <th>compositionF</th>\n",
              "      <th>compositionG</th>\n",
              "      <th>compositionH</th>\n",
              "      <th>compositionI</th>\n",
              "      <th>compositionJ</th>\n",
              "      <th>unit</th>\n",
              "      <th>result</th>\n",
              "    </tr>\n",
              "  </thead>\n",
              "  <tbody>\n",
              "    <tr>\n",
              "      <th>count</th>\n",
              "      <td>13000.000000</td>\n",
              "      <td>13000.000000</td>\n",
              "      <td>13000.000000</td>\n",
              "      <td>13000.000000</td>\n",
              "      <td>13000.000000</td>\n",
              "      <td>13000.000000</td>\n",
              "      <td>12936.000000</td>\n",
              "      <td>12936.000000</td>\n",
              "      <td>12936.000000</td>\n",
              "      <td>12936.000000</td>\n",
              "      <td>...</td>\n",
              "      <td>12936.000000</td>\n",
              "      <td>12936.000000</td>\n",
              "      <td>12936.000000</td>\n",
              "      <td>12936.000000</td>\n",
              "      <td>12936.000000</td>\n",
              "      <td>12936.000000</td>\n",
              "      <td>12936.000000</td>\n",
              "      <td>12936.000000</td>\n",
              "      <td>13000.000000</td>\n",
              "      <td>13000.000000</td>\n",
              "    </tr>\n",
              "    <tr>\n",
              "      <th>mean</th>\n",
              "      <td>73.555923</td>\n",
              "      <td>0.000846</td>\n",
              "      <td>1222.297077</td>\n",
              "      <td>0.028154</td>\n",
              "      <td>4.489385</td>\n",
              "      <td>0.002846</td>\n",
              "      <td>116559.238066</td>\n",
              "      <td>4.526278</td>\n",
              "      <td>0.132972</td>\n",
              "      <td>150.341104</td>\n",
              "      <td>...</td>\n",
              "      <td>23.627522</td>\n",
              "      <td>1.296887</td>\n",
              "      <td>32.038122</td>\n",
              "      <td>3.178698</td>\n",
              "      <td>2.024316</td>\n",
              "      <td>11.214700</td>\n",
              "      <td>23.386089</td>\n",
              "      <td>18.942594</td>\n",
              "      <td>8.178000</td>\n",
              "      <td>0.144223</td>\n",
              "    </tr>\n",
              "    <tr>\n",
              "      <th>std</th>\n",
              "      <td>49.901148</td>\n",
              "      <td>0.029078</td>\n",
              "      <td>682.157115</td>\n",
              "      <td>0.175790</td>\n",
              "      <td>7.000338</td>\n",
              "      <td>0.058768</td>\n",
              "      <td>146502.011917</td>\n",
              "      <td>3.180817</td>\n",
              "      <td>0.264148</td>\n",
              "      <td>75.093666</td>\n",
              "      <td>...</td>\n",
              "      <td>6.433507</td>\n",
              "      <td>3.724154</td>\n",
              "      <td>11.098175</td>\n",
              "      <td>1.098585</td>\n",
              "      <td>2.964965</td>\n",
              "      <td>4.860118</td>\n",
              "      <td>5.937944</td>\n",
              "      <td>4.096265</td>\n",
              "      <td>6.687812</td>\n",
              "      <td>0.224062</td>\n",
              "    </tr>\n",
              "    <tr>\n",
              "      <th>min</th>\n",
              "      <td>0.000000</td>\n",
              "      <td>0.000000</td>\n",
              "      <td>0.000000</td>\n",
              "      <td>0.000000</td>\n",
              "      <td>0.000000</td>\n",
              "      <td>0.000000</td>\n",
              "      <td>-83749.750000</td>\n",
              "      <td>1.064468</td>\n",
              "      <td>0.000000</td>\n",
              "      <td>18.148547</td>\n",
              "      <td>...</td>\n",
              "      <td>0.000000</td>\n",
              "      <td>0.000000</td>\n",
              "      <td>12.780000</td>\n",
              "      <td>1.380000</td>\n",
              "      <td>0.000000</td>\n",
              "      <td>1.450000</td>\n",
              "      <td>0.760000</td>\n",
              "      <td>6.100000</td>\n",
              "      <td>0.000000</td>\n",
              "      <td>0.000000</td>\n",
              "    </tr>\n",
              "    <tr>\n",
              "      <th>25%</th>\n",
              "      <td>23.000000</td>\n",
              "      <td>0.000000</td>\n",
              "      <td>575.000000</td>\n",
              "      <td>0.000000</td>\n",
              "      <td>0.000000</td>\n",
              "      <td>0.000000</td>\n",
              "      <td>56744.750000</td>\n",
              "      <td>4.363288</td>\n",
              "      <td>0.005718</td>\n",
              "      <td>122.299437</td>\n",
              "      <td>...</td>\n",
              "      <td>17.700000</td>\n",
              "      <td>0.000000</td>\n",
              "      <td>30.000000</td>\n",
              "      <td>3.000000</td>\n",
              "      <td>0.000000</td>\n",
              "      <td>9.000000</td>\n",
              "      <td>22.260000</td>\n",
              "      <td>18.900000</td>\n",
              "      <td>1.000000</td>\n",
              "      <td>0.003875</td>\n",
              "    </tr>\n",
              "    <tr>\n",
              "      <th>50%</th>\n",
              "      <td>79.000000</td>\n",
              "      <td>0.000000</td>\n",
              "      <td>1486.000000</td>\n",
              "      <td>0.000000</td>\n",
              "      <td>1.000000</td>\n",
              "      <td>0.000000</td>\n",
              "      <td>75808.375000</td>\n",
              "      <td>4.457840</td>\n",
              "      <td>0.005718</td>\n",
              "      <td>122.299437</td>\n",
              "      <td>...</td>\n",
              "      <td>26.000000</td>\n",
              "      <td>0.000000</td>\n",
              "      <td>32.000000</td>\n",
              "      <td>3.000000</td>\n",
              "      <td>0.000000</td>\n",
              "      <td>9.000000</td>\n",
              "      <td>22.260000</td>\n",
              "      <td>20.000000</td>\n",
              "      <td>11.000000</td>\n",
              "      <td>0.027909</td>\n",
              "    </tr>\n",
              "    <tr>\n",
              "      <th>75%</th>\n",
              "      <td>112.000000</td>\n",
              "      <td>0.000000</td>\n",
              "      <td>1798.000000</td>\n",
              "      <td>0.000000</td>\n",
              "      <td>11.000000</td>\n",
              "      <td>0.000000</td>\n",
              "      <td>75808.375000</td>\n",
              "      <td>4.457840</td>\n",
              "      <td>0.032407</td>\n",
              "      <td>137.976566</td>\n",
              "      <td>...</td>\n",
              "      <td>26.000000</td>\n",
              "      <td>1.940000</td>\n",
              "      <td>32.000000</td>\n",
              "      <td>3.000000</td>\n",
              "      <td>2.000000</td>\n",
              "      <td>12.330000</td>\n",
              "      <td>27.250000</td>\n",
              "      <td>20.000000</td>\n",
              "      <td>14.000000</td>\n",
              "      <td>0.168678</td>\n",
              "    </tr>\n",
              "    <tr>\n",
              "      <th>max</th>\n",
              "      <td>166.000000</td>\n",
              "      <td>1.000000</td>\n",
              "      <td>2211.000000</td>\n",
              "      <td>2.000000</td>\n",
              "      <td>24.000000</td>\n",
              "      <td>2.000000</td>\n",
              "      <td>582211.000000</td>\n",
              "      <td>25.982190</td>\n",
              "      <td>0.729194</td>\n",
              "      <td>511.475928</td>\n",
              "      <td>...</td>\n",
              "      <td>44.050000</td>\n",
              "      <td>30.460000</td>\n",
              "      <td>62.300000</td>\n",
              "      <td>9.200000</td>\n",
              "      <td>7.900000</td>\n",
              "      <td>20.200000</td>\n",
              "      <td>47.830000</td>\n",
              "      <td>37.830000</td>\n",
              "      <td>18.000000</td>\n",
              "      <td>1.000000</td>\n",
              "    </tr>\n",
              "  </tbody>\n",
              "</table>\n",
              "<p>8 rows × 27 columns</p>\n",
              "</div>\n",
              "      <button class=\"colab-df-convert\" onclick=\"convertToInteractive('df-f54a7aaa-dee6-40ce-98e2-72736094daf1')\"\n",
              "              title=\"Convert this dataframe to an interactive table.\"\n",
              "              style=\"display:none;\">\n",
              "        \n",
              "  <svg xmlns=\"http://www.w3.org/2000/svg\" height=\"24px\"viewBox=\"0 0 24 24\"\n",
              "       width=\"24px\">\n",
              "    <path d=\"M0 0h24v24H0V0z\" fill=\"none\"/>\n",
              "    <path d=\"M18.56 5.44l.94 2.06.94-2.06 2.06-.94-2.06-.94-.94-2.06-.94 2.06-2.06.94zm-11 1L8.5 8.5l.94-2.06 2.06-.94-2.06-.94L8.5 2.5l-.94 2.06-2.06.94zm10 10l.94 2.06.94-2.06 2.06-.94-2.06-.94-.94-2.06-.94 2.06-2.06.94z\"/><path d=\"M17.41 7.96l-1.37-1.37c-.4-.4-.92-.59-1.43-.59-.52 0-1.04.2-1.43.59L10.3 9.45l-7.72 7.72c-.78.78-.78 2.05 0 2.83L4 21.41c.39.39.9.59 1.41.59.51 0 1.02-.2 1.41-.59l7.78-7.78 2.81-2.81c.8-.78.8-2.07 0-2.86zM5.41 20L4 18.59l7.72-7.72 1.47 1.35L5.41 20z\"/>\n",
              "  </svg>\n",
              "      </button>\n",
              "      \n",
              "  <style>\n",
              "    .colab-df-container {\n",
              "      display:flex;\n",
              "      flex-wrap:wrap;\n",
              "      gap: 12px;\n",
              "    }\n",
              "\n",
              "    .colab-df-convert {\n",
              "      background-color: #E8F0FE;\n",
              "      border: none;\n",
              "      border-radius: 50%;\n",
              "      cursor: pointer;\n",
              "      display: none;\n",
              "      fill: #1967D2;\n",
              "      height: 32px;\n",
              "      padding: 0 0 0 0;\n",
              "      width: 32px;\n",
              "    }\n",
              "\n",
              "    .colab-df-convert:hover {\n",
              "      background-color: #E2EBFA;\n",
              "      box-shadow: 0px 1px 2px rgba(60, 64, 67, 0.3), 0px 1px 3px 1px rgba(60, 64, 67, 0.15);\n",
              "      fill: #174EA6;\n",
              "    }\n",
              "\n",
              "    [theme=dark] .colab-df-convert {\n",
              "      background-color: #3B4455;\n",
              "      fill: #D2E3FC;\n",
              "    }\n",
              "\n",
              "    [theme=dark] .colab-df-convert:hover {\n",
              "      background-color: #434B5C;\n",
              "      box-shadow: 0px 1px 3px 1px rgba(0, 0, 0, 0.15);\n",
              "      filter: drop-shadow(0px 1px 2px rgba(0, 0, 0, 0.3));\n",
              "      fill: #FFFFFF;\n",
              "    }\n",
              "  </style>\n",
              "\n",
              "      <script>\n",
              "        const buttonEl =\n",
              "          document.querySelector('#df-f54a7aaa-dee6-40ce-98e2-72736094daf1 button.colab-df-convert');\n",
              "        buttonEl.style.display =\n",
              "          google.colab.kernel.accessAllowed ? 'block' : 'none';\n",
              "\n",
              "        async function convertToInteractive(key) {\n",
              "          const element = document.querySelector('#df-f54a7aaa-dee6-40ce-98e2-72736094daf1');\n",
              "          const dataTable =\n",
              "            await google.colab.kernel.invokeFunction('convertToInteractive',\n",
              "                                                     [key], {});\n",
              "          if (!dataTable) return;\n",
              "\n",
              "          const docLinkHtml = 'Like what you see? Visit the ' +\n",
              "            '<a target=\"_blank\" href=https://colab.research.google.com/notebooks/data_table.ipynb>data table notebook</a>'\n",
              "            + ' to learn more about interactive tables.';\n",
              "          element.innerHTML = '';\n",
              "          dataTable['output_type'] = 'display_data';\n",
              "          await google.colab.output.renderOutput(dataTable, element);\n",
              "          const docLink = document.createElement('div');\n",
              "          docLink.innerHTML = docLinkHtml;\n",
              "          element.appendChild(docLink);\n",
              "        }\n",
              "      </script>\n",
              "    </div>\n",
              "  </div>\n",
              "  "
            ]
          },
          "metadata": {},
          "execution_count": 128
        }
      ]
    },
    {
      "cell_type": "code",
      "source": [
        "data.shape"
      ],
      "metadata": {
        "colab": {
          "base_uri": "https://localhost:8080/"
        },
        "id": "KNGIuFsZjwyu",
        "outputId": "eaa3dbe5-c1b3-45c0-f7b8-0b1e4eb168f3"
      },
      "execution_count": 7,
      "outputs": [
        {
          "output_type": "execute_result",
          "data": {
            "text/plain": [
              "(13000, 28)"
            ]
          },
          "metadata": {},
          "execution_count": 7
        }
      ]
    },
    {
      "cell_type": "code",
      "source": [
        "data.isnull().sum() "
      ],
      "metadata": {
        "colab": {
          "base_uri": "https://localhost:8080/"
        },
        "id": "VwAS2axVktI_",
        "outputId": "2db217a5-2d14-4fc5-c3c0-7d331de69239"
      },
      "execution_count": 8,
      "outputs": [
        {
          "output_type": "execute_result",
          "data": {
            "text/plain": [
              "id               0\n",
              "categoryA        0\n",
              "categoryB        0\n",
              "categoryC        0\n",
              "categoryD        0\n",
              "categoryE        0\n",
              "categoryF        0\n",
              "featureA        64\n",
              "featureB        64\n",
              "featureC        64\n",
              "featureD        64\n",
              "featureE        64\n",
              "featureF         0\n",
              "featureG        64\n",
              "featureH        64\n",
              "featureI        64\n",
              "compositionA    64\n",
              "compositionB    64\n",
              "compositionC    64\n",
              "compositionD    64\n",
              "compositionE    64\n",
              "compositionF    64\n",
              "compositionG    64\n",
              "compositionH    64\n",
              "compositionI    64\n",
              "compositionJ    64\n",
              "unit             0\n",
              "result           0\n",
              "dtype: int64"
            ]
          },
          "metadata": {},
          "execution_count": 8
        }
      ]
    },
    {
      "cell_type": "code",
      "source": [
        "data = data.dropna()"
      ],
      "metadata": {
        "id": "nGlkfRGFk-ds"
      },
      "execution_count": 10,
      "outputs": []
    },
    {
      "cell_type": "code",
      "source": [
        "data.isna().any().any()"
      ],
      "metadata": {
        "id": "0NYy3Ab4kwsG",
        "colab": {
          "base_uri": "https://localhost:8080/"
        },
        "outputId": "912e74de-3201-4934-a966-b21d90caa04c"
      },
      "execution_count": 11,
      "outputs": [
        {
          "output_type": "execute_result",
          "data": {
            "text/plain": [
              "False"
            ]
          },
          "metadata": {},
          "execution_count": 11
        }
      ]
    },
    {
      "cell_type": "code",
      "source": [
        "data.describe(include='all')"
      ],
      "metadata": {
        "colab": {
          "base_uri": "https://localhost:8080/",
          "height": 488
        },
        "id": "xRTEvcUDmXTT",
        "outputId": "0bacbc68-5221-45c1-ac4e-a8ddb609d33a"
      },
      "execution_count": 23,
      "outputs": [
        {
          "output_type": "execute_result",
          "data": {
            "text/plain": [
              "                                                       id categoryA categoryB  \\\n",
              "count                                               12936     12936     12936   \n",
              "unique                                              12936       167         2   \n",
              "top     a563699ca2a601c6ac64aa29986a00a90fb42b48741695...    catA_1    catB_0   \n",
              "freq                                                    1       842     12925   \n",
              "mean                                                  NaN       NaN       NaN   \n",
              "std                                                   NaN       NaN       NaN   \n",
              "min                                                   NaN       NaN       NaN   \n",
              "25%                                                   NaN       NaN       NaN   \n",
              "50%                                                   NaN       NaN       NaN   \n",
              "75%                                                   NaN       NaN       NaN   \n",
              "max                                                   NaN       NaN       NaN   \n",
              "\n",
              "       categoryC categoryD categoryE categoryF       featureA      featureB  \\\n",
              "count      12936     12936     12936     12936   12936.000000  12936.000000   \n",
              "unique      2201         3        23         3            NaN           NaN   \n",
              "top       catC_2    catD_0    catE_0    catF_0            NaN           NaN   \n",
              "freq          43     12593      6441     12903            NaN           NaN   \n",
              "mean         NaN       NaN       NaN       NaN  116559.238066      4.526278   \n",
              "std          NaN       NaN       NaN       NaN  146502.011917      3.180817   \n",
              "min          NaN       NaN       NaN       NaN  -83749.750000      1.064468   \n",
              "25%          NaN       NaN       NaN       NaN   56744.750000      4.363288   \n",
              "50%          NaN       NaN       NaN       NaN   75808.375000      4.457840   \n",
              "75%          NaN       NaN       NaN       NaN   75808.375000      4.457840   \n",
              "max          NaN       NaN       NaN       NaN  582211.000000     25.982190   \n",
              "\n",
              "            featureC  ...  compositionC  compositionD  compositionE  \\\n",
              "count   12936.000000  ...  12936.000000  12936.000000  12936.000000   \n",
              "unique           NaN  ...           NaN           NaN           NaN   \n",
              "top              NaN  ...           NaN           NaN           NaN   \n",
              "freq             NaN  ...           NaN           NaN           NaN   \n",
              "mean        0.132972  ...     23.627522      1.296887     32.038122   \n",
              "std         0.264148  ...      6.433507      3.724154     11.098175   \n",
              "min         0.000000  ...      0.000000      0.000000     12.780000   \n",
              "25%         0.005718  ...     17.700000      0.000000     30.000000   \n",
              "50%         0.005718  ...     26.000000      0.000000     32.000000   \n",
              "75%         0.032407  ...     26.000000      1.940000     32.000000   \n",
              "max         0.729194  ...     44.050000     30.460000     62.300000   \n",
              "\n",
              "        compositionF  compositionG  compositionH  compositionI  compositionJ  \\\n",
              "count   12936.000000  12936.000000  12936.000000  12936.000000  12936.000000   \n",
              "unique           NaN           NaN           NaN           NaN           NaN   \n",
              "top              NaN           NaN           NaN           NaN           NaN   \n",
              "freq             NaN           NaN           NaN           NaN           NaN   \n",
              "mean        3.178698      2.024316     11.214700     23.386089     18.942594   \n",
              "std         1.098585      2.964965      4.860118      5.937944      4.096265   \n",
              "min         1.380000      0.000000      1.450000      0.760000      6.100000   \n",
              "25%         3.000000      0.000000      9.000000     22.260000     18.900000   \n",
              "50%         3.000000      0.000000      9.000000     22.260000     20.000000   \n",
              "75%         3.000000      2.000000     12.330000     27.250000     20.000000   \n",
              "max         9.200000      7.900000     20.200000     47.830000     37.830000   \n",
              "\n",
              "          unit        result  \n",
              "count    12936  12936.000000  \n",
              "unique      19           NaN  \n",
              "top     unit_0           NaN  \n",
              "freq      2538           NaN  \n",
              "mean       NaN      0.144137  \n",
              "std        NaN      0.223929  \n",
              "min        NaN      0.000000  \n",
              "25%        NaN      0.003922  \n",
              "50%        NaN      0.027952  \n",
              "75%        NaN      0.168404  \n",
              "max        NaN      1.000000  \n",
              "\n",
              "[11 rows x 28 columns]"
            ],
            "text/html": [
              "\n",
              "  <div id=\"df-43c42187-4af6-477c-81a4-265bf90a20c6\">\n",
              "    <div class=\"colab-df-container\">\n",
              "      <div>\n",
              "<style scoped>\n",
              "    .dataframe tbody tr th:only-of-type {\n",
              "        vertical-align: middle;\n",
              "    }\n",
              "\n",
              "    .dataframe tbody tr th {\n",
              "        vertical-align: top;\n",
              "    }\n",
              "\n",
              "    .dataframe thead th {\n",
              "        text-align: right;\n",
              "    }\n",
              "</style>\n",
              "<table border=\"1\" class=\"dataframe\">\n",
              "  <thead>\n",
              "    <tr style=\"text-align: right;\">\n",
              "      <th></th>\n",
              "      <th>id</th>\n",
              "      <th>categoryA</th>\n",
              "      <th>categoryB</th>\n",
              "      <th>categoryC</th>\n",
              "      <th>categoryD</th>\n",
              "      <th>categoryE</th>\n",
              "      <th>categoryF</th>\n",
              "      <th>featureA</th>\n",
              "      <th>featureB</th>\n",
              "      <th>featureC</th>\n",
              "      <th>...</th>\n",
              "      <th>compositionC</th>\n",
              "      <th>compositionD</th>\n",
              "      <th>compositionE</th>\n",
              "      <th>compositionF</th>\n",
              "      <th>compositionG</th>\n",
              "      <th>compositionH</th>\n",
              "      <th>compositionI</th>\n",
              "      <th>compositionJ</th>\n",
              "      <th>unit</th>\n",
              "      <th>result</th>\n",
              "    </tr>\n",
              "  </thead>\n",
              "  <tbody>\n",
              "    <tr>\n",
              "      <th>count</th>\n",
              "      <td>12936</td>\n",
              "      <td>12936</td>\n",
              "      <td>12936</td>\n",
              "      <td>12936</td>\n",
              "      <td>12936</td>\n",
              "      <td>12936</td>\n",
              "      <td>12936</td>\n",
              "      <td>12936.000000</td>\n",
              "      <td>12936.000000</td>\n",
              "      <td>12936.000000</td>\n",
              "      <td>...</td>\n",
              "      <td>12936.000000</td>\n",
              "      <td>12936.000000</td>\n",
              "      <td>12936.000000</td>\n",
              "      <td>12936.000000</td>\n",
              "      <td>12936.000000</td>\n",
              "      <td>12936.000000</td>\n",
              "      <td>12936.000000</td>\n",
              "      <td>12936.000000</td>\n",
              "      <td>12936</td>\n",
              "      <td>12936.000000</td>\n",
              "    </tr>\n",
              "    <tr>\n",
              "      <th>unique</th>\n",
              "      <td>12936</td>\n",
              "      <td>167</td>\n",
              "      <td>2</td>\n",
              "      <td>2201</td>\n",
              "      <td>3</td>\n",
              "      <td>23</td>\n",
              "      <td>3</td>\n",
              "      <td>NaN</td>\n",
              "      <td>NaN</td>\n",
              "      <td>NaN</td>\n",
              "      <td>...</td>\n",
              "      <td>NaN</td>\n",
              "      <td>NaN</td>\n",
              "      <td>NaN</td>\n",
              "      <td>NaN</td>\n",
              "      <td>NaN</td>\n",
              "      <td>NaN</td>\n",
              "      <td>NaN</td>\n",
              "      <td>NaN</td>\n",
              "      <td>19</td>\n",
              "      <td>NaN</td>\n",
              "    </tr>\n",
              "    <tr>\n",
              "      <th>top</th>\n",
              "      <td>a563699ca2a601c6ac64aa29986a00a90fb42b48741695...</td>\n",
              "      <td>catA_1</td>\n",
              "      <td>catB_0</td>\n",
              "      <td>catC_2</td>\n",
              "      <td>catD_0</td>\n",
              "      <td>catE_0</td>\n",
              "      <td>catF_0</td>\n",
              "      <td>NaN</td>\n",
              "      <td>NaN</td>\n",
              "      <td>NaN</td>\n",
              "      <td>...</td>\n",
              "      <td>NaN</td>\n",
              "      <td>NaN</td>\n",
              "      <td>NaN</td>\n",
              "      <td>NaN</td>\n",
              "      <td>NaN</td>\n",
              "      <td>NaN</td>\n",
              "      <td>NaN</td>\n",
              "      <td>NaN</td>\n",
              "      <td>unit_0</td>\n",
              "      <td>NaN</td>\n",
              "    </tr>\n",
              "    <tr>\n",
              "      <th>freq</th>\n",
              "      <td>1</td>\n",
              "      <td>842</td>\n",
              "      <td>12925</td>\n",
              "      <td>43</td>\n",
              "      <td>12593</td>\n",
              "      <td>6441</td>\n",
              "      <td>12903</td>\n",
              "      <td>NaN</td>\n",
              "      <td>NaN</td>\n",
              "      <td>NaN</td>\n",
              "      <td>...</td>\n",
              "      <td>NaN</td>\n",
              "      <td>NaN</td>\n",
              "      <td>NaN</td>\n",
              "      <td>NaN</td>\n",
              "      <td>NaN</td>\n",
              "      <td>NaN</td>\n",
              "      <td>NaN</td>\n",
              "      <td>NaN</td>\n",
              "      <td>2538</td>\n",
              "      <td>NaN</td>\n",
              "    </tr>\n",
              "    <tr>\n",
              "      <th>mean</th>\n",
              "      <td>NaN</td>\n",
              "      <td>NaN</td>\n",
              "      <td>NaN</td>\n",
              "      <td>NaN</td>\n",
              "      <td>NaN</td>\n",
              "      <td>NaN</td>\n",
              "      <td>NaN</td>\n",
              "      <td>116559.238066</td>\n",
              "      <td>4.526278</td>\n",
              "      <td>0.132972</td>\n",
              "      <td>...</td>\n",
              "      <td>23.627522</td>\n",
              "      <td>1.296887</td>\n",
              "      <td>32.038122</td>\n",
              "      <td>3.178698</td>\n",
              "      <td>2.024316</td>\n",
              "      <td>11.214700</td>\n",
              "      <td>23.386089</td>\n",
              "      <td>18.942594</td>\n",
              "      <td>NaN</td>\n",
              "      <td>0.144137</td>\n",
              "    </tr>\n",
              "    <tr>\n",
              "      <th>std</th>\n",
              "      <td>NaN</td>\n",
              "      <td>NaN</td>\n",
              "      <td>NaN</td>\n",
              "      <td>NaN</td>\n",
              "      <td>NaN</td>\n",
              "      <td>NaN</td>\n",
              "      <td>NaN</td>\n",
              "      <td>146502.011917</td>\n",
              "      <td>3.180817</td>\n",
              "      <td>0.264148</td>\n",
              "      <td>...</td>\n",
              "      <td>6.433507</td>\n",
              "      <td>3.724154</td>\n",
              "      <td>11.098175</td>\n",
              "      <td>1.098585</td>\n",
              "      <td>2.964965</td>\n",
              "      <td>4.860118</td>\n",
              "      <td>5.937944</td>\n",
              "      <td>4.096265</td>\n",
              "      <td>NaN</td>\n",
              "      <td>0.223929</td>\n",
              "    </tr>\n",
              "    <tr>\n",
              "      <th>min</th>\n",
              "      <td>NaN</td>\n",
              "      <td>NaN</td>\n",
              "      <td>NaN</td>\n",
              "      <td>NaN</td>\n",
              "      <td>NaN</td>\n",
              "      <td>NaN</td>\n",
              "      <td>NaN</td>\n",
              "      <td>-83749.750000</td>\n",
              "      <td>1.064468</td>\n",
              "      <td>0.000000</td>\n",
              "      <td>...</td>\n",
              "      <td>0.000000</td>\n",
              "      <td>0.000000</td>\n",
              "      <td>12.780000</td>\n",
              "      <td>1.380000</td>\n",
              "      <td>0.000000</td>\n",
              "      <td>1.450000</td>\n",
              "      <td>0.760000</td>\n",
              "      <td>6.100000</td>\n",
              "      <td>NaN</td>\n",
              "      <td>0.000000</td>\n",
              "    </tr>\n",
              "    <tr>\n",
              "      <th>25%</th>\n",
              "      <td>NaN</td>\n",
              "      <td>NaN</td>\n",
              "      <td>NaN</td>\n",
              "      <td>NaN</td>\n",
              "      <td>NaN</td>\n",
              "      <td>NaN</td>\n",
              "      <td>NaN</td>\n",
              "      <td>56744.750000</td>\n",
              "      <td>4.363288</td>\n",
              "      <td>0.005718</td>\n",
              "      <td>...</td>\n",
              "      <td>17.700000</td>\n",
              "      <td>0.000000</td>\n",
              "      <td>30.000000</td>\n",
              "      <td>3.000000</td>\n",
              "      <td>0.000000</td>\n",
              "      <td>9.000000</td>\n",
              "      <td>22.260000</td>\n",
              "      <td>18.900000</td>\n",
              "      <td>NaN</td>\n",
              "      <td>0.003922</td>\n",
              "    </tr>\n",
              "    <tr>\n",
              "      <th>50%</th>\n",
              "      <td>NaN</td>\n",
              "      <td>NaN</td>\n",
              "      <td>NaN</td>\n",
              "      <td>NaN</td>\n",
              "      <td>NaN</td>\n",
              "      <td>NaN</td>\n",
              "      <td>NaN</td>\n",
              "      <td>75808.375000</td>\n",
              "      <td>4.457840</td>\n",
              "      <td>0.005718</td>\n",
              "      <td>...</td>\n",
              "      <td>26.000000</td>\n",
              "      <td>0.000000</td>\n",
              "      <td>32.000000</td>\n",
              "      <td>3.000000</td>\n",
              "      <td>0.000000</td>\n",
              "      <td>9.000000</td>\n",
              "      <td>22.260000</td>\n",
              "      <td>20.000000</td>\n",
              "      <td>NaN</td>\n",
              "      <td>0.027952</td>\n",
              "    </tr>\n",
              "    <tr>\n",
              "      <th>75%</th>\n",
              "      <td>NaN</td>\n",
              "      <td>NaN</td>\n",
              "      <td>NaN</td>\n",
              "      <td>NaN</td>\n",
              "      <td>NaN</td>\n",
              "      <td>NaN</td>\n",
              "      <td>NaN</td>\n",
              "      <td>75808.375000</td>\n",
              "      <td>4.457840</td>\n",
              "      <td>0.032407</td>\n",
              "      <td>...</td>\n",
              "      <td>26.000000</td>\n",
              "      <td>1.940000</td>\n",
              "      <td>32.000000</td>\n",
              "      <td>3.000000</td>\n",
              "      <td>2.000000</td>\n",
              "      <td>12.330000</td>\n",
              "      <td>27.250000</td>\n",
              "      <td>20.000000</td>\n",
              "      <td>NaN</td>\n",
              "      <td>0.168404</td>\n",
              "    </tr>\n",
              "    <tr>\n",
              "      <th>max</th>\n",
              "      <td>NaN</td>\n",
              "      <td>NaN</td>\n",
              "      <td>NaN</td>\n",
              "      <td>NaN</td>\n",
              "      <td>NaN</td>\n",
              "      <td>NaN</td>\n",
              "      <td>NaN</td>\n",
              "      <td>582211.000000</td>\n",
              "      <td>25.982190</td>\n",
              "      <td>0.729194</td>\n",
              "      <td>...</td>\n",
              "      <td>44.050000</td>\n",
              "      <td>30.460000</td>\n",
              "      <td>62.300000</td>\n",
              "      <td>9.200000</td>\n",
              "      <td>7.900000</td>\n",
              "      <td>20.200000</td>\n",
              "      <td>47.830000</td>\n",
              "      <td>37.830000</td>\n",
              "      <td>NaN</td>\n",
              "      <td>1.000000</td>\n",
              "    </tr>\n",
              "  </tbody>\n",
              "</table>\n",
              "<p>11 rows × 28 columns</p>\n",
              "</div>\n",
              "      <button class=\"colab-df-convert\" onclick=\"convertToInteractive('df-43c42187-4af6-477c-81a4-265bf90a20c6')\"\n",
              "              title=\"Convert this dataframe to an interactive table.\"\n",
              "              style=\"display:none;\">\n",
              "        \n",
              "  <svg xmlns=\"http://www.w3.org/2000/svg\" height=\"24px\"viewBox=\"0 0 24 24\"\n",
              "       width=\"24px\">\n",
              "    <path d=\"M0 0h24v24H0V0z\" fill=\"none\"/>\n",
              "    <path d=\"M18.56 5.44l.94 2.06.94-2.06 2.06-.94-2.06-.94-.94-2.06-.94 2.06-2.06.94zm-11 1L8.5 8.5l.94-2.06 2.06-.94-2.06-.94L8.5 2.5l-.94 2.06-2.06.94zm10 10l.94 2.06.94-2.06 2.06-.94-2.06-.94-.94-2.06-.94 2.06-2.06.94z\"/><path d=\"M17.41 7.96l-1.37-1.37c-.4-.4-.92-.59-1.43-.59-.52 0-1.04.2-1.43.59L10.3 9.45l-7.72 7.72c-.78.78-.78 2.05 0 2.83L4 21.41c.39.39.9.59 1.41.59.51 0 1.02-.2 1.41-.59l7.78-7.78 2.81-2.81c.8-.78.8-2.07 0-2.86zM5.41 20L4 18.59l7.72-7.72 1.47 1.35L5.41 20z\"/>\n",
              "  </svg>\n",
              "      </button>\n",
              "      \n",
              "  <style>\n",
              "    .colab-df-container {\n",
              "      display:flex;\n",
              "      flex-wrap:wrap;\n",
              "      gap: 12px;\n",
              "    }\n",
              "\n",
              "    .colab-df-convert {\n",
              "      background-color: #E8F0FE;\n",
              "      border: none;\n",
              "      border-radius: 50%;\n",
              "      cursor: pointer;\n",
              "      display: none;\n",
              "      fill: #1967D2;\n",
              "      height: 32px;\n",
              "      padding: 0 0 0 0;\n",
              "      width: 32px;\n",
              "    }\n",
              "\n",
              "    .colab-df-convert:hover {\n",
              "      background-color: #E2EBFA;\n",
              "      box-shadow: 0px 1px 2px rgba(60, 64, 67, 0.3), 0px 1px 3px 1px rgba(60, 64, 67, 0.15);\n",
              "      fill: #174EA6;\n",
              "    }\n",
              "\n",
              "    [theme=dark] .colab-df-convert {\n",
              "      background-color: #3B4455;\n",
              "      fill: #D2E3FC;\n",
              "    }\n",
              "\n",
              "    [theme=dark] .colab-df-convert:hover {\n",
              "      background-color: #434B5C;\n",
              "      box-shadow: 0px 1px 3px 1px rgba(0, 0, 0, 0.15);\n",
              "      filter: drop-shadow(0px 1px 2px rgba(0, 0, 0, 0.3));\n",
              "      fill: #FFFFFF;\n",
              "    }\n",
              "  </style>\n",
              "\n",
              "      <script>\n",
              "        const buttonEl =\n",
              "          document.querySelector('#df-43c42187-4af6-477c-81a4-265bf90a20c6 button.colab-df-convert');\n",
              "        buttonEl.style.display =\n",
              "          google.colab.kernel.accessAllowed ? 'block' : 'none';\n",
              "\n",
              "        async function convertToInteractive(key) {\n",
              "          const element = document.querySelector('#df-43c42187-4af6-477c-81a4-265bf90a20c6');\n",
              "          const dataTable =\n",
              "            await google.colab.kernel.invokeFunction('convertToInteractive',\n",
              "                                                     [key], {});\n",
              "          if (!dataTable) return;\n",
              "\n",
              "          const docLinkHtml = 'Like what you see? Visit the ' +\n",
              "            '<a target=\"_blank\" href=https://colab.research.google.com/notebooks/data_table.ipynb>data table notebook</a>'\n",
              "            + ' to learn more about interactive tables.';\n",
              "          element.innerHTML = '';\n",
              "          dataTable['output_type'] = 'display_data';\n",
              "          await google.colab.output.renderOutput(dataTable, element);\n",
              "          const docLink = document.createElement('div');\n",
              "          docLink.innerHTML = docLinkHtml;\n",
              "          element.appendChild(docLink);\n",
              "        }\n",
              "      </script>\n",
              "    </div>\n",
              "  </div>\n",
              "  "
            ]
          },
          "metadata": {},
          "execution_count": 23
        }
      ]
    },
    {
      "cell_type": "code",
      "source": [
        "test.describe(include='all')"
      ],
      "metadata": {
        "colab": {
          "base_uri": "https://localhost:8080/",
          "height": 488
        },
        "id": "Z9YxckVZmamB",
        "outputId": "55b8b564-94e7-4d97-f5ec-42d7dee10257"
      },
      "execution_count": 24,
      "outputs": [
        {
          "output_type": "execute_result",
          "data": {
            "text/plain": [
              "                                                       id categoryA categoryB  \\\n",
              "count                                               13000     13000     13000   \n",
              "unique                                              13000       167         2   \n",
              "top     a563699ca2a601c6ac64aa29986a00a90fb42b48741695...    catA_1    catB_0   \n",
              "freq                                                    1       853     12989   \n",
              "mean                                                  NaN       NaN       NaN   \n",
              "std                                                   NaN       NaN       NaN   \n",
              "min                                                   NaN       NaN       NaN   \n",
              "25%                                                   NaN       NaN       NaN   \n",
              "50%                                                   NaN       NaN       NaN   \n",
              "75%                                                   NaN       NaN       NaN   \n",
              "max                                                   NaN       NaN       NaN   \n",
              "\n",
              "       categoryC categoryD categoryE categoryF       featureA      featureB  \\\n",
              "count      13000     13000     13000     13000   12936.000000  12936.000000   \n",
              "unique      2212         3        25         3            NaN           NaN   \n",
              "top       catC_2    catD_0    catE_0    catF_0            NaN           NaN   \n",
              "freq          43     12657      6441     12967            NaN           NaN   \n",
              "mean         NaN       NaN       NaN       NaN  116559.238066      4.526278   \n",
              "std          NaN       NaN       NaN       NaN  146502.011917      3.180817   \n",
              "min          NaN       NaN       NaN       NaN  -83749.750000      1.064468   \n",
              "25%          NaN       NaN       NaN       NaN   56744.750000      4.363288   \n",
              "50%          NaN       NaN       NaN       NaN   75808.375000      4.457840   \n",
              "75%          NaN       NaN       NaN       NaN   75808.375000      4.457840   \n",
              "max          NaN       NaN       NaN       NaN  582211.000000     25.982190   \n",
              "\n",
              "            featureC  ...  compositionC  compositionD  compositionE  \\\n",
              "count   12936.000000  ...  12936.000000  12936.000000  12936.000000   \n",
              "unique           NaN  ...           NaN           NaN           NaN   \n",
              "top              NaN  ...           NaN           NaN           NaN   \n",
              "freq             NaN  ...           NaN           NaN           NaN   \n",
              "mean        0.132972  ...     23.627522      1.296887     32.038122   \n",
              "std         0.264148  ...      6.433507      3.724154     11.098175   \n",
              "min         0.000000  ...      0.000000      0.000000     12.780000   \n",
              "25%         0.005718  ...     17.700000      0.000000     30.000000   \n",
              "50%         0.005718  ...     26.000000      0.000000     32.000000   \n",
              "75%         0.032407  ...     26.000000      1.940000     32.000000   \n",
              "max         0.729194  ...     44.050000     30.460000     62.300000   \n",
              "\n",
              "        compositionF  compositionG  compositionH  compositionI  compositionJ  \\\n",
              "count   12936.000000  12936.000000  12936.000000  12936.000000  12936.000000   \n",
              "unique           NaN           NaN           NaN           NaN           NaN   \n",
              "top              NaN           NaN           NaN           NaN           NaN   \n",
              "freq             NaN           NaN           NaN           NaN           NaN   \n",
              "mean        3.178698      2.024316     11.214700     23.386089     18.942594   \n",
              "std         1.098585      2.964965      4.860118      5.937944      4.096265   \n",
              "min         1.380000      0.000000      1.450000      0.760000      6.100000   \n",
              "25%         3.000000      0.000000      9.000000     22.260000     18.900000   \n",
              "50%         3.000000      0.000000      9.000000     22.260000     20.000000   \n",
              "75%         3.000000      2.000000     12.330000     27.250000     20.000000   \n",
              "max         9.200000      7.900000     20.200000     47.830000     37.830000   \n",
              "\n",
              "          unit        result  \n",
              "count    13000  13000.000000  \n",
              "unique      19           NaN  \n",
              "top     unit_0           NaN  \n",
              "freq      2548           NaN  \n",
              "mean       NaN      0.144223  \n",
              "std        NaN      0.224062  \n",
              "min        NaN      0.000000  \n",
              "25%        NaN      0.003875  \n",
              "50%        NaN      0.027909  \n",
              "75%        NaN      0.168678  \n",
              "max        NaN      1.000000  \n",
              "\n",
              "[11 rows x 28 columns]"
            ],
            "text/html": [
              "\n",
              "  <div id=\"df-c27bd66a-0e7f-4e66-a18c-400517a56ecd\">\n",
              "    <div class=\"colab-df-container\">\n",
              "      <div>\n",
              "<style scoped>\n",
              "    .dataframe tbody tr th:only-of-type {\n",
              "        vertical-align: middle;\n",
              "    }\n",
              "\n",
              "    .dataframe tbody tr th {\n",
              "        vertical-align: top;\n",
              "    }\n",
              "\n",
              "    .dataframe thead th {\n",
              "        text-align: right;\n",
              "    }\n",
              "</style>\n",
              "<table border=\"1\" class=\"dataframe\">\n",
              "  <thead>\n",
              "    <tr style=\"text-align: right;\">\n",
              "      <th></th>\n",
              "      <th>id</th>\n",
              "      <th>categoryA</th>\n",
              "      <th>categoryB</th>\n",
              "      <th>categoryC</th>\n",
              "      <th>categoryD</th>\n",
              "      <th>categoryE</th>\n",
              "      <th>categoryF</th>\n",
              "      <th>featureA</th>\n",
              "      <th>featureB</th>\n",
              "      <th>featureC</th>\n",
              "      <th>...</th>\n",
              "      <th>compositionC</th>\n",
              "      <th>compositionD</th>\n",
              "      <th>compositionE</th>\n",
              "      <th>compositionF</th>\n",
              "      <th>compositionG</th>\n",
              "      <th>compositionH</th>\n",
              "      <th>compositionI</th>\n",
              "      <th>compositionJ</th>\n",
              "      <th>unit</th>\n",
              "      <th>result</th>\n",
              "    </tr>\n",
              "  </thead>\n",
              "  <tbody>\n",
              "    <tr>\n",
              "      <th>count</th>\n",
              "      <td>13000</td>\n",
              "      <td>13000</td>\n",
              "      <td>13000</td>\n",
              "      <td>13000</td>\n",
              "      <td>13000</td>\n",
              "      <td>13000</td>\n",
              "      <td>13000</td>\n",
              "      <td>12936.000000</td>\n",
              "      <td>12936.000000</td>\n",
              "      <td>12936.000000</td>\n",
              "      <td>...</td>\n",
              "      <td>12936.000000</td>\n",
              "      <td>12936.000000</td>\n",
              "      <td>12936.000000</td>\n",
              "      <td>12936.000000</td>\n",
              "      <td>12936.000000</td>\n",
              "      <td>12936.000000</td>\n",
              "      <td>12936.000000</td>\n",
              "      <td>12936.000000</td>\n",
              "      <td>13000</td>\n",
              "      <td>13000.000000</td>\n",
              "    </tr>\n",
              "    <tr>\n",
              "      <th>unique</th>\n",
              "      <td>13000</td>\n",
              "      <td>167</td>\n",
              "      <td>2</td>\n",
              "      <td>2212</td>\n",
              "      <td>3</td>\n",
              "      <td>25</td>\n",
              "      <td>3</td>\n",
              "      <td>NaN</td>\n",
              "      <td>NaN</td>\n",
              "      <td>NaN</td>\n",
              "      <td>...</td>\n",
              "      <td>NaN</td>\n",
              "      <td>NaN</td>\n",
              "      <td>NaN</td>\n",
              "      <td>NaN</td>\n",
              "      <td>NaN</td>\n",
              "      <td>NaN</td>\n",
              "      <td>NaN</td>\n",
              "      <td>NaN</td>\n",
              "      <td>19</td>\n",
              "      <td>NaN</td>\n",
              "    </tr>\n",
              "    <tr>\n",
              "      <th>top</th>\n",
              "      <td>a563699ca2a601c6ac64aa29986a00a90fb42b48741695...</td>\n",
              "      <td>catA_1</td>\n",
              "      <td>catB_0</td>\n",
              "      <td>catC_2</td>\n",
              "      <td>catD_0</td>\n",
              "      <td>catE_0</td>\n",
              "      <td>catF_0</td>\n",
              "      <td>NaN</td>\n",
              "      <td>NaN</td>\n",
              "      <td>NaN</td>\n",
              "      <td>...</td>\n",
              "      <td>NaN</td>\n",
              "      <td>NaN</td>\n",
              "      <td>NaN</td>\n",
              "      <td>NaN</td>\n",
              "      <td>NaN</td>\n",
              "      <td>NaN</td>\n",
              "      <td>NaN</td>\n",
              "      <td>NaN</td>\n",
              "      <td>unit_0</td>\n",
              "      <td>NaN</td>\n",
              "    </tr>\n",
              "    <tr>\n",
              "      <th>freq</th>\n",
              "      <td>1</td>\n",
              "      <td>853</td>\n",
              "      <td>12989</td>\n",
              "      <td>43</td>\n",
              "      <td>12657</td>\n",
              "      <td>6441</td>\n",
              "      <td>12967</td>\n",
              "      <td>NaN</td>\n",
              "      <td>NaN</td>\n",
              "      <td>NaN</td>\n",
              "      <td>...</td>\n",
              "      <td>NaN</td>\n",
              "      <td>NaN</td>\n",
              "      <td>NaN</td>\n",
              "      <td>NaN</td>\n",
              "      <td>NaN</td>\n",
              "      <td>NaN</td>\n",
              "      <td>NaN</td>\n",
              "      <td>NaN</td>\n",
              "      <td>2548</td>\n",
              "      <td>NaN</td>\n",
              "    </tr>\n",
              "    <tr>\n",
              "      <th>mean</th>\n",
              "      <td>NaN</td>\n",
              "      <td>NaN</td>\n",
              "      <td>NaN</td>\n",
              "      <td>NaN</td>\n",
              "      <td>NaN</td>\n",
              "      <td>NaN</td>\n",
              "      <td>NaN</td>\n",
              "      <td>116559.238066</td>\n",
              "      <td>4.526278</td>\n",
              "      <td>0.132972</td>\n",
              "      <td>...</td>\n",
              "      <td>23.627522</td>\n",
              "      <td>1.296887</td>\n",
              "      <td>32.038122</td>\n",
              "      <td>3.178698</td>\n",
              "      <td>2.024316</td>\n",
              "      <td>11.214700</td>\n",
              "      <td>23.386089</td>\n",
              "      <td>18.942594</td>\n",
              "      <td>NaN</td>\n",
              "      <td>0.144223</td>\n",
              "    </tr>\n",
              "    <tr>\n",
              "      <th>std</th>\n",
              "      <td>NaN</td>\n",
              "      <td>NaN</td>\n",
              "      <td>NaN</td>\n",
              "      <td>NaN</td>\n",
              "      <td>NaN</td>\n",
              "      <td>NaN</td>\n",
              "      <td>NaN</td>\n",
              "      <td>146502.011917</td>\n",
              "      <td>3.180817</td>\n",
              "      <td>0.264148</td>\n",
              "      <td>...</td>\n",
              "      <td>6.433507</td>\n",
              "      <td>3.724154</td>\n",
              "      <td>11.098175</td>\n",
              "      <td>1.098585</td>\n",
              "      <td>2.964965</td>\n",
              "      <td>4.860118</td>\n",
              "      <td>5.937944</td>\n",
              "      <td>4.096265</td>\n",
              "      <td>NaN</td>\n",
              "      <td>0.224062</td>\n",
              "    </tr>\n",
              "    <tr>\n",
              "      <th>min</th>\n",
              "      <td>NaN</td>\n",
              "      <td>NaN</td>\n",
              "      <td>NaN</td>\n",
              "      <td>NaN</td>\n",
              "      <td>NaN</td>\n",
              "      <td>NaN</td>\n",
              "      <td>NaN</td>\n",
              "      <td>-83749.750000</td>\n",
              "      <td>1.064468</td>\n",
              "      <td>0.000000</td>\n",
              "      <td>...</td>\n",
              "      <td>0.000000</td>\n",
              "      <td>0.000000</td>\n",
              "      <td>12.780000</td>\n",
              "      <td>1.380000</td>\n",
              "      <td>0.000000</td>\n",
              "      <td>1.450000</td>\n",
              "      <td>0.760000</td>\n",
              "      <td>6.100000</td>\n",
              "      <td>NaN</td>\n",
              "      <td>0.000000</td>\n",
              "    </tr>\n",
              "    <tr>\n",
              "      <th>25%</th>\n",
              "      <td>NaN</td>\n",
              "      <td>NaN</td>\n",
              "      <td>NaN</td>\n",
              "      <td>NaN</td>\n",
              "      <td>NaN</td>\n",
              "      <td>NaN</td>\n",
              "      <td>NaN</td>\n",
              "      <td>56744.750000</td>\n",
              "      <td>4.363288</td>\n",
              "      <td>0.005718</td>\n",
              "      <td>...</td>\n",
              "      <td>17.700000</td>\n",
              "      <td>0.000000</td>\n",
              "      <td>30.000000</td>\n",
              "      <td>3.000000</td>\n",
              "      <td>0.000000</td>\n",
              "      <td>9.000000</td>\n",
              "      <td>22.260000</td>\n",
              "      <td>18.900000</td>\n",
              "      <td>NaN</td>\n",
              "      <td>0.003875</td>\n",
              "    </tr>\n",
              "    <tr>\n",
              "      <th>50%</th>\n",
              "      <td>NaN</td>\n",
              "      <td>NaN</td>\n",
              "      <td>NaN</td>\n",
              "      <td>NaN</td>\n",
              "      <td>NaN</td>\n",
              "      <td>NaN</td>\n",
              "      <td>NaN</td>\n",
              "      <td>75808.375000</td>\n",
              "      <td>4.457840</td>\n",
              "      <td>0.005718</td>\n",
              "      <td>...</td>\n",
              "      <td>26.000000</td>\n",
              "      <td>0.000000</td>\n",
              "      <td>32.000000</td>\n",
              "      <td>3.000000</td>\n",
              "      <td>0.000000</td>\n",
              "      <td>9.000000</td>\n",
              "      <td>22.260000</td>\n",
              "      <td>20.000000</td>\n",
              "      <td>NaN</td>\n",
              "      <td>0.027909</td>\n",
              "    </tr>\n",
              "    <tr>\n",
              "      <th>75%</th>\n",
              "      <td>NaN</td>\n",
              "      <td>NaN</td>\n",
              "      <td>NaN</td>\n",
              "      <td>NaN</td>\n",
              "      <td>NaN</td>\n",
              "      <td>NaN</td>\n",
              "      <td>NaN</td>\n",
              "      <td>75808.375000</td>\n",
              "      <td>4.457840</td>\n",
              "      <td>0.032407</td>\n",
              "      <td>...</td>\n",
              "      <td>26.000000</td>\n",
              "      <td>1.940000</td>\n",
              "      <td>32.000000</td>\n",
              "      <td>3.000000</td>\n",
              "      <td>2.000000</td>\n",
              "      <td>12.330000</td>\n",
              "      <td>27.250000</td>\n",
              "      <td>20.000000</td>\n",
              "      <td>NaN</td>\n",
              "      <td>0.168678</td>\n",
              "    </tr>\n",
              "    <tr>\n",
              "      <th>max</th>\n",
              "      <td>NaN</td>\n",
              "      <td>NaN</td>\n",
              "      <td>NaN</td>\n",
              "      <td>NaN</td>\n",
              "      <td>NaN</td>\n",
              "      <td>NaN</td>\n",
              "      <td>NaN</td>\n",
              "      <td>582211.000000</td>\n",
              "      <td>25.982190</td>\n",
              "      <td>0.729194</td>\n",
              "      <td>...</td>\n",
              "      <td>44.050000</td>\n",
              "      <td>30.460000</td>\n",
              "      <td>62.300000</td>\n",
              "      <td>9.200000</td>\n",
              "      <td>7.900000</td>\n",
              "      <td>20.200000</td>\n",
              "      <td>47.830000</td>\n",
              "      <td>37.830000</td>\n",
              "      <td>NaN</td>\n",
              "      <td>1.000000</td>\n",
              "    </tr>\n",
              "  </tbody>\n",
              "</table>\n",
              "<p>11 rows × 28 columns</p>\n",
              "</div>\n",
              "      <button class=\"colab-df-convert\" onclick=\"convertToInteractive('df-c27bd66a-0e7f-4e66-a18c-400517a56ecd')\"\n",
              "              title=\"Convert this dataframe to an interactive table.\"\n",
              "              style=\"display:none;\">\n",
              "        \n",
              "  <svg xmlns=\"http://www.w3.org/2000/svg\" height=\"24px\"viewBox=\"0 0 24 24\"\n",
              "       width=\"24px\">\n",
              "    <path d=\"M0 0h24v24H0V0z\" fill=\"none\"/>\n",
              "    <path d=\"M18.56 5.44l.94 2.06.94-2.06 2.06-.94-2.06-.94-.94-2.06-.94 2.06-2.06.94zm-11 1L8.5 8.5l.94-2.06 2.06-.94-2.06-.94L8.5 2.5l-.94 2.06-2.06.94zm10 10l.94 2.06.94-2.06 2.06-.94-2.06-.94-.94-2.06-.94 2.06-2.06.94z\"/><path d=\"M17.41 7.96l-1.37-1.37c-.4-.4-.92-.59-1.43-.59-.52 0-1.04.2-1.43.59L10.3 9.45l-7.72 7.72c-.78.78-.78 2.05 0 2.83L4 21.41c.39.39.9.59 1.41.59.51 0 1.02-.2 1.41-.59l7.78-7.78 2.81-2.81c.8-.78.8-2.07 0-2.86zM5.41 20L4 18.59l7.72-7.72 1.47 1.35L5.41 20z\"/>\n",
              "  </svg>\n",
              "      </button>\n",
              "      \n",
              "  <style>\n",
              "    .colab-df-container {\n",
              "      display:flex;\n",
              "      flex-wrap:wrap;\n",
              "      gap: 12px;\n",
              "    }\n",
              "\n",
              "    .colab-df-convert {\n",
              "      background-color: #E8F0FE;\n",
              "      border: none;\n",
              "      border-radius: 50%;\n",
              "      cursor: pointer;\n",
              "      display: none;\n",
              "      fill: #1967D2;\n",
              "      height: 32px;\n",
              "      padding: 0 0 0 0;\n",
              "      width: 32px;\n",
              "    }\n",
              "\n",
              "    .colab-df-convert:hover {\n",
              "      background-color: #E2EBFA;\n",
              "      box-shadow: 0px 1px 2px rgba(60, 64, 67, 0.3), 0px 1px 3px 1px rgba(60, 64, 67, 0.15);\n",
              "      fill: #174EA6;\n",
              "    }\n",
              "\n",
              "    [theme=dark] .colab-df-convert {\n",
              "      background-color: #3B4455;\n",
              "      fill: #D2E3FC;\n",
              "    }\n",
              "\n",
              "    [theme=dark] .colab-df-convert:hover {\n",
              "      background-color: #434B5C;\n",
              "      box-shadow: 0px 1px 3px 1px rgba(0, 0, 0, 0.15);\n",
              "      filter: drop-shadow(0px 1px 2px rgba(0, 0, 0, 0.3));\n",
              "      fill: #FFFFFF;\n",
              "    }\n",
              "  </style>\n",
              "\n",
              "      <script>\n",
              "        const buttonEl =\n",
              "          document.querySelector('#df-c27bd66a-0e7f-4e66-a18c-400517a56ecd button.colab-df-convert');\n",
              "        buttonEl.style.display =\n",
              "          google.colab.kernel.accessAllowed ? 'block' : 'none';\n",
              "\n",
              "        async function convertToInteractive(key) {\n",
              "          const element = document.querySelector('#df-c27bd66a-0e7f-4e66-a18c-400517a56ecd');\n",
              "          const dataTable =\n",
              "            await google.colab.kernel.invokeFunction('convertToInteractive',\n",
              "                                                     [key], {});\n",
              "          if (!dataTable) return;\n",
              "\n",
              "          const docLinkHtml = 'Like what you see? Visit the ' +\n",
              "            '<a target=\"_blank\" href=https://colab.research.google.com/notebooks/data_table.ipynb>data table notebook</a>'\n",
              "            + ' to learn more about interactive tables.';\n",
              "          element.innerHTML = '';\n",
              "          dataTable['output_type'] = 'display_data';\n",
              "          await google.colab.output.renderOutput(dataTable, element);\n",
              "          const docLink = document.createElement('div');\n",
              "          docLink.innerHTML = docLinkHtml;\n",
              "          element.appendChild(docLink);\n",
              "        }\n",
              "      </script>\n",
              "    </div>\n",
              "  </div>\n",
              "  "
            ]
          },
          "metadata": {},
          "execution_count": 24
        }
      ]
    },
    {
      "cell_type": "code",
      "source": [
        "cor=data.corr()\n",
        "font={\"size\":1220,\"family\":\"normal\"}\n",
        "\n",
        "plt.figure(figsize=(12,8))\n",
        "sns.heatmap(cor, annot=True, cmap='coolwarm',fmt=\".1f\")\n",
        "plt.show()"
      ],
      "metadata": {
        "colab": {
          "base_uri": "https://localhost:8080/",
          "height": 512
        },
        "id": "CLYkphsNOQHj",
        "outputId": "2186366f-ffae-4e3e-acf7-1704818f26cf"
      },
      "execution_count": 16,
      "outputs": [
        {
          "output_type": "display_data",
          "data": {
            "text/plain": [
              "<Figure size 864x576 with 2 Axes>"
            ],
            "image/png": "[encoded data removed]"
          },
          "metadata": {
            "needs_background": "light"
          }
        }
      ]
    },
    {
      "cell_type": "markdown",
      "source": [
        "Присутствует корреляция между переменными, но неясно как именно влияет связь на итоговый результат, поэтому решено пока оставить все как есть"
      ],
      "metadata": {
        "id": "lHO_logP66Ew"
      }
    },
    {
      "cell_type": "code",
      "source": [
        "\n",
        "features_num = ['featureA', 'featureB', 'featureC', 'featureD', 'featureE',\n",
        "                'featureF', 'featureG', 'featureH', 'featureI', 'compositionA',\n",
        "                'compositionB', 'compositionC', 'compositionD', 'compositionE',\n",
        "                'compositionF', 'compositionG', 'compositionH', 'compositionI',\n",
        "                'compositionJ']\n",
        "\n",
        "features_cat = ['categoryA', 'categoryB', 'categoryC', 'categoryD', 'categoryE',\n",
        "                'categoryF',  'unit']\n",
        "\n",
        "target = 'result'"
      ],
      "metadata": {
        "id": "WkQeyQxOmrh4"
      },
      "execution_count": 59,
      "outputs": []
    },
    {
      "cell_type": "code",
      "source": [
        "\n",
        "for f in features_num:\n",
        "    plt.figure(figsize=(14,3))\n",
        "    ax1 = plt.subplot(1,2,1)\n",
        "    data[f].plot(kind='hist', bins=25)\n",
        "    plt.title(f + ' - Train')\n",
        "    plt.grid()\n",
        "    ax2 = plt.subplot(1,2,2, sharex=ax1)\n",
        "    test[f].plot(kind='hist', bins=25)\n",
        "    plt.title(f + ' - Test')\n",
        "    plt.grid()\n",
        "    plt.show()"
      ],
      "metadata": {
        "id": "nGu2AAOLOdnM",
        "colab": {
          "base_uri": "https://localhost:8080/",
          "height": 1000
        },
        "outputId": "e673d1a0-5f98-42bf-9152-4048c6c41047"
      },
      "execution_count": 26,
      "outputs": [
        {
          "output_type": "display_data",
          "data": {
            "text/plain": [
              "<Figure size 1008x216 with 2 Axes>"
            ],
            "image/png": "[encoded data removed]"
          },
          "metadata": {
            "needs_background": "light"
          }
        },
        {
          "output_type": "display_data",
          "data": {
            "text/plain": [
              "<Figure size 1008x216 with 2 Axes>"
            ],
            "image/png": "[encoded data removed]"
          },
          "metadata": {
            "needs_background": "light"
          }
        },
        {
          "output_type": "display_data",
          "data": {
            "text/plain": [
              "<Figure size 1008x216 with 2 Axes>"
            ],
            "image/png": "[encoded data removed]"
          },
          "metadata": {
            "needs_background": "light"
          }
        },
        {
          "output_type": "display_data",
          "data": {
            "text/plain": [
              "<Figure size 1008x216 with 2 Axes>"
            ],
            "image/png": "[encoded data removed]"
          },
          "metadata": {
            "needs_background": "light"
          }
        },
        {
          "output_type": "display_data",
          "data": {
            "text/plain": [
              "<Figure size 1008x216 with 2 Axes>"
            ],
            "image/png": "[encoded data removed]"
          },
          "metadata": {
            "needs_background": "light"
          }
        },
        {
          "output_type": "display_data",
          "data": {
            "text/plain": [
              "<Figure size 1008x216 with 2 Axes>"
            ],
            "image/png": "[encoded data removed]"
          },
          "metadata": {
            "needs_background": "light"
          }
        },
        {
          "output_type": "display_data",
          "data": {
            "text/plain": [
              "<Figure size 1008x216 with 2 Axes>"
            ],
            "image/png": "[encoded data removed]"
          },
          "metadata": {
            "needs_background": "light"
          }
        },
        {
          "output_type": "display_data",
          "data": {
            "text/plain": [
              "<Figure size 1008x216 with 2 Axes>"
            ],
            "image/png": "[encoded data removed]"
          },
          "metadata": {
            "needs_background": "light"
          }
        },
        {
          "output_type": "display_data",
          "data": {
            "text/plain": [
              "<Figure size 1008x216 with 2 Axes>"
            ],
            "image/png": "[encoded data removed]"
          },
          "metadata": {
            "needs_background": "light"
          }
        },
        {
          "output_type": "display_data",
          "data": {
            "text/plain": [
              "<Figure size 1008x216 with 2 Axes>"
            ],
            "image/png": "[encoded data removed]"
          },
          "metadata": {
            "needs_background": "light"
          }
        },
        {
          "output_type": "display_data",
          "data": {
            "text/plain": [
              "<Figure size 1008x216 with 2 Axes>"
            ],
            "image/png": "[encoded data removed]"
          },
          "metadata": {
            "needs_background": "light"
          }
        },
        {
          "output_type": "display_data",
          "data": {
            "text/plain": [
              "<Figure size 1008x216 with 2 Axes>"
            ],
            "image/png": "[encoded data removed]"
          },
          "metadata": {
            "needs_background": "light"
          }
        },
        {
          "output_type": "display_data",
          "data": {
            "text/plain": [
              "<Figure size 1008x216 with 2 Axes>"
            ],
            "image/png": "[encoded data removed]"
          },
          "metadata": {
            "needs_background": "light"
          }
        },
        {
          "output_type": "display_data",
          "data": {
            "text/plain": [
              "<Figure size 1008x216 with 2 Axes>"
            ],
            "image/png": "[encoded data removed]"
          },
          "metadata": {
            "needs_background": "light"
          }
        },
        {
          "output_type": "display_data",
          "data": {
            "text/plain": [
              "<Figure size 1008x216 with 2 Axes>"
            ],
            "image/png": "[encoded data removed]"
          },
          "metadata": {
            "needs_background": "light"
          }
        },
        {
          "output_type": "display_data",
          "data": {
            "text/plain": [
              "<Figure size 1008x216 with 2 Axes>"
            ],
            "image/png": "[encoded data removed]"
          },
          "metadata": {
            "needs_background": "light"
          }
        },
        {
          "output_type": "display_data",
          "data": {
            "text/plain": [
              "<Figure size 1008x216 with 2 Axes>"
            ],
            "image/png": "[encoded data removed]"
          },
          "metadata": {
            "needs_background": "light"
          }
        },
        {
          "output_type": "display_data",
          "data": {
            "text/plain": [
              "<Figure size 1008x216 with 2 Axes>"
            ],
            "image/png": "[encoded data removed]"
          },
          "metadata": {
            "needs_background": "light"
          }
        },
        {
          "output_type": "display_data",
          "data": {
            "text/plain": [
              "<Figure size 1008x216 with 2 Axes>"
            ],
            "image/png": "[encoded data removed]"
          },
          "metadata": {
            "needs_background": "light"
          }
        }
      ]
    },
    {
      "cell_type": "markdown",
      "source": [
        "Распредление признаков не похоже на нормальное и определяет наболее повторящиеся признаки "
      ],
      "metadata": {
        "id": "4d8WIho87ILo"
      }
    },
    {
      "cell_type": "code",
      "source": [
        "# boxplots (train and test)\n",
        "for f in features_num:\n",
        "    plt.figure(figsize=(14,1))\n",
        "    ax1 = plt.subplot(1,2,1)\n",
        "    data_temp = data[f].dropna() # boxplot does not like missings...\n",
        "    plt.boxplot(data_temp, vert=False)\n",
        "    plt.title(f + ' - Train')\n",
        "    plt.grid()\n",
        "    ax2 = plt.subplot(1,2,2, sharex=ax1)\n",
        "    test_temp = test[f].dropna()\n",
        "    plt.boxplot(test_temp, vert=False)\n",
        "    plt.title(f + ' - Test')\n",
        "    plt.grid()\n",
        "    plt.show()"
      ],
      "metadata": {
        "colab": {
          "base_uri": "https://localhost:8080/",
          "height": 1000
        },
        "id": "Tj2YZglOhWq-",
        "outputId": "4160de1b-c98a-4d0c-f8f8-7c909927297b"
      },
      "execution_count": 32,
      "outputs": [
        {
          "output_type": "display_data",
          "data": {
            "text/plain": [
              "<Figure size 1008x72 with 2 Axes>"
            ],
            "image/png": "[encoded data removed]"
          },
          "metadata": {
            "needs_background": "light"
          }
        },
        {
          "output_type": "display_data",
          "data": {
            "text/plain": [
              "<Figure size 1008x72 with 2 Axes>"
            ],
            "image/png": "[encoded data removed]"
          },
          "metadata": {
            "needs_background": "light"
          }
        },
        {
          "output_type": "display_data",
          "data": {
            "text/plain": [
              "<Figure size 1008x72 with 2 Axes>"
            ],
            "image/png": "[encoded data removed]"
          },
          "metadata": {
            "needs_background": "light"
          }
        },
        {
          "output_type": "display_data",
          "data": {
            "text/plain": [
              "<Figure size 1008x72 with 2 Axes>"
            ],
            "image/png": "[encoded data removed]"
          },
          "metadata": {
            "needs_background": "light"
          }
        },
        {
          "output_type": "display_data",
          "data": {
            "text/plain": [
              "<Figure size 1008x72 with 2 Axes>"
            ],
            "image/png": "[encoded data removed]"
          },
          "metadata": {
            "needs_background": "light"
          }
        },
        {
          "output_type": "display_data",
          "data": {
            "text/plain": [
              "<Figure size 1008x72 with 2 Axes>"
            ],
            "image/png": "[encoded data removed]"
          },
          "metadata": {
            "needs_background": "light"
          }
        },
        {
          "output_type": "display_data",
          "data": {
            "text/plain": [
              "<Figure size 1008x72 with 2 Axes>"
            ],
            "image/png": "[encoded data removed]"
          },
          "metadata": {
            "needs_background": "light"
          }
        },
        {
          "output_type": "display_data",
          "data": {
            "text/plain": [
              "<Figure size 1008x72 with 2 Axes>"
            ],
            "image/png": "[encoded data removed]"
          },
          "metadata": {
            "needs_background": "light"
          }
        },
        {
          "output_type": "display_data",
          "data": {
            "text/plain": [
              "<Figure size 1008x72 with 2 Axes>"
            ],
            "image/png": "[encoded data removed]"
          },
          "metadata": {
            "needs_background": "light"
          }
        },
        {
          "output_type": "display_data",
          "data": {
            "text/plain": [
              "<Figure size 1008x72 with 2 Axes>"
            ],
            "image/png": "[encoded data removed]"
          },
          "metadata": {
            "needs_background": "light"
          }
        },
        {
          "output_type": "display_data",
          "data": {
            "text/plain": [
              "<Figure size 1008x72 with 2 Axes>"
            ],
            "image/png": "[encoded data removed]"
          },
          "metadata": {
            "needs_background": "light"
          }
        },
        {
          "output_type": "display_data",
          "data": {
            "text/plain": [
              "<Figure size 1008x72 with 2 Axes>"
            ],
            "image/png": "[encoded data removed]"
          },
          "metadata": {
            "needs_background": "light"
          }
        },
        {
          "output_type": "display_data",
          "data": {
            "text/plain": [
              "<Figure size 1008x72 with 2 Axes>"
            ],
            "image/png": "[encoded data removed]"
          },
          "metadata": {
            "needs_background": "light"
          }
        },
        {
          "output_type": "display_data",
          "data": {
            "text/plain": [
              "<Figure size 1008x72 with 2 Axes>"
            ],
            "image/png": "[encoded data removed]"
          },
          "metadata": {
            "needs_background": "light"
          }
        },
        {
          "output_type": "display_data",
          "data": {
            "text/plain": [
              "<Figure size 1008x72 with 2 Axes>"
            ],
            "image/png": "[encoded data removed]"
          },
          "metadata": {
            "needs_background": "light"
          }
        },
        {
          "output_type": "display_data",
          "data": {
            "text/plain": [
              "<Figure size 1008x72 with 2 Axes>"
            ],
            "image/png": "[encoded data removed]"
          },
          "metadata": {
            "needs_background": "light"
          }
        },
        {
          "output_type": "display_data",
          "data": {
            "text/plain": [
              "<Figure size 1008x72 with 2 Axes>"
            ],
            "image/png": "[encoded data removed]"
          },
          "metadata": {
            "needs_background": "light"
          }
        },
        {
          "output_type": "display_data",
          "data": {
            "text/plain": [
              "<Figure size 1008x72 with 2 Axes>"
            ],
            "image/png": "[encoded data removed]"
          },
          "metadata": {
            "needs_background": "light"
          }
        },
        {
          "output_type": "display_data",
          "data": {
            "text/plain": [
              "<Figure size 1008x72 with 2 Axes>"
            ],
            "image/png": "[encoded data removed]"
          },
          "metadata": {
            "needs_background": "light"
          }
        }
      ]
    },
    {
      "cell_type": "code",
      "source": [
        "data.columns"
      ],
      "metadata": {
        "colab": {
          "base_uri": "https://localhost:8080/"
        },
        "id": "blPOS2rWhWuh",
        "outputId": "f4ba6901-4cd6-4dd8-d1f8-39b2f9a3f5cc"
      },
      "execution_count": 33,
      "outputs": [
        {
          "output_type": "execute_result",
          "data": {
            "text/plain": [
              "Index(['id', 'categoryA', 'categoryB', 'categoryC', 'categoryD', 'categoryE',\n",
              "       'categoryF', 'featureA', 'featureB', 'featureC', 'featureD', 'featureE',\n",
              "       'featureF', 'featureG', 'featureH', 'featureI', 'compositionA',\n",
              "       'compositionB', 'compositionC', 'compositionD', 'compositionE',\n",
              "       'compositionF', 'compositionG', 'compositionH', 'compositionI',\n",
              "       'compositionJ', 'unit', 'result'],\n",
              "      dtype='object')"
            ]
          },
          "metadata": {},
          "execution_count": 33
        }
      ]
    },
    {
      "cell_type": "markdown",
      "source": [
        "Построение модели"
      ],
      "metadata": {
        "id": "CKS_04x5hW45"
      }
    },
    {
      "cell_type": "code",
      "source": [
        "data[features_cat]"
      ],
      "metadata": {
        "colab": {
          "base_uri": "https://localhost:8080/",
          "height": 424
        },
        "id": "hSVv54qQhYAb",
        "outputId": "100f2248-7ba4-4a76-c1b1-cfa56eea0de8"
      },
      "execution_count": 35,
      "outputs": [
        {
          "output_type": "execute_result",
          "data": {
            "text/plain": [
              "      categoryA categoryB  categoryC categoryD categoryE categoryF     unit\n",
              "0        catA_1    catB_0   catC_718    catD_0    catE_0    catF_0   unit_6\n",
              "1        catA_1    catB_0  catC_1309    catD_0    catE_0    catF_0   unit_6\n",
              "2       catA_15    catB_0  catC_1309    catD_0    catE_0    catF_0   unit_4\n",
              "3        catA_0    catB_0   catC_935    catD_0    catE_0    catF_0   unit_5\n",
              "4       catA_22    catB_0  catC_1325    catD_0    catE_2    catF_0  unit_15\n",
              "...         ...       ...        ...       ...       ...       ...      ...\n",
              "12995    catA_3    catB_0   catC_639    catD_0    catE_0    catF_0   unit_1\n",
              "12996    catA_8    catB_0   catC_445    catD_0    catE_0    catF_0   unit_9\n",
              "12997   catA_25    catB_0   catC_445    catD_0    catE_0    catF_1  unit_12\n",
              "12998    catA_7    catB_0  catC_2322    catD_0    catE_5    catF_0   unit_8\n",
              "12999    catA_9    catB_0  catC_2322    catD_0    catE_5    catF_0  unit_10\n",
              "\n",
              "[12936 rows x 7 columns]"
            ],
            "text/html": [
              "\n",
              "  <div id=\"df-ba9e46bf-5055-4227-bb17-bea2cbdc5f24\">\n",
              "    <div class=\"colab-df-container\">\n",
              "      <div>\n",
              "<style scoped>\n",
              "    .dataframe tbody tr th:only-of-type {\n",
              "        vertical-align: middle;\n",
              "    }\n",
              "\n",
              "    .dataframe tbody tr th {\n",
              "        vertical-align: top;\n",
              "    }\n",
              "\n",
              "    .dataframe thead th {\n",
              "        text-align: right;\n",
              "    }\n",
              "</style>\n",
              "<table border=\"1\" class=\"dataframe\">\n",
              "  <thead>\n",
              "    <tr style=\"text-align: right;\">\n",
              "      <th></th>\n",
              "      <th>categoryA</th>\n",
              "      <th>categoryB</th>\n",
              "      <th>categoryC</th>\n",
              "      <th>categoryD</th>\n",
              "      <th>categoryE</th>\n",
              "      <th>categoryF</th>\n",
              "      <th>unit</th>\n",
              "    </tr>\n",
              "  </thead>\n",
              "  <tbody>\n",
              "    <tr>\n",
              "      <th>0</th>\n",
              "      <td>catA_1</td>\n",
              "      <td>catB_0</td>\n",
              "      <td>catC_718</td>\n",
              "      <td>catD_0</td>\n",
              "      <td>catE_0</td>\n",
              "      <td>catF_0</td>\n",
              "      <td>unit_6</td>\n",
              "    </tr>\n",
              "    <tr>\n",
              "      <th>1</th>\n",
              "      <td>catA_1</td>\n",
              "      <td>catB_0</td>\n",
              "      <td>catC_1309</td>\n",
              "      <td>catD_0</td>\n",
              "      <td>catE_0</td>\n",
              "      <td>catF_0</td>\n",
              "      <td>unit_6</td>\n",
              "    </tr>\n",
              "    <tr>\n",
              "      <th>2</th>\n",
              "      <td>catA_15</td>\n",
              "      <td>catB_0</td>\n",
              "      <td>catC_1309</td>\n",
              "      <td>catD_0</td>\n",
              "      <td>catE_0</td>\n",
              "      <td>catF_0</td>\n",
              "      <td>unit_4</td>\n",
              "    </tr>\n",
              "    <tr>\n",
              "      <th>3</th>\n",
              "      <td>catA_0</td>\n",
              "      <td>catB_0</td>\n",
              "      <td>catC_935</td>\n",
              "      <td>catD_0</td>\n",
              "      <td>catE_0</td>\n",
              "      <td>catF_0</td>\n",
              "      <td>unit_5</td>\n",
              "    </tr>\n",
              "    <tr>\n",
              "      <th>4</th>\n",
              "      <td>catA_22</td>\n",
              "      <td>catB_0</td>\n",
              "      <td>catC_1325</td>\n",
              "      <td>catD_0</td>\n",
              "      <td>catE_2</td>\n",
              "      <td>catF_0</td>\n",
              "      <td>unit_15</td>\n",
              "    </tr>\n",
              "    <tr>\n",
              "      <th>...</th>\n",
              "      <td>...</td>\n",
              "      <td>...</td>\n",
              "      <td>...</td>\n",
              "      <td>...</td>\n",
              "      <td>...</td>\n",
              "      <td>...</td>\n",
              "      <td>...</td>\n",
              "    </tr>\n",
              "    <tr>\n",
              "      <th>12995</th>\n",
              "      <td>catA_3</td>\n",
              "      <td>catB_0</td>\n",
              "      <td>catC_639</td>\n",
              "      <td>catD_0</td>\n",
              "      <td>catE_0</td>\n",
              "      <td>catF_0</td>\n",
              "      <td>unit_1</td>\n",
              "    </tr>\n",
              "    <tr>\n",
              "      <th>12996</th>\n",
              "      <td>catA_8</td>\n",
              "      <td>catB_0</td>\n",
              "      <td>catC_445</td>\n",
              "      <td>catD_0</td>\n",
              "      <td>catE_0</td>\n",
              "      <td>catF_0</td>\n",
              "      <td>unit_9</td>\n",
              "    </tr>\n",
              "    <tr>\n",
              "      <th>12997</th>\n",
              "      <td>catA_25</td>\n",
              "      <td>catB_0</td>\n",
              "      <td>catC_445</td>\n",
              "      <td>catD_0</td>\n",
              "      <td>catE_0</td>\n",
              "      <td>catF_1</td>\n",
              "      <td>unit_12</td>\n",
              "    </tr>\n",
              "    <tr>\n",
              "      <th>12998</th>\n",
              "      <td>catA_7</td>\n",
              "      <td>catB_0</td>\n",
              "      <td>catC_2322</td>\n",
              "      <td>catD_0</td>\n",
              "      <td>catE_5</td>\n",
              "      <td>catF_0</td>\n",
              "      <td>unit_8</td>\n",
              "    </tr>\n",
              "    <tr>\n",
              "      <th>12999</th>\n",
              "      <td>catA_9</td>\n",
              "      <td>catB_0</td>\n",
              "      <td>catC_2322</td>\n",
              "      <td>catD_0</td>\n",
              "      <td>catE_5</td>\n",
              "      <td>catF_0</td>\n",
              "      <td>unit_10</td>\n",
              "    </tr>\n",
              "  </tbody>\n",
              "</table>\n",
              "<p>12936 rows × 7 columns</p>\n",
              "</div>\n",
              "      <button class=\"colab-df-convert\" onclick=\"convertToInteractive('df-ba9e46bf-5055-4227-bb17-bea2cbdc5f24')\"\n",
              "              title=\"Convert this dataframe to an interactive table.\"\n",
              "              style=\"display:none;\">\n",
              "        \n",
              "  <svg xmlns=\"http://www.w3.org/2000/svg\" height=\"24px\"viewBox=\"0 0 24 24\"\n",
              "       width=\"24px\">\n",
              "    <path d=\"M0 0h24v24H0V0z\" fill=\"none\"/>\n",
              "    <path d=\"M18.56 5.44l.94 2.06.94-2.06 2.06-.94-2.06-.94-.94-2.06-.94 2.06-2.06.94zm-11 1L8.5 8.5l.94-2.06 2.06-.94-2.06-.94L8.5 2.5l-.94 2.06-2.06.94zm10 10l.94 2.06.94-2.06 2.06-.94-2.06-.94-.94-2.06-.94 2.06-2.06.94z\"/><path d=\"M17.41 7.96l-1.37-1.37c-.4-.4-.92-.59-1.43-.59-.52 0-1.04.2-1.43.59L10.3 9.45l-7.72 7.72c-.78.78-.78 2.05 0 2.83L4 21.41c.39.39.9.59 1.41.59.51 0 1.02-.2 1.41-.59l7.78-7.78 2.81-2.81c.8-.78.8-2.07 0-2.86zM5.41 20L4 18.59l7.72-7.72 1.47 1.35L5.41 20z\"/>\n",
              "  </svg>\n",
              "      </button>\n",
              "      \n",
              "  <style>\n",
              "    .colab-df-container {\n",
              "      display:flex;\n",
              "      flex-wrap:wrap;\n",
              "      gap: 12px;\n",
              "    }\n",
              "\n",
              "    .colab-df-convert {\n",
              "      background-color: #E8F0FE;\n",
              "      border: none;\n",
              "      border-radius: 50%;\n",
              "      cursor: pointer;\n",
              "      display: none;\n",
              "      fill: #1967D2;\n",
              "      height: 32px;\n",
              "      padding: 0 0 0 0;\n",
              "      width: 32px;\n",
              "    }\n",
              "\n",
              "    .colab-df-convert:hover {\n",
              "      background-color: #E2EBFA;\n",
              "      box-shadow: 0px 1px 2px rgba(60, 64, 67, 0.3), 0px 1px 3px 1px rgba(60, 64, 67, 0.15);\n",
              "      fill: #174EA6;\n",
              "    }\n",
              "\n",
              "    [theme=dark] .colab-df-convert {\n",
              "      background-color: #3B4455;\n",
              "      fill: #D2E3FC;\n",
              "    }\n",
              "\n",
              "    [theme=dark] .colab-df-convert:hover {\n",
              "      background-color: #434B5C;\n",
              "      box-shadow: 0px 1px 3px 1px rgba(0, 0, 0, 0.15);\n",
              "      filter: drop-shadow(0px 1px 2px rgba(0, 0, 0, 0.3));\n",
              "      fill: #FFFFFF;\n",
              "    }\n",
              "  </style>\n",
              "\n",
              "      <script>\n",
              "        const buttonEl =\n",
              "          document.querySelector('#df-ba9e46bf-5055-4227-bb17-bea2cbdc5f24 button.colab-df-convert');\n",
              "        buttonEl.style.display =\n",
              "          google.colab.kernel.accessAllowed ? 'block' : 'none';\n",
              "\n",
              "        async function convertToInteractive(key) {\n",
              "          const element = document.querySelector('#df-ba9e46bf-5055-4227-bb17-bea2cbdc5f24');\n",
              "          const dataTable =\n",
              "            await google.colab.kernel.invokeFunction('convertToInteractive',\n",
              "                                                     [key], {});\n",
              "          if (!dataTable) return;\n",
              "\n",
              "          const docLinkHtml = 'Like what you see? Visit the ' +\n",
              "            '<a target=\"_blank\" href=https://colab.research.google.com/notebooks/data_table.ipynb>data table notebook</a>'\n",
              "            + ' to learn more about interactive tables.';\n",
              "          element.innerHTML = '';\n",
              "          dataTable['output_type'] = 'display_data';\n",
              "          await google.colab.output.renderOutput(dataTable, element);\n",
              "          const docLink = document.createElement('div');\n",
              "          docLink.innerHTML = docLinkHtml;\n",
              "          element.appendChild(docLink);\n",
              "        }\n",
              "      </script>\n",
              "    </div>\n",
              "  </div>\n",
              "  "
            ]
          },
          "metadata": {},
          "execution_count": 35
        }
      ]
    },
    {
      "cell_type": "code",
      "source": [
        "train_scaled = data.copy()\n",
        "test_scaled = test.copy()"
      ],
      "metadata": {
        "id": "qocnQPbGtEJ4"
      },
      "execution_count": 60,
      "outputs": []
    },
    {
      "cell_type": "code",
      "source": [
        "scaler = StandardScaler()\n",
        "train_scaled[features_num] = scaler.fit_transform(data[features_num])\n",
        "test_scaled[features_num] = scaler.transform(test[features_num])\n",
        "train_scaled[features_num]"
      ],
      "metadata": {
        "colab": {
          "base_uri": "https://localhost:8080/",
          "height": 488
        },
        "id": "M-z9QJTDhYYX",
        "outputId": "bf8c3013-ad15-4e03-b2c6-91bb49c092d2"
      },
      "execution_count": 61,
      "outputs": [
        {
          "output_type": "execute_result",
          "data": {
            "text/plain": [
              "       featureA  featureB  featureC  featureD  featureE  featureF  featureG  \\\n",
              "0     -0.278170 -0.021516 -0.481773 -0.373437  0.657987 -0.091372  0.526658   \n",
              "1     -0.278170 -0.021516 -0.481773 -0.373437  0.657987 -0.091372  0.526658   \n",
              "2     -0.278170 -0.021516 -0.481773 -0.373437  0.657987 -0.091372  0.526658   \n",
              "3     -0.278170 -0.021516 -0.481773 -0.373437  0.657987  0.748681  0.526658   \n",
              "4     -1.069068 -0.051243  2.257233 -0.754606 -1.710079  1.588735 -0.974444   \n",
              "...         ...       ...       ...       ...       ...       ...       ...   \n",
              "12995 -0.278170 -0.021516 -0.481773 -0.373437  0.657987 -0.091372  0.526658   \n",
              "12996 -0.278170 -0.021516 -0.481773 -0.373437  0.657987 -0.091372  0.526658   \n",
              "12997 -0.278170 -0.021516 -0.481773 -0.373437  0.657987 -0.091372  0.526658   \n",
              "12998 -0.666448  5.181629 -0.501954 -1.760437 -1.840710 -0.091372 -2.330405   \n",
              "12999 -0.666448  5.181629 -0.501954 -1.760437 -1.840710 -0.091372 -2.330405   \n",
              "\n",
              "       featureH  featureI  compositionA  compositionB  compositionC  \\\n",
              "0     -0.470237  0.869483     -0.221909      0.714267      0.368783   \n",
              "1     -0.470237  0.869483     -0.221909      0.714267      0.368783   \n",
              "2     -0.470237  0.869483     -0.221909      0.714267      0.368783   \n",
              "3     -0.470237  0.869483     -0.221909      0.714267      0.368783   \n",
              "4      2.253553  0.030660     -0.221909      0.090935     -1.496523   \n",
              "...         ...       ...           ...           ...           ...   \n",
              "12995 -0.470237  0.869483     -0.221909      0.714267      0.368783   \n",
              "12996 -0.470237  0.869483     -0.221909      0.714267      0.368783   \n",
              "12997 -0.470237  0.869483     -0.221909      0.714267      0.368783   \n",
              "12998 -0.470237 -1.992114     -0.221909      0.477401     -1.631758   \n",
              "12999 -0.470237 -1.992114     -0.221909      0.477401     -1.631758   \n",
              "\n",
              "       compositionD  compositionE  compositionF  compositionG  compositionH  \\\n",
              "0          -0.34825     -0.003435     -0.162668     -0.682772     -0.455706   \n",
              "1          -0.34825     -0.003435     -0.162668     -0.682772     -0.455706   \n",
              "2          -0.34825     -0.003435     -0.162668     -0.682772     -0.455706   \n",
              "3          -0.34825     -0.003435     -0.162668     -0.682772     -0.455706   \n",
              "4          -0.34825      1.528407     -0.162668     -0.008201     -0.455706   \n",
              "...             ...           ...           ...           ...           ...   \n",
              "12995      -0.34825     -0.003435     -0.162668     -0.682772     -0.455706   \n",
              "12996      -0.34825     -0.003435     -0.162668     -0.682772     -0.455706   \n",
              "12997      -0.34825     -0.003435     -0.162668     -0.682772     -0.455706   \n",
              "12998      -0.34825      0.346185     -1.346055     -0.436554     -2.009226   \n",
              "12999      -0.34825      0.346185     -1.346055     -0.436554     -2.009226   \n",
              "\n",
              "       compositionI  compositionJ  \n",
              "0         -0.189650      0.258149  \n",
              "1         -0.189650      0.258149  \n",
              "2         -0.189650      0.258149  \n",
              "3         -0.189650      0.258149  \n",
              "4         -1.102459     -0.962522  \n",
              "...             ...           ...  \n",
              "12995     -0.189650      0.258149  \n",
              "12996     -0.189650      0.258149  \n",
              "12997     -0.189650      0.258149  \n",
              "12998      0.797262      4.611063  \n",
              "12999      0.797262      4.611063  \n",
              "\n",
              "[13000 rows x 19 columns]"
            ],
            "text/html": [
              "\n",
              "  <div id=\"df-3e86c8ee-b5d8-4a2e-b555-91a61b7f939c\">\n",
              "    <div class=\"colab-df-container\">\n",
              "      <div>\n",
              "<style scoped>\n",
              "    .dataframe tbody tr th:only-of-type {\n",
              "        vertical-align: middle;\n",
              "    }\n",
              "\n",
              "    .dataframe tbody tr th {\n",
              "        vertical-align: top;\n",
              "    }\n",
              "\n",
              "    .dataframe thead th {\n",
              "        text-align: right;\n",
              "    }\n",
              "</style>\n",
              "<table border=\"1\" class=\"dataframe\">\n",
              "  <thead>\n",
              "    <tr style=\"text-align: right;\">\n",
              "      <th></th>\n",
              "      <th>featureA</th>\n",
              "      <th>featureB</th>\n",
              "      <th>featureC</th>\n",
              "      <th>featureD</th>\n",
              "      <th>featureE</th>\n",
              "      <th>featureF</th>\n",
              "      <th>featureG</th>\n",
              "      <th>featureH</th>\n",
              "      <th>featureI</th>\n",
              "      <th>compositionA</th>\n",
              "      <th>compositionB</th>\n",
              "      <th>compositionC</th>\n",
              "      <th>compositionD</th>\n",
              "      <th>compositionE</th>\n",
              "      <th>compositionF</th>\n",
              "      <th>compositionG</th>\n",
              "      <th>compositionH</th>\n",
              "      <th>compositionI</th>\n",
              "      <th>compositionJ</th>\n",
              "    </tr>\n",
              "  </thead>\n",
              "  <tbody>\n",
              "    <tr>\n",
              "      <th>0</th>\n",
              "      <td>-0.278170</td>\n",
              "      <td>-0.021516</td>\n",
              "      <td>-0.481773</td>\n",
              "      <td>-0.373437</td>\n",
              "      <td>0.657987</td>\n",
              "      <td>-0.091372</td>\n",
              "      <td>0.526658</td>\n",
              "      <td>-0.470237</td>\n",
              "      <td>0.869483</td>\n",
              "      <td>-0.221909</td>\n",
              "      <td>0.714267</td>\n",
              "      <td>0.368783</td>\n",
              "      <td>-0.34825</td>\n",
              "      <td>-0.003435</td>\n",
              "      <td>-0.162668</td>\n",
              "      <td>-0.682772</td>\n",
              "      <td>-0.455706</td>\n",
              "      <td>-0.189650</td>\n",
              "      <td>0.258149</td>\n",
              "    </tr>\n",
              "    <tr>\n",
              "      <th>1</th>\n",
              "      <td>-0.278170</td>\n",
              "      <td>-0.021516</td>\n",
              "      <td>-0.481773</td>\n",
              "      <td>-0.373437</td>\n",
              "      <td>0.657987</td>\n",
              "      <td>-0.091372</td>\n",
              "      <td>0.526658</td>\n",
              "      <td>-0.470237</td>\n",
              "      <td>0.869483</td>\n",
              "      <td>-0.221909</td>\n",
              "      <td>0.714267</td>\n",
              "      <td>0.368783</td>\n",
              "      <td>-0.34825</td>\n",
              "      <td>-0.003435</td>\n",
              "      <td>-0.162668</td>\n",
              "      <td>-0.682772</td>\n",
              "      <td>-0.455706</td>\n",
              "      <td>-0.189650</td>\n",
              "      <td>0.258149</td>\n",
              "    </tr>\n",
              "    <tr>\n",
              "      <th>2</th>\n",
              "      <td>-0.278170</td>\n",
              "      <td>-0.021516</td>\n",
              "      <td>-0.481773</td>\n",
              "      <td>-0.373437</td>\n",
              "      <td>0.657987</td>\n",
              "      <td>-0.091372</td>\n",
              "      <td>0.526658</td>\n",
              "      <td>-0.470237</td>\n",
              "      <td>0.869483</td>\n",
              "      <td>-0.221909</td>\n",
              "      <td>0.714267</td>\n",
              "      <td>0.368783</td>\n",
              "      <td>-0.34825</td>\n",
              "      <td>-0.003435</td>\n",
              "      <td>-0.162668</td>\n",
              "      <td>-0.682772</td>\n",
              "      <td>-0.455706</td>\n",
              "      <td>-0.189650</td>\n",
              "      <td>0.258149</td>\n",
              "    </tr>\n",
              "    <tr>\n",
              "      <th>3</th>\n",
              "      <td>-0.278170</td>\n",
              "      <td>-0.021516</td>\n",
              "      <td>-0.481773</td>\n",
              "      <td>-0.373437</td>\n",
              "      <td>0.657987</td>\n",
              "      <td>0.748681</td>\n",
              "      <td>0.526658</td>\n",
              "      <td>-0.470237</td>\n",
              "      <td>0.869483</td>\n",
              "      <td>-0.221909</td>\n",
              "      <td>0.714267</td>\n",
              "      <td>0.368783</td>\n",
              "      <td>-0.34825</td>\n",
              "      <td>-0.003435</td>\n",
              "      <td>-0.162668</td>\n",
              "      <td>-0.682772</td>\n",
              "      <td>-0.455706</td>\n",
              "      <td>-0.189650</td>\n",
              "      <td>0.258149</td>\n",
              "    </tr>\n",
              "    <tr>\n",
              "      <th>4</th>\n",
              "      <td>-1.069068</td>\n",
              "      <td>-0.051243</td>\n",
              "      <td>2.257233</td>\n",
              "      <td>-0.754606</td>\n",
              "      <td>-1.710079</td>\n",
              "      <td>1.588735</td>\n",
              "      <td>-0.974444</td>\n",
              "      <td>2.253553</td>\n",
              "      <td>0.030660</td>\n",
              "      <td>-0.221909</td>\n",
              "      <td>0.090935</td>\n",
              "      <td>-1.496523</td>\n",
              "      <td>-0.34825</td>\n",
              "      <td>1.528407</td>\n",
              "      <td>-0.162668</td>\n",
              "      <td>-0.008201</td>\n",
              "      <td>-0.455706</td>\n",
              "      <td>-1.102459</td>\n",
              "      <td>-0.962522</td>\n",
              "    </tr>\n",
              "    <tr>\n",
              "      <th>...</th>\n",
              "      <td>...</td>\n",
              "      <td>...</td>\n",
              "      <td>...</td>\n",
              "      <td>...</td>\n",
              "      <td>...</td>\n",
              "      <td>...</td>\n",
              "      <td>...</td>\n",
              "      <td>...</td>\n",
              "      <td>...</td>\n",
              "      <td>...</td>\n",
              "      <td>...</td>\n",
              "      <td>...</td>\n",
              "      <td>...</td>\n",
              "      <td>...</td>\n",
              "      <td>...</td>\n",
              "      <td>...</td>\n",
              "      <td>...</td>\n",
              "      <td>...</td>\n",
              "      <td>...</td>\n",
              "    </tr>\n",
              "    <tr>\n",
              "      <th>12995</th>\n",
              "      <td>-0.278170</td>\n",
              "      <td>-0.021516</td>\n",
              "      <td>-0.481773</td>\n",
              "      <td>-0.373437</td>\n",
              "      <td>0.657987</td>\n",
              "      <td>-0.091372</td>\n",
              "      <td>0.526658</td>\n",
              "      <td>-0.470237</td>\n",
              "      <td>0.869483</td>\n",
              "      <td>-0.221909</td>\n",
              "      <td>0.714267</td>\n",
              "      <td>0.368783</td>\n",
              "      <td>-0.34825</td>\n",
              "      <td>-0.003435</td>\n",
              "      <td>-0.162668</td>\n",
              "      <td>-0.682772</td>\n",
              "      <td>-0.455706</td>\n",
              "      <td>-0.189650</td>\n",
              "      <td>0.258149</td>\n",
              "    </tr>\n",
              "    <tr>\n",
              "      <th>12996</th>\n",
              "      <td>-0.278170</td>\n",
              "      <td>-0.021516</td>\n",
              "      <td>-0.481773</td>\n",
              "      <td>-0.373437</td>\n",
              "      <td>0.657987</td>\n",
              "      <td>-0.091372</td>\n",
              "      <td>0.526658</td>\n",
              "      <td>-0.470237</td>\n",
              "      <td>0.869483</td>\n",
              "      <td>-0.221909</td>\n",
              "      <td>0.714267</td>\n",
              "      <td>0.368783</td>\n",
              "      <td>-0.34825</td>\n",
              "      <td>-0.003435</td>\n",
              "      <td>-0.162668</td>\n",
              "      <td>-0.682772</td>\n",
              "      <td>-0.455706</td>\n",
              "      <td>-0.189650</td>\n",
              "      <td>0.258149</td>\n",
              "    </tr>\n",
              "    <tr>\n",
              "      <th>12997</th>\n",
              "      <td>-0.278170</td>\n",
              "      <td>-0.021516</td>\n",
              "      <td>-0.481773</td>\n",
              "      <td>-0.373437</td>\n",
              "      <td>0.657987</td>\n",
              "      <td>-0.091372</td>\n",
              "      <td>0.526658</td>\n",
              "      <td>-0.470237</td>\n",
              "      <td>0.869483</td>\n",
              "      <td>-0.221909</td>\n",
              "      <td>0.714267</td>\n",
              "      <td>0.368783</td>\n",
              "      <td>-0.34825</td>\n",
              "      <td>-0.003435</td>\n",
              "      <td>-0.162668</td>\n",
              "      <td>-0.682772</td>\n",
              "      <td>-0.455706</td>\n",
              "      <td>-0.189650</td>\n",
              "      <td>0.258149</td>\n",
              "    </tr>\n",
              "    <tr>\n",
              "      <th>12998</th>\n",
              "      <td>-0.666448</td>\n",
              "      <td>5.181629</td>\n",
              "      <td>-0.501954</td>\n",
              "      <td>-1.760437</td>\n",
              "      <td>-1.840710</td>\n",
              "      <td>-0.091372</td>\n",
              "      <td>-2.330405</td>\n",
              "      <td>-0.470237</td>\n",
              "      <td>-1.992114</td>\n",
              "      <td>-0.221909</td>\n",
              "      <td>0.477401</td>\n",
              "      <td>-1.631758</td>\n",
              "      <td>-0.34825</td>\n",
              "      <td>0.346185</td>\n",
              "      <td>-1.346055</td>\n",
              "      <td>-0.436554</td>\n",
              "      <td>-2.009226</td>\n",
              "      <td>0.797262</td>\n",
              "      <td>4.611063</td>\n",
              "    </tr>\n",
              "    <tr>\n",
              "      <th>12999</th>\n",
              "      <td>-0.666448</td>\n",
              "      <td>5.181629</td>\n",
              "      <td>-0.501954</td>\n",
              "      <td>-1.760437</td>\n",
              "      <td>-1.840710</td>\n",
              "      <td>-0.091372</td>\n",
              "      <td>-2.330405</td>\n",
              "      <td>-0.470237</td>\n",
              "      <td>-1.992114</td>\n",
              "      <td>-0.221909</td>\n",
              "      <td>0.477401</td>\n",
              "      <td>-1.631758</td>\n",
              "      <td>-0.34825</td>\n",
              "      <td>0.346185</td>\n",
              "      <td>-1.346055</td>\n",
              "      <td>-0.436554</td>\n",
              "      <td>-2.009226</td>\n",
              "      <td>0.797262</td>\n",
              "      <td>4.611063</td>\n",
              "    </tr>\n",
              "  </tbody>\n",
              "</table>\n",
              "<p>13000 rows × 19 columns</p>\n",
              "</div>\n",
              "      <button class=\"colab-df-convert\" onclick=\"convertToInteractive('df-3e86c8ee-b5d8-4a2e-b555-91a61b7f939c')\"\n",
              "              title=\"Convert this dataframe to an interactive table.\"\n",
              "              style=\"display:none;\">\n",
              "        \n",
              "  <svg xmlns=\"http://www.w3.org/2000/svg\" height=\"24px\"viewBox=\"0 0 24 24\"\n",
              "       width=\"24px\">\n",
              "    <path d=\"M0 0h24v24H0V0z\" fill=\"none\"/>\n",
              "    <path d=\"M18.56 5.44l.94 2.06.94-2.06 2.06-.94-2.06-.94-.94-2.06-.94 2.06-2.06.94zm-11 1L8.5 8.5l.94-2.06 2.06-.94-2.06-.94L8.5 2.5l-.94 2.06-2.06.94zm10 10l.94 2.06.94-2.06 2.06-.94-2.06-.94-.94-2.06-.94 2.06-2.06.94z\"/><path d=\"M17.41 7.96l-1.37-1.37c-.4-.4-.92-.59-1.43-.59-.52 0-1.04.2-1.43.59L10.3 9.45l-7.72 7.72c-.78.78-.78 2.05 0 2.83L4 21.41c.39.39.9.59 1.41.59.51 0 1.02-.2 1.41-.59l7.78-7.78 2.81-2.81c.8-.78.8-2.07 0-2.86zM5.41 20L4 18.59l7.72-7.72 1.47 1.35L5.41 20z\"/>\n",
              "  </svg>\n",
              "      </button>\n",
              "      \n",
              "  <style>\n",
              "    .colab-df-container {\n",
              "      display:flex;\n",
              "      flex-wrap:wrap;\n",
              "      gap: 12px;\n",
              "    }\n",
              "\n",
              "    .colab-df-convert {\n",
              "      background-color: #E8F0FE;\n",
              "      border: none;\n",
              "      border-radius: 50%;\n",
              "      cursor: pointer;\n",
              "      display: none;\n",
              "      fill: #1967D2;\n",
              "      height: 32px;\n",
              "      padding: 0 0 0 0;\n",
              "      width: 32px;\n",
              "    }\n",
              "\n",
              "    .colab-df-convert:hover {\n",
              "      background-color: #E2EBFA;\n",
              "      box-shadow: 0px 1px 2px rgba(60, 64, 67, 0.3), 0px 1px 3px 1px rgba(60, 64, 67, 0.15);\n",
              "      fill: #174EA6;\n",
              "    }\n",
              "\n",
              "    [theme=dark] .colab-df-convert {\n",
              "      background-color: #3B4455;\n",
              "      fill: #D2E3FC;\n",
              "    }\n",
              "\n",
              "    [theme=dark] .colab-df-convert:hover {\n",
              "      background-color: #434B5C;\n",
              "      box-shadow: 0px 1px 3px 1px rgba(0, 0, 0, 0.15);\n",
              "      filter: drop-shadow(0px 1px 2px rgba(0, 0, 0, 0.3));\n",
              "      fill: #FFFFFF;\n",
              "    }\n",
              "  </style>\n",
              "\n",
              "      <script>\n",
              "        const buttonEl =\n",
              "          document.querySelector('#df-3e86c8ee-b5d8-4a2e-b555-91a61b7f939c button.colab-df-convert');\n",
              "        buttonEl.style.display =\n",
              "          google.colab.kernel.accessAllowed ? 'block' : 'none';\n",
              "\n",
              "        async function convertToInteractive(key) {\n",
              "          const element = document.querySelector('#df-3e86c8ee-b5d8-4a2e-b555-91a61b7f939c');\n",
              "          const dataTable =\n",
              "            await google.colab.kernel.invokeFunction('convertToInteractive',\n",
              "                                                     [key], {});\n",
              "          if (!dataTable) return;\n",
              "\n",
              "          const docLinkHtml = 'Like what you see? Visit the ' +\n",
              "            '<a target=\"_blank\" href=https://colab.research.google.com/notebooks/data_table.ipynb>data table notebook</a>'\n",
              "            + ' to learn more about interactive tables.';\n",
              "          element.innerHTML = '';\n",
              "          dataTable['output_type'] = 'display_data';\n",
              "          await google.colab.output.renderOutput(dataTable, element);\n",
              "          const docLink = document.createElement('div');\n",
              "          docLink.innerHTML = docLinkHtml;\n",
              "          element.appendChild(docLink);\n",
              "        }\n",
              "      </script>\n",
              "    </div>\n",
              "  </div>\n",
              "  "
            ]
          },
          "metadata": {},
          "execution_count": 61
        }
      ]
    },
    {
      "cell_type": "code",
      "source": [
        "set_categoryC = set()"
      ],
      "metadata": {
        "id": "zARq0KNctXFL"
      },
      "execution_count": 67,
      "outputs": []
    },
    {
      "cell_type": "code",
      "source": [],
      "metadata": {
        "id": "C_GS_UTuuZF4"
      },
      "execution_count": 77,
      "outputs": []
    },
    {
      "cell_type": "code",
      "source": [
        "labelencoder = LabelEncoder()\n",
        "labelencoder.fit(list(set_categoryC))"
      ],
      "metadata": {
        "colab": {
          "base_uri": "https://localhost:8080/"
        },
        "id": "xx70pn0uuQl5",
        "outputId": "1e888206-118a-4730-ea3e-4fa2fd6f66ea"
      },
      "execution_count": 77,
      "outputs": [
        {
          "output_type": "execute_result",
          "data": {
            "text/plain": [
              "LabelEncoder()"
            ]
          },
          "metadata": {},
          "execution_count": 77
        }
      ]
    },
    {
      "cell_type": "code",
      "source": [],
      "metadata": {
        "id": "NFvGBDMzuwu7"
      },
      "execution_count": 76,
      "outputs": []
    },
    {
      "cell_type": "code",
      "source": [
        "set_categoryC.update(train_scaled['categoryC'].unique())\n",
        "set_categoryC.update(test_scaled['categoryC'].unique())"
      ],
      "metadata": {
        "id": "TsiHUXSDt7B3"
      },
      "execution_count": 70,
      "outputs": []
    },
    {
      "cell_type": "code",
      "source": [
        "for column in features_cat:\n",
        "\n",
        "  labelencoder = LabelEncoder()\n",
        "  if column == \"categoryC\":\n",
        "    set_categoryC = set()\n",
        "    set_categoryC.update(train_scaled[column].unique())\n",
        "    set_categoryC.update(test_scaled[column].unique())\n",
        "    labelencoder.fit(list(set_categoryC))\n",
        "    train_scaled[column] = labelencoder.transform(train_scaled[column])\n",
        "  else:\n",
        "    train_scaled[column] = labelencoder.fit_transform(train_scaled[column])\n",
        "  test_scaled[column] = labelencoder.transform(test_scaled[column])\n",
        "\n",
        "train_scaled[features_cat]"
      ],
      "metadata": {
        "colab": {
          "base_uri": "https://localhost:8080/",
          "height": 424
        },
        "id": "T-E9SoRvhYbx",
        "outputId": "c03f1e8a-3ae6-418b-d155-675ff0ce20a9"
      },
      "execution_count": 79,
      "outputs": [
        {
          "output_type": "execute_result",
          "data": {
            "text/plain": [
              "       categoryA  categoryB  categoryC  categoryD  categoryE  categoryF  unit\n",
              "0              1          0       1925          0          0          0    15\n",
              "1              1          0        287          0          0          0    15\n",
              "2             49          0        287          0          0          0    13\n",
              "3              0          0       2146          0          0          0    14\n",
              "4             82          0        302          0         11          0     7\n",
              "...          ...        ...        ...        ...        ...        ...   ...\n",
              "12995         90          0       1840          0          0          0     1\n",
              "12996        145          0       1639          0          0          0    18\n",
              "12997         85          0       1639          0          0          1     4\n",
              "12998        134          0       1080          0         20          0    17\n",
              "12999        156          0       1080          0         20          0     2\n",
              "\n",
              "[13000 rows x 7 columns]"
            ],
            "text/html": [
              "\n",
              "  <div id=\"df-4d4cd18e-50ac-4765-9d2d-cd4f3e435ed8\">\n",
              "    <div class=\"colab-df-container\">\n",
              "      <div>\n",
              "<style scoped>\n",
              "    .dataframe tbody tr th:only-of-type {\n",
              "        vertical-align: middle;\n",
              "    }\n",
              "\n",
              "    .dataframe tbody tr th {\n",
              "        vertical-align: top;\n",
              "    }\n",
              "\n",
              "    .dataframe thead th {\n",
              "        text-align: right;\n",
              "    }\n",
              "</style>\n",
              "<table border=\"1\" class=\"dataframe\">\n",
              "  <thead>\n",
              "    <tr style=\"text-align: right;\">\n",
              "      <th></th>\n",
              "      <th>categoryA</th>\n",
              "      <th>categoryB</th>\n",
              "      <th>categoryC</th>\n",
              "      <th>categoryD</th>\n",
              "      <th>categoryE</th>\n",
              "      <th>categoryF</th>\n",
              "      <th>unit</th>\n",
              "    </tr>\n",
              "  </thead>\n",
              "  <tbody>\n",
              "    <tr>\n",
              "      <th>0</th>\n",
              "      <td>1</td>\n",
              "      <td>0</td>\n",
              "      <td>1925</td>\n",
              "      <td>0</td>\n",
              "      <td>0</td>\n",
              "      <td>0</td>\n",
              "      <td>15</td>\n",
              "    </tr>\n",
              "    <tr>\n",
              "      <th>1</th>\n",
              "      <td>1</td>\n",
              "      <td>0</td>\n",
              "      <td>287</td>\n",
              "      <td>0</td>\n",
              "      <td>0</td>\n",
              "      <td>0</td>\n",
              "      <td>15</td>\n",
              "    </tr>\n",
              "    <tr>\n",
              "      <th>2</th>\n",
              "      <td>49</td>\n",
              "      <td>0</td>\n",
              "      <td>287</td>\n",
              "      <td>0</td>\n",
              "      <td>0</td>\n",
              "      <td>0</td>\n",
              "      <td>13</td>\n",
              "    </tr>\n",
              "    <tr>\n",
              "      <th>3</th>\n",
              "      <td>0</td>\n",
              "      <td>0</td>\n",
              "      <td>2146</td>\n",
              "      <td>0</td>\n",
              "      <td>0</td>\n",
              "      <td>0</td>\n",
              "      <td>14</td>\n",
              "    </tr>\n",
              "    <tr>\n",
              "      <th>4</th>\n",
              "      <td>82</td>\n",
              "      <td>0</td>\n",
              "      <td>302</td>\n",
              "      <td>0</td>\n",
              "      <td>11</td>\n",
              "      <td>0</td>\n",
              "      <td>7</td>\n",
              "    </tr>\n",
              "    <tr>\n",
              "      <th>...</th>\n",
              "      <td>...</td>\n",
              "      <td>...</td>\n",
              "      <td>...</td>\n",
              "      <td>...</td>\n",
              "      <td>...</td>\n",
              "      <td>...</td>\n",
              "      <td>...</td>\n",
              "    </tr>\n",
              "    <tr>\n",
              "      <th>12995</th>\n",
              "      <td>90</td>\n",
              "      <td>0</td>\n",
              "      <td>1840</td>\n",
              "      <td>0</td>\n",
              "      <td>0</td>\n",
              "      <td>0</td>\n",
              "      <td>1</td>\n",
              "    </tr>\n",
              "    <tr>\n",
              "      <th>12996</th>\n",
              "      <td>145</td>\n",
              "      <td>0</td>\n",
              "      <td>1639</td>\n",
              "      <td>0</td>\n",
              "      <td>0</td>\n",
              "      <td>0</td>\n",
              "      <td>18</td>\n",
              "    </tr>\n",
              "    <tr>\n",
              "      <th>12997</th>\n",
              "      <td>85</td>\n",
              "      <td>0</td>\n",
              "      <td>1639</td>\n",
              "      <td>0</td>\n",
              "      <td>0</td>\n",
              "      <td>1</td>\n",
              "      <td>4</td>\n",
              "    </tr>\n",
              "    <tr>\n",
              "      <th>12998</th>\n",
              "      <td>134</td>\n",
              "      <td>0</td>\n",
              "      <td>1080</td>\n",
              "      <td>0</td>\n",
              "      <td>20</td>\n",
              "      <td>0</td>\n",
              "      <td>17</td>\n",
              "    </tr>\n",
              "    <tr>\n",
              "      <th>12999</th>\n",
              "      <td>156</td>\n",
              "      <td>0</td>\n",
              "      <td>1080</td>\n",
              "      <td>0</td>\n",
              "      <td>20</td>\n",
              "      <td>0</td>\n",
              "      <td>2</td>\n",
              "    </tr>\n",
              "  </tbody>\n",
              "</table>\n",
              "<p>13000 rows × 7 columns</p>\n",
              "</div>\n",
              "      <button class=\"colab-df-convert\" onclick=\"convertToInteractive('df-4d4cd18e-50ac-4765-9d2d-cd4f3e435ed8')\"\n",
              "              title=\"Convert this dataframe to an interactive table.\"\n",
              "              style=\"display:none;\">\n",
              "        \n",
              "  <svg xmlns=\"http://www.w3.org/2000/svg\" height=\"24px\"viewBox=\"0 0 24 24\"\n",
              "       width=\"24px\">\n",
              "    <path d=\"M0 0h24v24H0V0z\" fill=\"none\"/>\n",
              "    <path d=\"M18.56 5.44l.94 2.06.94-2.06 2.06-.94-2.06-.94-.94-2.06-.94 2.06-2.06.94zm-11 1L8.5 8.5l.94-2.06 2.06-.94-2.06-.94L8.5 2.5l-.94 2.06-2.06.94zm10 10l.94 2.06.94-2.06 2.06-.94-2.06-.94-.94-2.06-.94 2.06-2.06.94z\"/><path d=\"M17.41 7.96l-1.37-1.37c-.4-.4-.92-.59-1.43-.59-.52 0-1.04.2-1.43.59L10.3 9.45l-7.72 7.72c-.78.78-.78 2.05 0 2.83L4 21.41c.39.39.9.59 1.41.59.51 0 1.02-.2 1.41-.59l7.78-7.78 2.81-2.81c.8-.78.8-2.07 0-2.86zM5.41 20L4 18.59l7.72-7.72 1.47 1.35L5.41 20z\"/>\n",
              "  </svg>\n",
              "      </button>\n",
              "      \n",
              "  <style>\n",
              "    .colab-df-container {\n",
              "      display:flex;\n",
              "      flex-wrap:wrap;\n",
              "      gap: 12px;\n",
              "    }\n",
              "\n",
              "    .colab-df-convert {\n",
              "      background-color: #E8F0FE;\n",
              "      border: none;\n",
              "      border-radius: 50%;\n",
              "      cursor: pointer;\n",
              "      display: none;\n",
              "      fill: #1967D2;\n",
              "      height: 32px;\n",
              "      padding: 0 0 0 0;\n",
              "      width: 32px;\n",
              "    }\n",
              "\n",
              "    .colab-df-convert:hover {\n",
              "      background-color: #E2EBFA;\n",
              "      box-shadow: 0px 1px 2px rgba(60, 64, 67, 0.3), 0px 1px 3px 1px rgba(60, 64, 67, 0.15);\n",
              "      fill: #174EA6;\n",
              "    }\n",
              "\n",
              "    [theme=dark] .colab-df-convert {\n",
              "      background-color: #3B4455;\n",
              "      fill: #D2E3FC;\n",
              "    }\n",
              "\n",
              "    [theme=dark] .colab-df-convert:hover {\n",
              "      background-color: #434B5C;\n",
              "      box-shadow: 0px 1px 3px 1px rgba(0, 0, 0, 0.15);\n",
              "      filter: drop-shadow(0px 1px 2px rgba(0, 0, 0, 0.3));\n",
              "      fill: #FFFFFF;\n",
              "    }\n",
              "  </style>\n",
              "\n",
              "      <script>\n",
              "        const buttonEl =\n",
              "          document.querySelector('#df-4d4cd18e-50ac-4765-9d2d-cd4f3e435ed8 button.colab-df-convert');\n",
              "        buttonEl.style.display =\n",
              "          google.colab.kernel.accessAllowed ? 'block' : 'none';\n",
              "\n",
              "        async function convertToInteractive(key) {\n",
              "          const element = document.querySelector('#df-4d4cd18e-50ac-4765-9d2d-cd4f3e435ed8');\n",
              "          const dataTable =\n",
              "            await google.colab.kernel.invokeFunction('convertToInteractive',\n",
              "                                                     [key], {});\n",
              "          if (!dataTable) return;\n",
              "\n",
              "          const docLinkHtml = 'Like what you see? Visit the ' +\n",
              "            '<a target=\"_blank\" href=https://colab.research.google.com/notebooks/data_table.ipynb>data table notebook</a>'\n",
              "            + ' to learn more about interactive tables.';\n",
              "          element.innerHTML = '';\n",
              "          dataTable['output_type'] = 'display_data';\n",
              "          await google.colab.output.renderOutput(dataTable, element);\n",
              "          const docLink = document.createElement('div');\n",
              "          docLink.innerHTML = docLinkHtml;\n",
              "          element.appendChild(docLink);\n",
              "        }\n",
              "      </script>\n",
              "    </div>\n",
              "  </div>\n",
              "  "
            ]
          },
          "metadata": {},
          "execution_count": 79
        }
      ]
    },
    {
      "cell_type": "code",
      "source": [
        "train_scaled = train_scaled.drop('id',1)"
      ],
      "metadata": {
        "colab": {
          "base_uri": "https://localhost:8080/"
        },
        "id": "jOzdv-G6x8I9",
        "outputId": "1eb2436b-a98e-4083-c6d6-c4c2044b3875"
      },
      "execution_count": 87,
      "outputs": [
        {
          "output_type": "stream",
          "name": "stderr",
          "text": [
            "<ipython-input-87-c6a6168265d4>:1: FutureWarning: In a future version of pandas all arguments of DataFrame.drop except for the argument 'labels' will be keyword-only\n",
            "  train_scaled = train_scaled.drop('id',1)\n"
          ]
        }
      ]
    },
    {
      "cell_type": "code",
      "source": [
        "test_scaled = test_scaled.drop('id',1)"
      ],
      "metadata": {
        "colab": {
          "base_uri": "https://localhost:8080/"
        },
        "id": "rpscE0rvyE9X",
        "outputId": "e14f3c99-9674-42e4-b457-d15e648320f4"
      },
      "execution_count": 90,
      "outputs": [
        {
          "output_type": "stream",
          "name": "stderr",
          "text": [
            "<ipython-input-90-b360d5d30b9a>:1: FutureWarning: In a future version of pandas all arguments of DataFrame.drop except for the argument 'labels' will be keyword-only\n",
            "  test_scaled = test_scaled.drop('id',1)\n"
          ]
        }
      ]
    },
    {
      "cell_type": "code",
      "source": [
        "train_scaled = train_scaled.dropna()\n",
        "test_scaled = test_scaled.dropna()"
      ],
      "metadata": {
        "id": "CeyqdPPgyXg4"
      },
      "execution_count": 98,
      "outputs": []
    },
    {
      "cell_type": "code",
      "source": [
        "train_scaled.isna().any()"
      ],
      "metadata": {
        "colab": {
          "base_uri": "https://localhost:8080/"
        },
        "id": "MKbhfRwtyxIg",
        "outputId": "85c5358d-67ab-4787-9447-4ec04ddf89d6"
      },
      "execution_count": 100,
      "outputs": [
        {
          "output_type": "execute_result",
          "data": {
            "text/plain": [
              "categoryA       False\n",
              "categoryB       False\n",
              "categoryC       False\n",
              "categoryD       False\n",
              "categoryE       False\n",
              "categoryF       False\n",
              "featureA        False\n",
              "featureB        False\n",
              "featureC        False\n",
              "featureD        False\n",
              "featureE        False\n",
              "featureF        False\n",
              "featureG        False\n",
              "featureH        False\n",
              "featureI        False\n",
              "compositionA    False\n",
              "compositionB    False\n",
              "compositionC    False\n",
              "compositionD    False\n",
              "compositionE    False\n",
              "compositionF    False\n",
              "compositionG    False\n",
              "compositionH    False\n",
              "compositionI    False\n",
              "compositionJ    False\n",
              "unit            False\n",
              "result          False\n",
              "dtype: bool"
            ]
          },
          "metadata": {},
          "execution_count": 100
        }
      ]
    },
    {
      "cell_type": "code",
      "source": [
        "train_scaled.result.mean()"
      ],
      "metadata": {
        "colab": {
          "base_uri": "https://localhost:8080/"
        },
        "id": "pQl3h43k7mhH",
        "outputId": "22c4a4ff-33f0-4e58-b666-d464eefbeb39"
      },
      "execution_count": 131,
      "outputs": [
        {
          "output_type": "execute_result",
          "data": {
            "text/plain": [
              "0.14413740216591764"
            ]
          },
          "metadata": {},
          "execution_count": 131
        }
      ]
    },
    {
      "cell_type": "code",
      "source": [
        "train_scaled.result.median()"
      ],
      "metadata": {
        "colab": {
          "base_uri": "https://localhost:8080/"
        },
        "id": "QL1tfOPf7tM0",
        "outputId": "d6873d53-b007-4b6b-8aac-d435703b9905"
      },
      "execution_count": 133,
      "outputs": [
        {
          "output_type": "execute_result",
          "data": {
            "text/plain": [
              "0.02795211758466545"
            ]
          },
          "metadata": {},
          "execution_count": 133
        }
      ]
    },
    {
      "cell_type": "markdown",
      "source": [],
      "metadata": {
        "id": "cMXC7hmU7yLk"
      }
    },
    {
      "cell_type": "code",
      "source": [
        "test_scaled.result.median()"
      ],
      "metadata": {
        "colab": {
          "base_uri": "https://localhost:8080/"
        },
        "id": "6Q0z9-Fw7ybf",
        "outputId": "9406a880-2c06-4c04-f8cd-05954a80756f"
      },
      "execution_count": 134,
      "outputs": [
        {
          "output_type": "execute_result",
          "data": {
            "text/plain": [
              "0.02795211758466545"
            ]
          },
          "metadata": {},
          "execution_count": 134
        }
      ]
    },
    {
      "cell_type": "code",
      "source": [
        "test_scaled.result.mean()"
      ],
      "metadata": {
        "colab": {
          "base_uri": "https://localhost:8080/"
        },
        "id": "QhwELzWm72VT",
        "outputId": "d25921ce-3db6-490f-bfbf-65fb6ca57854"
      },
      "execution_count": 135,
      "outputs": [
        {
          "output_type": "execute_result",
          "data": {
            "text/plain": [
              "0.14413740216591764"
            ]
          },
          "metadata": {},
          "execution_count": 135
        }
      ]
    },
    {
      "cell_type": "markdown",
      "source": [
        "Построение модели"
      ],
      "metadata": {
        "id": "HIXxaC9yhY2J"
      }
    },
    {
      "cell_type": "code",
      "source": [
        "from sklearn.model_selection import train_test_split\n",
        "from sklearn.ensemble import RandomForestRegressor\n",
        "from sklearn import linear_model\n",
        "from sklearn import svm\n",
        "from sklearn.ensemble import GradientBoostingRegressor\n",
        "\n",
        "from sklearn.metrics import r2_score"
      ],
      "metadata": {
        "id": "KjMkhlORxDQL"
      },
      "execution_count": 120,
      "outputs": []
    },
    {
      "cell_type": "code",
      "source": [
        "X = train_scaled.drop('result',axis=1)\n",
        "y = train_scaled.result"
      ],
      "metadata": {
        "id": "flXcJL9wwTaq"
      },
      "execution_count": 101,
      "outputs": []
    },
    {
      "cell_type": "code",
      "source": [
        "X_train, X_test, y_train, y_test = train_test_split(\n",
        "    X, y, test_size=0.33, random_state=42)"
      ],
      "metadata": {
        "id": "-8-1Bf-mxWvj"
      },
      "execution_count": 102,
      "outputs": []
    },
    {
      "cell_type": "code",
      "source": [
        "clf = linear_model.Lasso(alpha=0.1)\n",
        "clf.fit(X_train, y_train)\n",
        "y_pred = clf.predict(X_test)\n",
        "r2_score(y_test,y_pred)"
      ],
      "metadata": {
        "colab": {
          "base_uri": "https://localhost:8080/"
        },
        "id": "Z9i0X1Z5x4Ec",
        "outputId": "ccff49b1-b9f7-42fe-d256-acae774fdaa7"
      },
      "execution_count": 116,
      "outputs": [
        {
          "output_type": "execute_result",
          "data": {
            "text/plain": [
              "0.22995089038457728"
            ]
          },
          "metadata": {},
          "execution_count": 116
        }
      ]
    },
    {
      "cell_type": "code",
      "source": [
        "clf.score(X_test,y_test)"
      ],
      "metadata": {
        "colab": {
          "base_uri": "https://localhost:8080/"
        },
        "id": "x6B5Rxwt1ECn",
        "outputId": "4d0117eb-5805-4508-9a75-aed013225981"
      },
      "execution_count": 117,
      "outputs": [
        {
          "output_type": "execute_result",
          "data": {
            "text/plain": [
              "0.22995089038457728"
            ]
          },
          "metadata": {},
          "execution_count": 117
        }
      ]
    },
    {
      "cell_type": "markdown",
      "source": [
        "Малое значение lasso - не отслеживается прямая зависимость между переменными \n",
        "\n",
        "Для оценки моделей используется коэффициент детерминации, т. к. результат для оценки моделей легче интерпритировать "
      ],
      "metadata": {
        "id": "XtdI0EqA1Xzl"
      }
    },
    {
      "cell_type": "code",
      "source": [],
      "metadata": {
        "id": "XTTMQERg1EIg"
      },
      "execution_count": null,
      "outputs": []
    },
    {
      "cell_type": "code",
      "source": [
        "regr = RandomForestRegressor()\n",
        "regr.fit(X_train, y_train)"
      ],
      "metadata": {
        "colab": {
          "base_uri": "https://localhost:8080/"
        },
        "id": "WlGuuNVahZ5K",
        "outputId": "2096697b-3335-4954-d9b4-e285871d17a6"
      },
      "execution_count": 103,
      "outputs": [
        {
          "output_type": "execute_result",
          "data": {
            "text/plain": [
              "RandomForestRegressor()"
            ]
          },
          "metadata": {},
          "execution_count": 103
        }
      ]
    },
    {
      "cell_type": "code",
      "source": [
        "y_pred = regr.predict(X_test)"
      ],
      "metadata": {
        "id": "-djtqt3fhaUy"
      },
      "execution_count": 105,
      "outputs": []
    },
    {
      "cell_type": "code",
      "source": [
        "r2_score(y_test,y_pred)"
      ],
      "metadata": {
        "colab": {
          "base_uri": "https://localhost:8080/"
        },
        "id": "UbqrMla0haYO",
        "outputId": "a92760f1-cafa-426c-ab10-211b0ac40133"
      },
      "execution_count": 106,
      "outputs": [
        {
          "output_type": "execute_result",
          "data": {
            "text/plain": [
              "0.8495410081433951"
            ]
          },
          "metadata": {},
          "execution_count": 106
        }
      ]
    },
    {
      "cell_type": "code",
      "source": [
        "regr.get_params()"
      ],
      "metadata": {
        "colab": {
          "base_uri": "https://localhost:8080/"
        },
        "id": "zdBWjVL5hb6y",
        "outputId": "9acaaf9d-00c8-4176-fca9-9c3d25644718"
      },
      "execution_count": 111,
      "outputs": [
        {
          "output_type": "execute_result",
          "data": {
            "text/plain": [
              "{'bootstrap': True,\n",
              " 'ccp_alpha': 0.0,\n",
              " 'criterion': 'squared_error',\n",
              " 'max_depth': None,\n",
              " 'max_features': 'auto',\n",
              " 'max_leaf_nodes': None,\n",
              " 'max_samples': None,\n",
              " 'min_impurity_decrease': 0.0,\n",
              " 'min_samples_leaf': 1,\n",
              " 'min_samples_split': 2,\n",
              " 'min_weight_fraction_leaf': 0.0,\n",
              " 'n_estimators': 100,\n",
              " 'n_jobs': None,\n",
              " 'oob_score': False,\n",
              " 'random_state': None,\n",
              " 'verbose': 0,\n",
              " 'warm_start': False}"
            ]
          },
          "metadata": {},
          "execution_count": 111
        }
      ]
    },
    {
      "cell_type": "code",
      "source": [
        "model = GradientBoostingRegressor(random_state=42).fit(X_train, y_train)"
      ],
      "metadata": {
        "id": "lcdiuMZQ0UTV"
      },
      "execution_count": 121,
      "outputs": []
    },
    {
      "cell_type": "code",
      "source": [
        "print(model.score(X_train, y_train))\n",
        "print(model.score(X_test, y_test))"
      ],
      "metadata": {
        "colab": {
          "base_uri": "https://localhost:8080/"
        },
        "id": "9cQ2SGkN3h8v",
        "outputId": "cf319420-606b-4dca-e0d1-72cfbeb7081f"
      },
      "execution_count": 122,
      "outputs": [
        {
          "output_type": "stream",
          "name": "stdout",
          "text": [
            "0.8543584345123609\n",
            "0.8571259919677024\n"
          ]
        }
      ]
    },
    {
      "cell_type": "code",
      "source": [
        "y_pred = model.predict(X_test)\n",
        "r2_score(y_test,y_pred)"
      ],
      "metadata": {
        "colab": {
          "base_uri": "https://localhost:8080/"
        },
        "id": "-BUcS8lj3y1z",
        "outputId": "c7f80ccc-3da8-4e4b-9bcf-0a5c42329313"
      },
      "execution_count": 123,
      "outputs": [
        {
          "output_type": "execute_result",
          "data": {
            "text/plain": [
              "0.8571259919677024"
            ]
          },
          "metadata": {},
          "execution_count": 123
        }
      ]
    },
    {
      "cell_type": "markdown",
      "source": [
        "Визуализация результата"
      ],
      "metadata": {
        "id": "tDSdrSeF3zZz"
      }
    },
    {
      "cell_type": "code",
      "source": [
        "fig, ax = plt.subplots()\n",
        "ax.scatter(y_test, y_pred, edgecolors=(0, 0, 0))\n",
        "ax.plot([y_test.min(), y_test.max()], [y_test.min(), y_test.max()], 'k--', lw=4)\n",
        "ax.set_xlabel('Measured')\n",
        "ax.set_ylabel('Predicted')\n",
        "plt.show()"
      ],
      "metadata": {
        "colab": {
          "base_uri": "https://localhost:8080/",
          "height": 279
        },
        "id": "7mGOcme83nDY",
        "outputId": "f9aa16f3-b07c-416e-8f68-6dab5f2d64c4"
      },
      "execution_count": 127,
      "outputs": [
        {
          "output_type": "display_data",
          "data": {
            "text/plain": [
              "<Figure size 432x288 with 1 Axes>"
            ],
            "image/png": "[encoded data removed]"
          },
          "metadata": {
            "needs_background": "light"
          }
        }
      ]
    }
  ]
}