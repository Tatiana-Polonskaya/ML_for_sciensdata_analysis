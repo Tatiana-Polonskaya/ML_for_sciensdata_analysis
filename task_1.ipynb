{
  "nbformat": 4,
  "nbformat_minor": 0,
  "metadata": {
    "colab": {
      "provenance": [],
      "mount_file_id": "1i7GJ_LB2n8_bFT3Sx37vY5s8oarUrwzv",
      "authorship_tag": "ABX9TyOOlu3hMLKRdG0rhEI4V+pM",
      "include_colab_link": true
    },
    "kernelspec": {
      "name": "python3",
      "display_name": "Python 3"
    },
    "language_info": {
      "name": "python"
    }
  },
  "cells": [
    {
      "cell_type": "markdown",
      "metadata": {
        "id": "view-in-github",
        "colab_type": "text"
      },
      "source": [
        "<a href=\"https://colab.research.google.com/github/Tatiana-Polonskaya/ML_for_sciensdata_analysis/blob/main/task_1.ipynb\" target=\"_parent\"><img src=\"https://colab.research.google.com/assets/colab-badge.svg\" alt=\"Open In Colab\"/></a>"
      ]
    },
    {
      "cell_type": "code",
      "execution_count": 13,
      "metadata": {
        "id": "Kd0hjGF8IMk5"
      },
      "outputs": [],
      "source": [
        "import pandas as pd\n",
        "import dask as dd"
      ]
    },
    {
      "cell_type": "code",
      "source": [],
      "metadata": {
        "id": "KYybMXK5KEgU"
      },
      "execution_count": 14,
      "outputs": []
    },
    {
      "cell_type": "code",
      "source": [
        "from google.colab import drive\n",
        "drive.mount('/content/drive/')"
      ],
      "metadata": {
        "colab": {
          "base_uri": "https://localhost:8080/"
        },
        "id": "5ts2_l14I4iX",
        "outputId": "a19f46fb-5c4f-4535-b3e8-a7a675ac62b1"
      },
      "execution_count": 3,
      "outputs": [
        {
          "output_type": "stream",
          "name": "stdout",
          "text": [
            "Drive already mounted at /content/drive/; to attempt to forcibly remount, call drive.mount(\"/content/drive/\", force_remount=True).\n"
          ]
        }
      ]
    },
    {
      "cell_type": "code",
      "source": [
        "data = pd.read_csv(\"/content/drive/MyDrive/mo_couse_science_data/data-water/train.csv\")"
      ],
      "metadata": {
        "id": "siPtJmScJgzv"
      },
      "execution_count": 9,
      "outputs": []
    },
    {
      "cell_type": "code",
      "source": [
        "data.info()"
      ],
      "metadata": {
        "colab": {
          "base_uri": "https://localhost:8080/"
        },
        "id": "ovRYHvjdJ1A7",
        "outputId": "67a42926-8fd3-47f2-bfe1-f80c4934df3b"
      },
      "execution_count": 11,
      "outputs": [
        {
          "output_type": "stream",
          "name": "stdout",
          "text": [
            "<class 'pandas.core.frame.DataFrame'>\n",
            "RangeIndex: 13000 entries, 0 to 12999\n",
            "Data columns (total 28 columns):\n",
            " #   Column        Non-Null Count  Dtype  \n",
            "---  ------        --------------  -----  \n",
            " 0   id            13000 non-null  object \n",
            " 1   categoryA     13000 non-null  object \n",
            " 2   categoryB     13000 non-null  object \n",
            " 3   categoryC     13000 non-null  object \n",
            " 4   categoryD     13000 non-null  object \n",
            " 5   categoryE     13000 non-null  object \n",
            " 6   categoryF     13000 non-null  object \n",
            " 7   featureA      12936 non-null  float64\n",
            " 8   featureB      12936 non-null  float64\n",
            " 9   featureC      12936 non-null  float64\n",
            " 10  featureD      12936 non-null  float64\n",
            " 11  featureE      12936 non-null  float64\n",
            " 12  featureF      13000 non-null  float64\n",
            " 13  featureG      12936 non-null  float64\n",
            " 14  featureH      12936 non-null  float64\n",
            " 15  featureI      12936 non-null  float64\n",
            " 16  compositionA  12936 non-null  float64\n",
            " 17  compositionB  12936 non-null  float64\n",
            " 18  compositionC  12936 non-null  float64\n",
            " 19  compositionD  12936 non-null  float64\n",
            " 20  compositionE  12936 non-null  float64\n",
            " 21  compositionF  12936 non-null  float64\n",
            " 22  compositionG  12936 non-null  float64\n",
            " 23  compositionH  12936 non-null  float64\n",
            " 24  compositionI  12936 non-null  float64\n",
            " 25  compositionJ  12936 non-null  float64\n",
            " 26  unit          13000 non-null  object \n",
            " 27  result        13000 non-null  float64\n",
            "dtypes: float64(20), object(8)\n",
            "memory usage: 2.8+ MB\n"
          ]
        }
      ]
    },
    {
      "cell_type": "code",
      "source": [
        "data."
      ],
      "metadata": {
        "id": "bjjtLiH6KAk4"
      },
      "execution_count": null,
      "outputs": []
    }
  ]
}