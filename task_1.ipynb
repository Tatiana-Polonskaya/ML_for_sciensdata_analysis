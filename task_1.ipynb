{
  "nbformat": 4,
  "nbformat_minor": 0,
  "metadata": {
    "colab": {
      "provenance": [],
      "mount_file_id": "1i7GJ_LB2n8_bFT3Sx37vY5s8oarUrwzv",
      "authorship_tag": "ABX9TyM7wShLpAVRe5ruvCpQDIcY",
      "include_colab_link": true
    },
    "kernelspec": {
      "name": "python3",
      "display_name": "Python 3"
    },
    "language_info": {
      "name": "python"
    }
  },
  "cells": [
    {
      "cell_type": "markdown",
      "metadata": {
        "id": "view-in-github",
        "colab_type": "text"
      },
      "source": [
        "<a href=\"https://colab.research.google.com/github/Tatiana-Polonskaya/ML_for_sciensdata_analysis/blob/main/task_1.ipynb\" target=\"_parent\"><img src=\"https://colab.research.google.com/assets/colab-badge.svg\" alt=\"Open In Colab\"/></a>"
      ]
    },
    {
      "cell_type": "code",
      "execution_count": 1,
      "metadata": {
        "id": "Kd0hjGF8IMk5"
      },
      "outputs": [],
      "source": [
        "import pandas as pd\n",
        "import dask as dd"
      ]
    },
    {
      "cell_type": "code",
      "source": [
        "import numpy as np\n",
        "import seaborn as sns\n",
        "import matplotlib.pyplot as plt\n",
        "from sklearn.preprocessing import StandardScaler\n",
        "from sklearn.preprocessing import LabelEncoder\n",
        "from sklearn.model_selection import cross_val_score"
      ],
      "metadata": {
        "id": "KYybMXK5KEgU"
      },
      "execution_count": 63,
      "outputs": []
    },
    {
      "cell_type": "code",
      "source": [
        "from google.colab import drive\n",
        "drive.mount('/content/drive/')"
      ],
      "metadata": {
        "colab": {
          "base_uri": "https://localhost:8080/"
        },
        "id": "5ts2_l14I4iX",
        "outputId": "33c53c81-1693-4d23-a8c0-d10afb993baf"
      },
      "execution_count": 3,
      "outputs": [
        {
          "output_type": "stream",
          "name": "stdout",
          "text": [
            "Drive already mounted at /content/drive/; to attempt to forcibly remount, call drive.mount(\"/content/drive/\", force_remount=True).\n"
          ]
        }
      ]
    },
    {
      "cell_type": "code",
      "source": [
        "data = pd.read_csv(\"/content/drive/MyDrive/mo_couse_science_data/data-water/train.csv\")"
      ],
      "metadata": {
        "id": "siPtJmScJgzv"
      },
      "execution_count": 4,
      "outputs": []
    },
    {
      "cell_type": "code",
      "source": [
        "test = pd.read_csv(\"/content/drive/MyDrive/mo_couse_science_data/data-water/test.csv\")"
      ],
      "metadata": {
        "id": "RjfPtWnhmFhJ"
      },
      "execution_count": 6,
      "outputs": []
    },
    {
      "cell_type": "code",
      "source": [
        "data.info()"
      ],
      "metadata": {
        "colab": {
          "base_uri": "https://localhost:8080/"
        },
        "id": "ovRYHvjdJ1A7",
        "outputId": "658d3b3f-77c7-46f6-eb18-59424878af99"
      },
      "execution_count": 7,
      "outputs": [
        {
          "output_type": "stream",
          "name": "stdout",
          "text": [
            "<class 'pandas.core.frame.DataFrame'>\n",
            "RangeIndex: 13000 entries, 0 to 12999\n",
            "Data columns (total 28 columns):\n",
            " #   Column        Non-Null Count  Dtype  \n",
            "---  ------        --------------  -----  \n",
            " 0   id            13000 non-null  object \n",
            " 1   categoryA     13000 non-null  object \n",
            " 2   categoryB     13000 non-null  object \n",
            " 3   categoryC     13000 non-null  object \n",
            " 4   categoryD     13000 non-null  object \n",
            " 5   categoryE     13000 non-null  object \n",
            " 6   categoryF     13000 non-null  object \n",
            " 7   featureA      12936 non-null  float64\n",
            " 8   featureB      12936 non-null  float64\n",
            " 9   featureC      12936 non-null  float64\n",
            " 10  featureD      12936 non-null  float64\n",
            " 11  featureE      12936 non-null  float64\n",
            " 12  featureF      13000 non-null  float64\n",
            " 13  featureG      12936 non-null  float64\n",
            " 14  featureH      12936 non-null  float64\n",
            " 15  featureI      12936 non-null  float64\n",
            " 16  compositionA  12936 non-null  float64\n",
            " 17  compositionB  12936 non-null  float64\n",
            " 18  compositionC  12936 non-null  float64\n",
            " 19  compositionD  12936 non-null  float64\n",
            " 20  compositionE  12936 non-null  float64\n",
            " 21  compositionF  12936 non-null  float64\n",
            " 22  compositionG  12936 non-null  float64\n",
            " 23  compositionH  12936 non-null  float64\n",
            " 24  compositionI  12936 non-null  float64\n",
            " 25  compositionJ  12936 non-null  float64\n",
            " 26  unit          13000 non-null  object \n",
            " 27  result        13000 non-null  float64\n",
            "dtypes: float64(20), object(8)\n",
            "memory usage: 2.8+ MB\n"
          ]
        }
      ]
    },
    {
      "cell_type": "markdown",
      "source": [
        "Признак *result* - целевая переменная, которую необходимо предсказать -> решается задача **регресии**"
      ],
      "metadata": {
        "id": "hHJoBZPukODO"
      }
    },
    {
      "cell_type": "markdown",
      "source": [
        "Для оценки качества модели будет использован коэффициент детерминации, т.к. результат детерминации легче интерпритировать для сравнения качества моделей в интервале от 0 до 1 "
      ],
      "metadata": {
        "id": "ruaYyCGh5LWx"
      }
    },
    {
      "cell_type": "code",
      "source": [
        "data.head()"
      ],
      "metadata": {
        "id": "bjjtLiH6KAk4",
        "colab": {
          "base_uri": "https://localhost:8080/",
          "height": 299
        },
        "outputId": "67e5e595-3be1-4968-b4c2-b70e8694358c"
      },
      "execution_count": 8,
      "outputs": [
        {
          "output_type": "execute_result",
          "data": {
            "text/plain": [
              "                                                  id categoryA categoryB  \\\n",
              "0  a563699ca2a601c6ac64aa29986a00a90fb42b48741695...    catA_1    catB_0   \n",
              "1  91ab3eb3bcf6c8c1c5fe2da9ba671aa5a48c7369d9a50f...    catA_1    catB_0   \n",
              "2  7128c51c554735d6c81862684ad6005ae12d2edbcd4644...   catA_15    catB_0   \n",
              "3  c8144b52e4f63014de0a0d8e1c629bf0b05cb2696cfc23...    catA_0    catB_0   \n",
              "4  88d15a5b2df6692f23d105ff1ae82ae026be00c9271eef...   catA_22    catB_0   \n",
              "\n",
              "   categoryC categoryD categoryE categoryF   featureA  featureB  featureC  \\\n",
              "0   catC_718    catD_0    catE_0    catF_0  75808.375  4.457840  0.005718   \n",
              "1  catC_1309    catD_0    catE_0    catF_0  75808.375  4.457840  0.005718   \n",
              "2  catC_1309    catD_0    catE_0    catF_0  75808.375  4.457840  0.005718   \n",
              "3   catC_935    catD_0    catE_0    catF_0  75808.375  4.457840  0.005718   \n",
              "4  catC_1325    catD_0    catE_2    catF_0 -40055.250  4.363288  0.729194   \n",
              "\n",
              "   ...  compositionC  compositionD  compositionE  compositionF  compositionG  \\\n",
              "0  ...          26.0           0.0          32.0           3.0           0.0   \n",
              "1  ...          26.0           0.0          32.0           3.0           0.0   \n",
              "2  ...          26.0           0.0          32.0           3.0           0.0   \n",
              "3  ...          26.0           0.0          32.0           3.0           0.0   \n",
              "4  ...          14.0           0.0          49.0           3.0           2.0   \n",
              "\n",
              "   compositionH  compositionI  compositionJ     unit    result  \n",
              "0           9.0         22.26          20.0   unit_6  0.000458  \n",
              "1           9.0         22.26          20.0   unit_6  0.000335  \n",
              "2           9.0         22.26          20.0   unit_4  0.054072  \n",
              "3           9.0         22.26          20.0   unit_5  0.061143  \n",
              "4           9.0         16.84          15.0  unit_15  0.015439  \n",
              "\n",
              "[5 rows x 28 columns]"
            ],
            "text/html": [
              "\n",
              "  <div id=\"df-e2f1b602-4051-4ade-a440-87c09c25c64b\">\n",
              "    <div class=\"colab-df-container\">\n",
              "      <div>\n",
              "<style scoped>\n",
              "    .dataframe tbody tr th:only-of-type {\n",
              "        vertical-align: middle;\n",
              "    }\n",
              "\n",
              "    .dataframe tbody tr th {\n",
              "        vertical-align: top;\n",
              "    }\n",
              "\n",
              "    .dataframe thead th {\n",
              "        text-align: right;\n",
              "    }\n",
              "</style>\n",
              "<table border=\"1\" class=\"dataframe\">\n",
              "  <thead>\n",
              "    <tr style=\"text-align: right;\">\n",
              "      <th></th>\n",
              "      <th>id</th>\n",
              "      <th>categoryA</th>\n",
              "      <th>categoryB</th>\n",
              "      <th>categoryC</th>\n",
              "      <th>categoryD</th>\n",
              "      <th>categoryE</th>\n",
              "      <th>categoryF</th>\n",
              "      <th>featureA</th>\n",
              "      <th>featureB</th>\n",
              "      <th>featureC</th>\n",
              "      <th>...</th>\n",
              "      <th>compositionC</th>\n",
              "      <th>compositionD</th>\n",
              "      <th>compositionE</th>\n",
              "      <th>compositionF</th>\n",
              "      <th>compositionG</th>\n",
              "      <th>compositionH</th>\n",
              "      <th>compositionI</th>\n",
              "      <th>compositionJ</th>\n",
              "      <th>unit</th>\n",
              "      <th>result</th>\n",
              "    </tr>\n",
              "  </thead>\n",
              "  <tbody>\n",
              "    <tr>\n",
              "      <th>0</th>\n",
              "      <td>a563699ca2a601c6ac64aa29986a00a90fb42b48741695...</td>\n",
              "      <td>catA_1</td>\n",
              "      <td>catB_0</td>\n",
              "      <td>catC_718</td>\n",
              "      <td>catD_0</td>\n",
              "      <td>catE_0</td>\n",
              "      <td>catF_0</td>\n",
              "      <td>75808.375</td>\n",
              "      <td>4.457840</td>\n",
              "      <td>0.005718</td>\n",
              "      <td>...</td>\n",
              "      <td>26.0</td>\n",
              "      <td>0.0</td>\n",
              "      <td>32.0</td>\n",
              "      <td>3.0</td>\n",
              "      <td>0.0</td>\n",
              "      <td>9.0</td>\n",
              "      <td>22.26</td>\n",
              "      <td>20.0</td>\n",
              "      <td>unit_6</td>\n",
              "      <td>0.000458</td>\n",
              "    </tr>\n",
              "    <tr>\n",
              "      <th>1</th>\n",
              "      <td>91ab3eb3bcf6c8c1c5fe2da9ba671aa5a48c7369d9a50f...</td>\n",
              "      <td>catA_1</td>\n",
              "      <td>catB_0</td>\n",
              "      <td>catC_1309</td>\n",
              "      <td>catD_0</td>\n",
              "      <td>catE_0</td>\n",
              "      <td>catF_0</td>\n",
              "      <td>75808.375</td>\n",
              "      <td>4.457840</td>\n",
              "      <td>0.005718</td>\n",
              "      <td>...</td>\n",
              "      <td>26.0</td>\n",
              "      <td>0.0</td>\n",
              "      <td>32.0</td>\n",
              "      <td>3.0</td>\n",
              "      <td>0.0</td>\n",
              "      <td>9.0</td>\n",
              "      <td>22.26</td>\n",
              "      <td>20.0</td>\n",
              "      <td>unit_6</td>\n",
              "      <td>0.000335</td>\n",
              "    </tr>\n",
              "    <tr>\n",
              "      <th>2</th>\n",
              "      <td>7128c51c554735d6c81862684ad6005ae12d2edbcd4644...</td>\n",
              "      <td>catA_15</td>\n",
              "      <td>catB_0</td>\n",
              "      <td>catC_1309</td>\n",
              "      <td>catD_0</td>\n",
              "      <td>catE_0</td>\n",
              "      <td>catF_0</td>\n",
              "      <td>75808.375</td>\n",
              "      <td>4.457840</td>\n",
              "      <td>0.005718</td>\n",
              "      <td>...</td>\n",
              "      <td>26.0</td>\n",
              "      <td>0.0</td>\n",
              "      <td>32.0</td>\n",
              "      <td>3.0</td>\n",
              "      <td>0.0</td>\n",
              "      <td>9.0</td>\n",
              "      <td>22.26</td>\n",
              "      <td>20.0</td>\n",
              "      <td>unit_4</td>\n",
              "      <td>0.054072</td>\n",
              "    </tr>\n",
              "    <tr>\n",
              "      <th>3</th>\n",
              "      <td>c8144b52e4f63014de0a0d8e1c629bf0b05cb2696cfc23...</td>\n",
              "      <td>catA_0</td>\n",
              "      <td>catB_0</td>\n",
              "      <td>catC_935</td>\n",
              "      <td>catD_0</td>\n",
              "      <td>catE_0</td>\n",
              "      <td>catF_0</td>\n",
              "      <td>75808.375</td>\n",
              "      <td>4.457840</td>\n",
              "      <td>0.005718</td>\n",
              "      <td>...</td>\n",
              "      <td>26.0</td>\n",
              "      <td>0.0</td>\n",
              "      <td>32.0</td>\n",
              "      <td>3.0</td>\n",
              "      <td>0.0</td>\n",
              "      <td>9.0</td>\n",
              "      <td>22.26</td>\n",
              "      <td>20.0</td>\n",
              "      <td>unit_5</td>\n",
              "      <td>0.061143</td>\n",
              "    </tr>\n",
              "    <tr>\n",
              "      <th>4</th>\n",
              "      <td>88d15a5b2df6692f23d105ff1ae82ae026be00c9271eef...</td>\n",
              "      <td>catA_22</td>\n",
              "      <td>catB_0</td>\n",
              "      <td>catC_1325</td>\n",
              "      <td>catD_0</td>\n",
              "      <td>catE_2</td>\n",
              "      <td>catF_0</td>\n",
              "      <td>-40055.250</td>\n",
              "      <td>4.363288</td>\n",
              "      <td>0.729194</td>\n",
              "      <td>...</td>\n",
              "      <td>14.0</td>\n",
              "      <td>0.0</td>\n",
              "      <td>49.0</td>\n",
              "      <td>3.0</td>\n",
              "      <td>2.0</td>\n",
              "      <td>9.0</td>\n",
              "      <td>16.84</td>\n",
              "      <td>15.0</td>\n",
              "      <td>unit_15</td>\n",
              "      <td>0.015439</td>\n",
              "    </tr>\n",
              "  </tbody>\n",
              "</table>\n",
              "<p>5 rows × 28 columns</p>\n",
              "</div>\n",
              "      <button class=\"colab-df-convert\" onclick=\"convertToInteractive('df-e2f1b602-4051-4ade-a440-87c09c25c64b')\"\n",
              "              title=\"Convert this dataframe to an interactive table.\"\n",
              "              style=\"display:none;\">\n",
              "        \n",
              "  <svg xmlns=\"http://www.w3.org/2000/svg\" height=\"24px\"viewBox=\"0 0 24 24\"\n",
              "       width=\"24px\">\n",
              "    <path d=\"M0 0h24v24H0V0z\" fill=\"none\"/>\n",
              "    <path d=\"M18.56 5.44l.94 2.06.94-2.06 2.06-.94-2.06-.94-.94-2.06-.94 2.06-2.06.94zm-11 1L8.5 8.5l.94-2.06 2.06-.94-2.06-.94L8.5 2.5l-.94 2.06-2.06.94zm10 10l.94 2.06.94-2.06 2.06-.94-2.06-.94-.94-2.06-.94 2.06-2.06.94z\"/><path d=\"M17.41 7.96l-1.37-1.37c-.4-.4-.92-.59-1.43-.59-.52 0-1.04.2-1.43.59L10.3 9.45l-7.72 7.72c-.78.78-.78 2.05 0 2.83L4 21.41c.39.39.9.59 1.41.59.51 0 1.02-.2 1.41-.59l7.78-7.78 2.81-2.81c.8-.78.8-2.07 0-2.86zM5.41 20L4 18.59l7.72-7.72 1.47 1.35L5.41 20z\"/>\n",
              "  </svg>\n",
              "      </button>\n",
              "      \n",
              "  <style>\n",
              "    .colab-df-container {\n",
              "      display:flex;\n",
              "      flex-wrap:wrap;\n",
              "      gap: 12px;\n",
              "    }\n",
              "\n",
              "    .colab-df-convert {\n",
              "      background-color: #E8F0FE;\n",
              "      border: none;\n",
              "      border-radius: 50%;\n",
              "      cursor: pointer;\n",
              "      display: none;\n",
              "      fill: #1967D2;\n",
              "      height: 32px;\n",
              "      padding: 0 0 0 0;\n",
              "      width: 32px;\n",
              "    }\n",
              "\n",
              "    .colab-df-convert:hover {\n",
              "      background-color: #E2EBFA;\n",
              "      box-shadow: 0px 1px 2px rgba(60, 64, 67, 0.3), 0px 1px 3px 1px rgba(60, 64, 67, 0.15);\n",
              "      fill: #174EA6;\n",
              "    }\n",
              "\n",
              "    [theme=dark] .colab-df-convert {\n",
              "      background-color: #3B4455;\n",
              "      fill: #D2E3FC;\n",
              "    }\n",
              "\n",
              "    [theme=dark] .colab-df-convert:hover {\n",
              "      background-color: #434B5C;\n",
              "      box-shadow: 0px 1px 3px 1px rgba(0, 0, 0, 0.15);\n",
              "      filter: drop-shadow(0px 1px 2px rgba(0, 0, 0, 0.3));\n",
              "      fill: #FFFFFF;\n",
              "    }\n",
              "  </style>\n",
              "\n",
              "      <script>\n",
              "        const buttonEl =\n",
              "          document.querySelector('#df-e2f1b602-4051-4ade-a440-87c09c25c64b button.colab-df-convert');\n",
              "        buttonEl.style.display =\n",
              "          google.colab.kernel.accessAllowed ? 'block' : 'none';\n",
              "\n",
              "        async function convertToInteractive(key) {\n",
              "          const element = document.querySelector('#df-e2f1b602-4051-4ade-a440-87c09c25c64b');\n",
              "          const dataTable =\n",
              "            await google.colab.kernel.invokeFunction('convertToInteractive',\n",
              "                                                     [key], {});\n",
              "          if (!dataTable) return;\n",
              "\n",
              "          const docLinkHtml = 'Like what you see? Visit the ' +\n",
              "            '<a target=\"_blank\" href=https://colab.research.google.com/notebooks/data_table.ipynb>data table notebook</a>'\n",
              "            + ' to learn more about interactive tables.';\n",
              "          element.innerHTML = '';\n",
              "          dataTable['output_type'] = 'display_data';\n",
              "          await google.colab.output.renderOutput(dataTable, element);\n",
              "          const docLink = document.createElement('div');\n",
              "          docLink.innerHTML = docLinkHtml;\n",
              "          element.appendChild(docLink);\n",
              "        }\n",
              "      </script>\n",
              "    </div>\n",
              "  </div>\n",
              "  "
            ]
          },
          "metadata": {},
          "execution_count": 8
        }
      ]
    },
    {
      "cell_type": "code",
      "source": [
        "data.describe()"
      ],
      "metadata": {
        "colab": {
          "base_uri": "https://localhost:8080/",
          "height": 364
        },
        "id": "-ZbI4yysifh3",
        "outputId": "4b70e5f3-4476-45aa-8f21-49ebe5959b00"
      },
      "execution_count": 9,
      "outputs": [
        {
          "output_type": "execute_result",
          "data": {
            "text/plain": [
              "            featureA      featureB      featureC      featureD      featureE  \\\n",
              "count   12936.000000  12936.000000  12936.000000  12936.000000  12936.000000   \n",
              "mean   116559.238066      4.526278      0.132972    150.341104     26.446181   \n",
              "std    146502.011917      3.180817      0.264148     75.093666      6.665619   \n",
              "min    -83749.750000      1.064468      0.000000     18.148547      3.875411   \n",
              "25%     56744.750000      4.363288      0.005718    122.299437     24.625503   \n",
              "50%     75808.375000      4.457840      0.005718    122.299437     30.831906   \n",
              "75%     75808.375000      4.457840      0.032407    137.976566     30.831906   \n",
              "max    582211.000000     25.982190      0.729194    511.475928     38.767234   \n",
              "\n",
              "           featureF      featureG      featureH      featureI  compositionA  \\\n",
              "count  13000.000000  1.293600e+04  12936.000000  1.293600e+04  12936.000000   \n",
              "mean       0.217538  2.335365e+12     15.047186  5.020210e+07      0.164923   \n",
              "std        2.380893  8.937298e+11     32.000372  2.412360e+07      0.743228   \n",
              "min        0.000000  2.887150e+10      0.000000  5.300380e+05      0.000000   \n",
              "25%        0.000000  1.464509e+12      0.000000  2.586796e+07      0.000000   \n",
              "50%        0.000000  2.806036e+12      0.000000  5.094169e+07      0.000000   \n",
              "75%        0.000000  2.806036e+12      0.000000  7.117635e+07      0.000000   \n",
              "max      100.000000  3.781699e+12     87.158924  7.117635e+07      4.000000   \n",
              "\n",
              "       compositionB  compositionC  compositionD  compositionE  compositionF  \\\n",
              "count  12936.000000  12936.000000  12936.000000  12936.000000  12936.000000   \n",
              "mean       7.708228     23.627522      1.296887     32.038122      3.178698   \n",
              "std        3.208687      6.433507      3.724154     11.098175      1.098585   \n",
              "min        2.200000      0.000000      0.000000     12.780000      1.380000   \n",
              "25%        5.830000     17.700000      0.000000     30.000000      3.000000   \n",
              "50%       10.000000     26.000000      0.000000     32.000000      3.000000   \n",
              "75%       10.000000     26.000000      1.940000     32.000000      3.000000   \n",
              "max       21.400000     44.050000     30.460000     62.300000      9.200000   \n",
              "\n",
              "       compositionG  compositionH  compositionI  compositionJ        result  \n",
              "count  12936.000000  12936.000000  12936.000000  12936.000000  13000.000000  \n",
              "mean       2.024316     11.214700     23.386089     18.942594      0.144223  \n",
              "std        2.964965      4.860118      5.937944      4.096265      0.224062  \n",
              "min        0.000000      1.450000      0.760000      6.100000      0.000000  \n",
              "25%        0.000000      9.000000     22.260000     18.900000      0.003875  \n",
              "50%        0.000000      9.000000     22.260000     20.000000      0.027909  \n",
              "75%        2.000000     12.330000     27.250000     20.000000      0.168678  \n",
              "max        7.900000     20.200000     47.830000     37.830000      1.000000  "
            ],
            "text/html": [
              "\n",
              "  <div id=\"df-a01c875c-eda9-41d7-a20c-3b3355eac9fc\">\n",
              "    <div class=\"colab-df-container\">\n",
              "      <div>\n",
              "<style scoped>\n",
              "    .dataframe tbody tr th:only-of-type {\n",
              "        vertical-align: middle;\n",
              "    }\n",
              "\n",
              "    .dataframe tbody tr th {\n",
              "        vertical-align: top;\n",
              "    }\n",
              "\n",
              "    .dataframe thead th {\n",
              "        text-align: right;\n",
              "    }\n",
              "</style>\n",
              "<table border=\"1\" class=\"dataframe\">\n",
              "  <thead>\n",
              "    <tr style=\"text-align: right;\">\n",
              "      <th></th>\n",
              "      <th>featureA</th>\n",
              "      <th>featureB</th>\n",
              "      <th>featureC</th>\n",
              "      <th>featureD</th>\n",
              "      <th>featureE</th>\n",
              "      <th>featureF</th>\n",
              "      <th>featureG</th>\n",
              "      <th>featureH</th>\n",
              "      <th>featureI</th>\n",
              "      <th>compositionA</th>\n",
              "      <th>compositionB</th>\n",
              "      <th>compositionC</th>\n",
              "      <th>compositionD</th>\n",
              "      <th>compositionE</th>\n",
              "      <th>compositionF</th>\n",
              "      <th>compositionG</th>\n",
              "      <th>compositionH</th>\n",
              "      <th>compositionI</th>\n",
              "      <th>compositionJ</th>\n",
              "      <th>result</th>\n",
              "    </tr>\n",
              "  </thead>\n",
              "  <tbody>\n",
              "    <tr>\n",
              "      <th>count</th>\n",
              "      <td>12936.000000</td>\n",
              "      <td>12936.000000</td>\n",
              "      <td>12936.000000</td>\n",
              "      <td>12936.000000</td>\n",
              "      <td>12936.000000</td>\n",
              "      <td>13000.000000</td>\n",
              "      <td>1.293600e+04</td>\n",
              "      <td>12936.000000</td>\n",
              "      <td>1.293600e+04</td>\n",
              "      <td>12936.000000</td>\n",
              "      <td>12936.000000</td>\n",
              "      <td>12936.000000</td>\n",
              "      <td>12936.000000</td>\n",
              "      <td>12936.000000</td>\n",
              "      <td>12936.000000</td>\n",
              "      <td>12936.000000</td>\n",
              "      <td>12936.000000</td>\n",
              "      <td>12936.000000</td>\n",
              "      <td>12936.000000</td>\n",
              "      <td>13000.000000</td>\n",
              "    </tr>\n",
              "    <tr>\n",
              "      <th>mean</th>\n",
              "      <td>116559.238066</td>\n",
              "      <td>4.526278</td>\n",
              "      <td>0.132972</td>\n",
              "      <td>150.341104</td>\n",
              "      <td>26.446181</td>\n",
              "      <td>0.217538</td>\n",
              "      <td>2.335365e+12</td>\n",
              "      <td>15.047186</td>\n",
              "      <td>5.020210e+07</td>\n",
              "      <td>0.164923</td>\n",
              "      <td>7.708228</td>\n",
              "      <td>23.627522</td>\n",
              "      <td>1.296887</td>\n",
              "      <td>32.038122</td>\n",
              "      <td>3.178698</td>\n",
              "      <td>2.024316</td>\n",
              "      <td>11.214700</td>\n",
              "      <td>23.386089</td>\n",
              "      <td>18.942594</td>\n",
              "      <td>0.144223</td>\n",
              "    </tr>\n",
              "    <tr>\n",
              "      <th>std</th>\n",
              "      <td>146502.011917</td>\n",
              "      <td>3.180817</td>\n",
              "      <td>0.264148</td>\n",
              "      <td>75.093666</td>\n",
              "      <td>6.665619</td>\n",
              "      <td>2.380893</td>\n",
              "      <td>8.937298e+11</td>\n",
              "      <td>32.000372</td>\n",
              "      <td>2.412360e+07</td>\n",
              "      <td>0.743228</td>\n",
              "      <td>3.208687</td>\n",
              "      <td>6.433507</td>\n",
              "      <td>3.724154</td>\n",
              "      <td>11.098175</td>\n",
              "      <td>1.098585</td>\n",
              "      <td>2.964965</td>\n",
              "      <td>4.860118</td>\n",
              "      <td>5.937944</td>\n",
              "      <td>4.096265</td>\n",
              "      <td>0.224062</td>\n",
              "    </tr>\n",
              "    <tr>\n",
              "      <th>min</th>\n",
              "      <td>-83749.750000</td>\n",
              "      <td>1.064468</td>\n",
              "      <td>0.000000</td>\n",
              "      <td>18.148547</td>\n",
              "      <td>3.875411</td>\n",
              "      <td>0.000000</td>\n",
              "      <td>2.887150e+10</td>\n",
              "      <td>0.000000</td>\n",
              "      <td>5.300380e+05</td>\n",
              "      <td>0.000000</td>\n",
              "      <td>2.200000</td>\n",
              "      <td>0.000000</td>\n",
              "      <td>0.000000</td>\n",
              "      <td>12.780000</td>\n",
              "      <td>1.380000</td>\n",
              "      <td>0.000000</td>\n",
              "      <td>1.450000</td>\n",
              "      <td>0.760000</td>\n",
              "      <td>6.100000</td>\n",
              "      <td>0.000000</td>\n",
              "    </tr>\n",
              "    <tr>\n",
              "      <th>25%</th>\n",
              "      <td>56744.750000</td>\n",
              "      <td>4.363288</td>\n",
              "      <td>0.005718</td>\n",
              "      <td>122.299437</td>\n",
              "      <td>24.625503</td>\n",
              "      <td>0.000000</td>\n",
              "      <td>1.464509e+12</td>\n",
              "      <td>0.000000</td>\n",
              "      <td>2.586796e+07</td>\n",
              "      <td>0.000000</td>\n",
              "      <td>5.830000</td>\n",
              "      <td>17.700000</td>\n",
              "      <td>0.000000</td>\n",
              "      <td>30.000000</td>\n",
              "      <td>3.000000</td>\n",
              "      <td>0.000000</td>\n",
              "      <td>9.000000</td>\n",
              "      <td>22.260000</td>\n",
              "      <td>18.900000</td>\n",
              "      <td>0.003875</td>\n",
              "    </tr>\n",
              "    <tr>\n",
              "      <th>50%</th>\n",
              "      <td>75808.375000</td>\n",
              "      <td>4.457840</td>\n",
              "      <td>0.005718</td>\n",
              "      <td>122.299437</td>\n",
              "      <td>30.831906</td>\n",
              "      <td>0.000000</td>\n",
              "      <td>2.806036e+12</td>\n",
              "      <td>0.000000</td>\n",
              "      <td>5.094169e+07</td>\n",
              "      <td>0.000000</td>\n",
              "      <td>10.000000</td>\n",
              "      <td>26.000000</td>\n",
              "      <td>0.000000</td>\n",
              "      <td>32.000000</td>\n",
              "      <td>3.000000</td>\n",
              "      <td>0.000000</td>\n",
              "      <td>9.000000</td>\n",
              "      <td>22.260000</td>\n",
              "      <td>20.000000</td>\n",
              "      <td>0.027909</td>\n",
              "    </tr>\n",
              "    <tr>\n",
              "      <th>75%</th>\n",
              "      <td>75808.375000</td>\n",
              "      <td>4.457840</td>\n",
              "      <td>0.032407</td>\n",
              "      <td>137.976566</td>\n",
              "      <td>30.831906</td>\n",
              "      <td>0.000000</td>\n",
              "      <td>2.806036e+12</td>\n",
              "      <td>0.000000</td>\n",
              "      <td>7.117635e+07</td>\n",
              "      <td>0.000000</td>\n",
              "      <td>10.000000</td>\n",
              "      <td>26.000000</td>\n",
              "      <td>1.940000</td>\n",
              "      <td>32.000000</td>\n",
              "      <td>3.000000</td>\n",
              "      <td>2.000000</td>\n",
              "      <td>12.330000</td>\n",
              "      <td>27.250000</td>\n",
              "      <td>20.000000</td>\n",
              "      <td>0.168678</td>\n",
              "    </tr>\n",
              "    <tr>\n",
              "      <th>max</th>\n",
              "      <td>582211.000000</td>\n",
              "      <td>25.982190</td>\n",
              "      <td>0.729194</td>\n",
              "      <td>511.475928</td>\n",
              "      <td>38.767234</td>\n",
              "      <td>100.000000</td>\n",
              "      <td>3.781699e+12</td>\n",
              "      <td>87.158924</td>\n",
              "      <td>7.117635e+07</td>\n",
              "      <td>4.000000</td>\n",
              "      <td>21.400000</td>\n",
              "      <td>44.050000</td>\n",
              "      <td>30.460000</td>\n",
              "      <td>62.300000</td>\n",
              "      <td>9.200000</td>\n",
              "      <td>7.900000</td>\n",
              "      <td>20.200000</td>\n",
              "      <td>47.830000</td>\n",
              "      <td>37.830000</td>\n",
              "      <td>1.000000</td>\n",
              "    </tr>\n",
              "  </tbody>\n",
              "</table>\n",
              "</div>\n",
              "      <button class=\"colab-df-convert\" onclick=\"convertToInteractive('df-a01c875c-eda9-41d7-a20c-3b3355eac9fc')\"\n",
              "              title=\"Convert this dataframe to an interactive table.\"\n",
              "              style=\"display:none;\">\n",
              "        \n",
              "  <svg xmlns=\"http://www.w3.org/2000/svg\" height=\"24px\"viewBox=\"0 0 24 24\"\n",
              "       width=\"24px\">\n",
              "    <path d=\"M0 0h24v24H0V0z\" fill=\"none\"/>\n",
              "    <path d=\"M18.56 5.44l.94 2.06.94-2.06 2.06-.94-2.06-.94-.94-2.06-.94 2.06-2.06.94zm-11 1L8.5 8.5l.94-2.06 2.06-.94-2.06-.94L8.5 2.5l-.94 2.06-2.06.94zm10 10l.94 2.06.94-2.06 2.06-.94-2.06-.94-.94-2.06-.94 2.06-2.06.94z\"/><path d=\"M17.41 7.96l-1.37-1.37c-.4-.4-.92-.59-1.43-.59-.52 0-1.04.2-1.43.59L10.3 9.45l-7.72 7.72c-.78.78-.78 2.05 0 2.83L4 21.41c.39.39.9.59 1.41.59.51 0 1.02-.2 1.41-.59l7.78-7.78 2.81-2.81c.8-.78.8-2.07 0-2.86zM5.41 20L4 18.59l7.72-7.72 1.47 1.35L5.41 20z\"/>\n",
              "  </svg>\n",
              "      </button>\n",
              "      \n",
              "  <style>\n",
              "    .colab-df-container {\n",
              "      display:flex;\n",
              "      flex-wrap:wrap;\n",
              "      gap: 12px;\n",
              "    }\n",
              "\n",
              "    .colab-df-convert {\n",
              "      background-color: #E8F0FE;\n",
              "      border: none;\n",
              "      border-radius: 50%;\n",
              "      cursor: pointer;\n",
              "      display: none;\n",
              "      fill: #1967D2;\n",
              "      height: 32px;\n",
              "      padding: 0 0 0 0;\n",
              "      width: 32px;\n",
              "    }\n",
              "\n",
              "    .colab-df-convert:hover {\n",
              "      background-color: #E2EBFA;\n",
              "      box-shadow: 0px 1px 2px rgba(60, 64, 67, 0.3), 0px 1px 3px 1px rgba(60, 64, 67, 0.15);\n",
              "      fill: #174EA6;\n",
              "    }\n",
              "\n",
              "    [theme=dark] .colab-df-convert {\n",
              "      background-color: #3B4455;\n",
              "      fill: #D2E3FC;\n",
              "    }\n",
              "\n",
              "    [theme=dark] .colab-df-convert:hover {\n",
              "      background-color: #434B5C;\n",
              "      box-shadow: 0px 1px 3px 1px rgba(0, 0, 0, 0.15);\n",
              "      filter: drop-shadow(0px 1px 2px rgba(0, 0, 0, 0.3));\n",
              "      fill: #FFFFFF;\n",
              "    }\n",
              "  </style>\n",
              "\n",
              "      <script>\n",
              "        const buttonEl =\n",
              "          document.querySelector('#df-a01c875c-eda9-41d7-a20c-3b3355eac9fc button.colab-df-convert');\n",
              "        buttonEl.style.display =\n",
              "          google.colab.kernel.accessAllowed ? 'block' : 'none';\n",
              "\n",
              "        async function convertToInteractive(key) {\n",
              "          const element = document.querySelector('#df-a01c875c-eda9-41d7-a20c-3b3355eac9fc');\n",
              "          const dataTable =\n",
              "            await google.colab.kernel.invokeFunction('convertToInteractive',\n",
              "                                                     [key], {});\n",
              "          if (!dataTable) return;\n",
              "\n",
              "          const docLinkHtml = 'Like what you see? Visit the ' +\n",
              "            '<a target=\"_blank\" href=https://colab.research.google.com/notebooks/data_table.ipynb>data table notebook</a>'\n",
              "            + ' to learn more about interactive tables.';\n",
              "          element.innerHTML = '';\n",
              "          dataTable['output_type'] = 'display_data';\n",
              "          await google.colab.output.renderOutput(dataTable, element);\n",
              "          const docLink = document.createElement('div');\n",
              "          docLink.innerHTML = docLinkHtml;\n",
              "          element.appendChild(docLink);\n",
              "        }\n",
              "      </script>\n",
              "    </div>\n",
              "  </div>\n",
              "  "
            ]
          },
          "metadata": {},
          "execution_count": 9
        }
      ]
    },
    {
      "cell_type": "code",
      "source": [
        "data.shape"
      ],
      "metadata": {
        "colab": {
          "base_uri": "https://localhost:8080/"
        },
        "id": "KNGIuFsZjwyu",
        "outputId": "01990556-641f-48b5-94b5-a94572f758e3"
      },
      "execution_count": 10,
      "outputs": [
        {
          "output_type": "execute_result",
          "data": {
            "text/plain": [
              "(13000, 28)"
            ]
          },
          "metadata": {},
          "execution_count": 10
        }
      ]
    },
    {
      "cell_type": "code",
      "source": [
        "data.isnull().sum() "
      ],
      "metadata": {
        "colab": {
          "base_uri": "https://localhost:8080/"
        },
        "id": "VwAS2axVktI_",
        "outputId": "00f83d58-723b-408d-cf2f-8db410feab81"
      },
      "execution_count": 11,
      "outputs": [
        {
          "output_type": "execute_result",
          "data": {
            "text/plain": [
              "id               0\n",
              "categoryA        0\n",
              "categoryB        0\n",
              "categoryC        0\n",
              "categoryD        0\n",
              "categoryE        0\n",
              "categoryF        0\n",
              "featureA        64\n",
              "featureB        64\n",
              "featureC        64\n",
              "featureD        64\n",
              "featureE        64\n",
              "featureF         0\n",
              "featureG        64\n",
              "featureH        64\n",
              "featureI        64\n",
              "compositionA    64\n",
              "compositionB    64\n",
              "compositionC    64\n",
              "compositionD    64\n",
              "compositionE    64\n",
              "compositionF    64\n",
              "compositionG    64\n",
              "compositionH    64\n",
              "compositionI    64\n",
              "compositionJ    64\n",
              "unit             0\n",
              "result           0\n",
              "dtype: int64"
            ]
          },
          "metadata": {},
          "execution_count": 11
        }
      ]
    },
    {
      "cell_type": "code",
      "source": [
        "data = data.dropna()\n",
        "test = test.dropna()"
      ],
      "metadata": {
        "id": "nGlkfRGFk-ds"
      },
      "execution_count": 17,
      "outputs": []
    },
    {
      "cell_type": "code",
      "source": [
        "test.isna().any().any()"
      ],
      "metadata": {
        "colab": {
          "base_uri": "https://localhost:8080/"
        },
        "id": "r5126on12YQc",
        "outputId": "ff941a70-9ded-49a9-c862-920d0ebc13f7"
      },
      "execution_count": 18,
      "outputs": [
        {
          "output_type": "execute_result",
          "data": {
            "text/plain": [
              "False"
            ]
          },
          "metadata": {},
          "execution_count": 18
        }
      ]
    },
    {
      "cell_type": "code",
      "source": [
        "data.isna().any().any()"
      ],
      "metadata": {
        "id": "0NYy3Ab4kwsG",
        "colab": {
          "base_uri": "https://localhost:8080/"
        },
        "outputId": "1fe2d4fe-f970-4cd2-b09f-45cc73aff982"
      },
      "execution_count": 13,
      "outputs": [
        {
          "output_type": "execute_result",
          "data": {
            "text/plain": [
              "False"
            ]
          },
          "metadata": {},
          "execution_count": 13
        }
      ]
    },
    {
      "cell_type": "code",
      "source": [
        "data.describe(include='all')"
      ],
      "metadata": {
        "colab": {
          "base_uri": "https://localhost:8080/",
          "height": 488
        },
        "id": "xRTEvcUDmXTT",
        "outputId": "0b2a5394-7b0f-4516-cc2b-446c02737cb2"
      },
      "execution_count": 14,
      "outputs": [
        {
          "output_type": "execute_result",
          "data": {
            "text/plain": [
              "                                                       id categoryA categoryB  \\\n",
              "count                                               12936     12936     12936   \n",
              "unique                                              12936       167         2   \n",
              "top     a563699ca2a601c6ac64aa29986a00a90fb42b48741695...    catA_1    catB_0   \n",
              "freq                                                    1       842     12925   \n",
              "mean                                                  NaN       NaN       NaN   \n",
              "std                                                   NaN       NaN       NaN   \n",
              "min                                                   NaN       NaN       NaN   \n",
              "25%                                                   NaN       NaN       NaN   \n",
              "50%                                                   NaN       NaN       NaN   \n",
              "75%                                                   NaN       NaN       NaN   \n",
              "max                                                   NaN       NaN       NaN   \n",
              "\n",
              "       categoryC categoryD categoryE categoryF       featureA      featureB  \\\n",
              "count      12936     12936     12936     12936   12936.000000  12936.000000   \n",
              "unique      2201         3        23         3            NaN           NaN   \n",
              "top       catC_2    catD_0    catE_0    catF_0            NaN           NaN   \n",
              "freq          43     12593      6441     12903            NaN           NaN   \n",
              "mean         NaN       NaN       NaN       NaN  116559.238066      4.526278   \n",
              "std          NaN       NaN       NaN       NaN  146502.011917      3.180817   \n",
              "min          NaN       NaN       NaN       NaN  -83749.750000      1.064468   \n",
              "25%          NaN       NaN       NaN       NaN   56744.750000      4.363288   \n",
              "50%          NaN       NaN       NaN       NaN   75808.375000      4.457840   \n",
              "75%          NaN       NaN       NaN       NaN   75808.375000      4.457840   \n",
              "max          NaN       NaN       NaN       NaN  582211.000000     25.982190   \n",
              "\n",
              "            featureC  ...  compositionC  compositionD  compositionE  \\\n",
              "count   12936.000000  ...  12936.000000  12936.000000  12936.000000   \n",
              "unique           NaN  ...           NaN           NaN           NaN   \n",
              "top              NaN  ...           NaN           NaN           NaN   \n",
              "freq             NaN  ...           NaN           NaN           NaN   \n",
              "mean        0.132972  ...     23.627522      1.296887     32.038122   \n",
              "std         0.264148  ...      6.433507      3.724154     11.098175   \n",
              "min         0.000000  ...      0.000000      0.000000     12.780000   \n",
              "25%         0.005718  ...     17.700000      0.000000     30.000000   \n",
              "50%         0.005718  ...     26.000000      0.000000     32.000000   \n",
              "75%         0.032407  ...     26.000000      1.940000     32.000000   \n",
              "max         0.729194  ...     44.050000     30.460000     62.300000   \n",
              "\n",
              "        compositionF  compositionG  compositionH  compositionI  compositionJ  \\\n",
              "count   12936.000000  12936.000000  12936.000000  12936.000000  12936.000000   \n",
              "unique           NaN           NaN           NaN           NaN           NaN   \n",
              "top              NaN           NaN           NaN           NaN           NaN   \n",
              "freq             NaN           NaN           NaN           NaN           NaN   \n",
              "mean        3.178698      2.024316     11.214700     23.386089     18.942594   \n",
              "std         1.098585      2.964965      4.860118      5.937944      4.096265   \n",
              "min         1.380000      0.000000      1.450000      0.760000      6.100000   \n",
              "25%         3.000000      0.000000      9.000000     22.260000     18.900000   \n",
              "50%         3.000000      0.000000      9.000000     22.260000     20.000000   \n",
              "75%         3.000000      2.000000     12.330000     27.250000     20.000000   \n",
              "max         9.200000      7.900000     20.200000     47.830000     37.830000   \n",
              "\n",
              "          unit        result  \n",
              "count    12936  12936.000000  \n",
              "unique      19           NaN  \n",
              "top     unit_0           NaN  \n",
              "freq      2538           NaN  \n",
              "mean       NaN      0.144137  \n",
              "std        NaN      0.223929  \n",
              "min        NaN      0.000000  \n",
              "25%        NaN      0.003922  \n",
              "50%        NaN      0.027952  \n",
              "75%        NaN      0.168404  \n",
              "max        NaN      1.000000  \n",
              "\n",
              "[11 rows x 28 columns]"
            ],
            "text/html": [
              "\n",
              "  <div id=\"df-40ec327b-fddb-4059-9e32-5bf60c3debd0\">\n",
              "    <div class=\"colab-df-container\">\n",
              "      <div>\n",
              "<style scoped>\n",
              "    .dataframe tbody tr th:only-of-type {\n",
              "        vertical-align: middle;\n",
              "    }\n",
              "\n",
              "    .dataframe tbody tr th {\n",
              "        vertical-align: top;\n",
              "    }\n",
              "\n",
              "    .dataframe thead th {\n",
              "        text-align: right;\n",
              "    }\n",
              "</style>\n",
              "<table border=\"1\" class=\"dataframe\">\n",
              "  <thead>\n",
              "    <tr style=\"text-align: right;\">\n",
              "      <th></th>\n",
              "      <th>id</th>\n",
              "      <th>categoryA</th>\n",
              "      <th>categoryB</th>\n",
              "      <th>categoryC</th>\n",
              "      <th>categoryD</th>\n",
              "      <th>categoryE</th>\n",
              "      <th>categoryF</th>\n",
              "      <th>featureA</th>\n",
              "      <th>featureB</th>\n",
              "      <th>featureC</th>\n",
              "      <th>...</th>\n",
              "      <th>compositionC</th>\n",
              "      <th>compositionD</th>\n",
              "      <th>compositionE</th>\n",
              "      <th>compositionF</th>\n",
              "      <th>compositionG</th>\n",
              "      <th>compositionH</th>\n",
              "      <th>compositionI</th>\n",
              "      <th>compositionJ</th>\n",
              "      <th>unit</th>\n",
              "      <th>result</th>\n",
              "    </tr>\n",
              "  </thead>\n",
              "  <tbody>\n",
              "    <tr>\n",
              "      <th>count</th>\n",
              "      <td>12936</td>\n",
              "      <td>12936</td>\n",
              "      <td>12936</td>\n",
              "      <td>12936</td>\n",
              "      <td>12936</td>\n",
              "      <td>12936</td>\n",
              "      <td>12936</td>\n",
              "      <td>12936.000000</td>\n",
              "      <td>12936.000000</td>\n",
              "      <td>12936.000000</td>\n",
              "      <td>...</td>\n",
              "      <td>12936.000000</td>\n",
              "      <td>12936.000000</td>\n",
              "      <td>12936.000000</td>\n",
              "      <td>12936.000000</td>\n",
              "      <td>12936.000000</td>\n",
              "      <td>12936.000000</td>\n",
              "      <td>12936.000000</td>\n",
              "      <td>12936.000000</td>\n",
              "      <td>12936</td>\n",
              "      <td>12936.000000</td>\n",
              "    </tr>\n",
              "    <tr>\n",
              "      <th>unique</th>\n",
              "      <td>12936</td>\n",
              "      <td>167</td>\n",
              "      <td>2</td>\n",
              "      <td>2201</td>\n",
              "      <td>3</td>\n",
              "      <td>23</td>\n",
              "      <td>3</td>\n",
              "      <td>NaN</td>\n",
              "      <td>NaN</td>\n",
              "      <td>NaN</td>\n",
              "      <td>...</td>\n",
              "      <td>NaN</td>\n",
              "      <td>NaN</td>\n",
              "      <td>NaN</td>\n",
              "      <td>NaN</td>\n",
              "      <td>NaN</td>\n",
              "      <td>NaN</td>\n",
              "      <td>NaN</td>\n",
              "      <td>NaN</td>\n",
              "      <td>19</td>\n",
              "      <td>NaN</td>\n",
              "    </tr>\n",
              "    <tr>\n",
              "      <th>top</th>\n",
              "      <td>a563699ca2a601c6ac64aa29986a00a90fb42b48741695...</td>\n",
              "      <td>catA_1</td>\n",
              "      <td>catB_0</td>\n",
              "      <td>catC_2</td>\n",
              "      <td>catD_0</td>\n",
              "      <td>catE_0</td>\n",
              "      <td>catF_0</td>\n",
              "      <td>NaN</td>\n",
              "      <td>NaN</td>\n",
              "      <td>NaN</td>\n",
              "      <td>...</td>\n",
              "      <td>NaN</td>\n",
              "      <td>NaN</td>\n",
              "      <td>NaN</td>\n",
              "      <td>NaN</td>\n",
              "      <td>NaN</td>\n",
              "      <td>NaN</td>\n",
              "      <td>NaN</td>\n",
              "      <td>NaN</td>\n",
              "      <td>unit_0</td>\n",
              "      <td>NaN</td>\n",
              "    </tr>\n",
              "    <tr>\n",
              "      <th>freq</th>\n",
              "      <td>1</td>\n",
              "      <td>842</td>\n",
              "      <td>12925</td>\n",
              "      <td>43</td>\n",
              "      <td>12593</td>\n",
              "      <td>6441</td>\n",
              "      <td>12903</td>\n",
              "      <td>NaN</td>\n",
              "      <td>NaN</td>\n",
              "      <td>NaN</td>\n",
              "      <td>...</td>\n",
              "      <td>NaN</td>\n",
              "      <td>NaN</td>\n",
              "      <td>NaN</td>\n",
              "      <td>NaN</td>\n",
              "      <td>NaN</td>\n",
              "      <td>NaN</td>\n",
              "      <td>NaN</td>\n",
              "      <td>NaN</td>\n",
              "      <td>2538</td>\n",
              "      <td>NaN</td>\n",
              "    </tr>\n",
              "    <tr>\n",
              "      <th>mean</th>\n",
              "      <td>NaN</td>\n",
              "      <td>NaN</td>\n",
              "      <td>NaN</td>\n",
              "      <td>NaN</td>\n",
              "      <td>NaN</td>\n",
              "      <td>NaN</td>\n",
              "      <td>NaN</td>\n",
              "      <td>116559.238066</td>\n",
              "      <td>4.526278</td>\n",
              "      <td>0.132972</td>\n",
              "      <td>...</td>\n",
              "      <td>23.627522</td>\n",
              "      <td>1.296887</td>\n",
              "      <td>32.038122</td>\n",
              "      <td>3.178698</td>\n",
              "      <td>2.024316</td>\n",
              "      <td>11.214700</td>\n",
              "      <td>23.386089</td>\n",
              "      <td>18.942594</td>\n",
              "      <td>NaN</td>\n",
              "      <td>0.144137</td>\n",
              "    </tr>\n",
              "    <tr>\n",
              "      <th>std</th>\n",
              "      <td>NaN</td>\n",
              "      <td>NaN</td>\n",
              "      <td>NaN</td>\n",
              "      <td>NaN</td>\n",
              "      <td>NaN</td>\n",
              "      <td>NaN</td>\n",
              "      <td>NaN</td>\n",
              "      <td>146502.011917</td>\n",
              "      <td>3.180817</td>\n",
              "      <td>0.264148</td>\n",
              "      <td>...</td>\n",
              "      <td>6.433507</td>\n",
              "      <td>3.724154</td>\n",
              "      <td>11.098175</td>\n",
              "      <td>1.098585</td>\n",
              "      <td>2.964965</td>\n",
              "      <td>4.860118</td>\n",
              "      <td>5.937944</td>\n",
              "      <td>4.096265</td>\n",
              "      <td>NaN</td>\n",
              "      <td>0.223929</td>\n",
              "    </tr>\n",
              "    <tr>\n",
              "      <th>min</th>\n",
              "      <td>NaN</td>\n",
              "      <td>NaN</td>\n",
              "      <td>NaN</td>\n",
              "      <td>NaN</td>\n",
              "      <td>NaN</td>\n",
              "      <td>NaN</td>\n",
              "      <td>NaN</td>\n",
              "      <td>-83749.750000</td>\n",
              "      <td>1.064468</td>\n",
              "      <td>0.000000</td>\n",
              "      <td>...</td>\n",
              "      <td>0.000000</td>\n",
              "      <td>0.000000</td>\n",
              "      <td>12.780000</td>\n",
              "      <td>1.380000</td>\n",
              "      <td>0.000000</td>\n",
              "      <td>1.450000</td>\n",
              "      <td>0.760000</td>\n",
              "      <td>6.100000</td>\n",
              "      <td>NaN</td>\n",
              "      <td>0.000000</td>\n",
              "    </tr>\n",
              "    <tr>\n",
              "      <th>25%</th>\n",
              "      <td>NaN</td>\n",
              "      <td>NaN</td>\n",
              "      <td>NaN</td>\n",
              "      <td>NaN</td>\n",
              "      <td>NaN</td>\n",
              "      <td>NaN</td>\n",
              "      <td>NaN</td>\n",
              "      <td>56744.750000</td>\n",
              "      <td>4.363288</td>\n",
              "      <td>0.005718</td>\n",
              "      <td>...</td>\n",
              "      <td>17.700000</td>\n",
              "      <td>0.000000</td>\n",
              "      <td>30.000000</td>\n",
              "      <td>3.000000</td>\n",
              "      <td>0.000000</td>\n",
              "      <td>9.000000</td>\n",
              "      <td>22.260000</td>\n",
              "      <td>18.900000</td>\n",
              "      <td>NaN</td>\n",
              "      <td>0.003922</td>\n",
              "    </tr>\n",
              "    <tr>\n",
              "      <th>50%</th>\n",
              "      <td>NaN</td>\n",
              "      <td>NaN</td>\n",
              "      <td>NaN</td>\n",
              "      <td>NaN</td>\n",
              "      <td>NaN</td>\n",
              "      <td>NaN</td>\n",
              "      <td>NaN</td>\n",
              "      <td>75808.375000</td>\n",
              "      <td>4.457840</td>\n",
              "      <td>0.005718</td>\n",
              "      <td>...</td>\n",
              "      <td>26.000000</td>\n",
              "      <td>0.000000</td>\n",
              "      <td>32.000000</td>\n",
              "      <td>3.000000</td>\n",
              "      <td>0.000000</td>\n",
              "      <td>9.000000</td>\n",
              "      <td>22.260000</td>\n",
              "      <td>20.000000</td>\n",
              "      <td>NaN</td>\n",
              "      <td>0.027952</td>\n",
              "    </tr>\n",
              "    <tr>\n",
              "      <th>75%</th>\n",
              "      <td>NaN</td>\n",
              "      <td>NaN</td>\n",
              "      <td>NaN</td>\n",
              "      <td>NaN</td>\n",
              "      <td>NaN</td>\n",
              "      <td>NaN</td>\n",
              "      <td>NaN</td>\n",
              "      <td>75808.375000</td>\n",
              "      <td>4.457840</td>\n",
              "      <td>0.032407</td>\n",
              "      <td>...</td>\n",
              "      <td>26.000000</td>\n",
              "      <td>1.940000</td>\n",
              "      <td>32.000000</td>\n",
              "      <td>3.000000</td>\n",
              "      <td>2.000000</td>\n",
              "      <td>12.330000</td>\n",
              "      <td>27.250000</td>\n",
              "      <td>20.000000</td>\n",
              "      <td>NaN</td>\n",
              "      <td>0.168404</td>\n",
              "    </tr>\n",
              "    <tr>\n",
              "      <th>max</th>\n",
              "      <td>NaN</td>\n",
              "      <td>NaN</td>\n",
              "      <td>NaN</td>\n",
              "      <td>NaN</td>\n",
              "      <td>NaN</td>\n",
              "      <td>NaN</td>\n",
              "      <td>NaN</td>\n",
              "      <td>582211.000000</td>\n",
              "      <td>25.982190</td>\n",
              "      <td>0.729194</td>\n",
              "      <td>...</td>\n",
              "      <td>44.050000</td>\n",
              "      <td>30.460000</td>\n",
              "      <td>62.300000</td>\n",
              "      <td>9.200000</td>\n",
              "      <td>7.900000</td>\n",
              "      <td>20.200000</td>\n",
              "      <td>47.830000</td>\n",
              "      <td>37.830000</td>\n",
              "      <td>NaN</td>\n",
              "      <td>1.000000</td>\n",
              "    </tr>\n",
              "  </tbody>\n",
              "</table>\n",
              "<p>11 rows × 28 columns</p>\n",
              "</div>\n",
              "      <button class=\"colab-df-convert\" onclick=\"convertToInteractive('df-40ec327b-fddb-4059-9e32-5bf60c3debd0')\"\n",
              "              title=\"Convert this dataframe to an interactive table.\"\n",
              "              style=\"display:none;\">\n",
              "        \n",
              "  <svg xmlns=\"http://www.w3.org/2000/svg\" height=\"24px\"viewBox=\"0 0 24 24\"\n",
              "       width=\"24px\">\n",
              "    <path d=\"M0 0h24v24H0V0z\" fill=\"none\"/>\n",
              "    <path d=\"M18.56 5.44l.94 2.06.94-2.06 2.06-.94-2.06-.94-.94-2.06-.94 2.06-2.06.94zm-11 1L8.5 8.5l.94-2.06 2.06-.94-2.06-.94L8.5 2.5l-.94 2.06-2.06.94zm10 10l.94 2.06.94-2.06 2.06-.94-2.06-.94-.94-2.06-.94 2.06-2.06.94z\"/><path d=\"M17.41 7.96l-1.37-1.37c-.4-.4-.92-.59-1.43-.59-.52 0-1.04.2-1.43.59L10.3 9.45l-7.72 7.72c-.78.78-.78 2.05 0 2.83L4 21.41c.39.39.9.59 1.41.59.51 0 1.02-.2 1.41-.59l7.78-7.78 2.81-2.81c.8-.78.8-2.07 0-2.86zM5.41 20L4 18.59l7.72-7.72 1.47 1.35L5.41 20z\"/>\n",
              "  </svg>\n",
              "      </button>\n",
              "      \n",
              "  <style>\n",
              "    .colab-df-container {\n",
              "      display:flex;\n",
              "      flex-wrap:wrap;\n",
              "      gap: 12px;\n",
              "    }\n",
              "\n",
              "    .colab-df-convert {\n",
              "      background-color: #E8F0FE;\n",
              "      border: none;\n",
              "      border-radius: 50%;\n",
              "      cursor: pointer;\n",
              "      display: none;\n",
              "      fill: #1967D2;\n",
              "      height: 32px;\n",
              "      padding: 0 0 0 0;\n",
              "      width: 32px;\n",
              "    }\n",
              "\n",
              "    .colab-df-convert:hover {\n",
              "      background-color: #E2EBFA;\n",
              "      box-shadow: 0px 1px 2px rgba(60, 64, 67, 0.3), 0px 1px 3px 1px rgba(60, 64, 67, 0.15);\n",
              "      fill: #174EA6;\n",
              "    }\n",
              "\n",
              "    [theme=dark] .colab-df-convert {\n",
              "      background-color: #3B4455;\n",
              "      fill: #D2E3FC;\n",
              "    }\n",
              "\n",
              "    [theme=dark] .colab-df-convert:hover {\n",
              "      background-color: #434B5C;\n",
              "      box-shadow: 0px 1px 3px 1px rgba(0, 0, 0, 0.15);\n",
              "      filter: drop-shadow(0px 1px 2px rgba(0, 0, 0, 0.3));\n",
              "      fill: #FFFFFF;\n",
              "    }\n",
              "  </style>\n",
              "\n",
              "      <script>\n",
              "        const buttonEl =\n",
              "          document.querySelector('#df-40ec327b-fddb-4059-9e32-5bf60c3debd0 button.colab-df-convert');\n",
              "        buttonEl.style.display =\n",
              "          google.colab.kernel.accessAllowed ? 'block' : 'none';\n",
              "\n",
              "        async function convertToInteractive(key) {\n",
              "          const element = document.querySelector('#df-40ec327b-fddb-4059-9e32-5bf60c3debd0');\n",
              "          const dataTable =\n",
              "            await google.colab.kernel.invokeFunction('convertToInteractive',\n",
              "                                                     [key], {});\n",
              "          if (!dataTable) return;\n",
              "\n",
              "          const docLinkHtml = 'Like what you see? Visit the ' +\n",
              "            '<a target=\"_blank\" href=https://colab.research.google.com/notebooks/data_table.ipynb>data table notebook</a>'\n",
              "            + ' to learn more about interactive tables.';\n",
              "          element.innerHTML = '';\n",
              "          dataTable['output_type'] = 'display_data';\n",
              "          await google.colab.output.renderOutput(dataTable, element);\n",
              "          const docLink = document.createElement('div');\n",
              "          docLink.innerHTML = docLinkHtml;\n",
              "          element.appendChild(docLink);\n",
              "        }\n",
              "      </script>\n",
              "    </div>\n",
              "  </div>\n",
              "  "
            ]
          },
          "metadata": {},
          "execution_count": 14
        }
      ]
    },
    {
      "cell_type": "code",
      "source": [
        "test.describe(include='all')"
      ],
      "metadata": {
        "colab": {
          "base_uri": "https://localhost:8080/",
          "height": 488
        },
        "id": "Z9YxckVZmamB",
        "outputId": "d780f1aa-c866-471d-d8b1-be277c4c0295"
      },
      "execution_count": 19,
      "outputs": [
        {
          "output_type": "execute_result",
          "data": {
            "text/plain": [
              "                                                       id categoryA categoryB  \\\n",
              "count                                                6957      6957      6957   \n",
              "unique                                               6957       140         2   \n",
              "top     939edadbc8e0cddf21c8c5710c4f2f909abd36c196aee8...    catA_4    catB_0   \n",
              "freq                                                    1       468      6902   \n",
              "mean                                                  NaN       NaN       NaN   \n",
              "std                                                   NaN       NaN       NaN   \n",
              "min                                                   NaN       NaN       NaN   \n",
              "25%                                                   NaN       NaN       NaN   \n",
              "50%                                                   NaN       NaN       NaN   \n",
              "75%                                                   NaN       NaN       NaN   \n",
              "max                                                   NaN       NaN       NaN   \n",
              "\n",
              "       categoryC categoryD categoryE categoryF       featureA     featureB  \\\n",
              "count       6957      6957      6957      6957    6957.000000  6957.000000   \n",
              "unique      1740         3        23         3            NaN          NaN   \n",
              "top       catC_0    catD_0    catE_0    catF_0            NaN          NaN   \n",
              "freq          56      6716      3220      6800            NaN          NaN   \n",
              "mean         NaN       NaN       NaN       NaN  109832.747125     4.887512   \n",
              "std          NaN       NaN       NaN       NaN  141143.226320     3.875819   \n",
              "min          NaN       NaN       NaN       NaN  -83749.750000     1.728675   \n",
              "25%          NaN       NaN       NaN       NaN   21256.750000     4.363288   \n",
              "50%          NaN       NaN       NaN       NaN   75808.375000     4.457840   \n",
              "75%          NaN       NaN       NaN       NaN   75808.375000     4.457840   \n",
              "max          NaN       NaN       NaN       NaN  582211.000000    25.982190   \n",
              "\n",
              "           featureC  ...  compositionB  compositionC  compositionD  \\\n",
              "count   6957.000000  ...   6957.000000   6957.000000   6957.000000   \n",
              "unique          NaN  ...           NaN           NaN           NaN   \n",
              "top             NaN  ...           NaN           NaN           NaN   \n",
              "freq            NaN  ...           NaN           NaN           NaN   \n",
              "mean       0.124551  ...      7.580673     23.319761      1.312885   \n",
              "std        0.254029  ...      3.405854      6.760931      3.527154   \n",
              "min        0.000000  ...      2.200000      0.000000      0.000000   \n",
              "25%        0.005718  ...      4.600000     16.720000      0.000000   \n",
              "50%        0.005718  ...      9.240000     26.000000      0.000000   \n",
              "75%        0.032407  ...     10.000000     26.000000      2.700000   \n",
              "max        0.729194  ...     21.400000     44.050000     30.460000   \n",
              "\n",
              "        compositionE  compositionF  compositionG  compositionH  compositionI  \\\n",
              "count    6957.000000   6957.000000   6957.000000   6957.000000   6957.000000   \n",
              "unique           NaN           NaN           NaN           NaN           NaN   \n",
              "top              NaN           NaN           NaN           NaN           NaN   \n",
              "freq             NaN           NaN           NaN           NaN           NaN   \n",
              "mean       32.403993      3.228531      2.166027     11.192078     23.176489   \n",
              "std        11.736163      1.185796      3.098774      4.977530      5.994695   \n",
              "min        12.780000      1.380000      0.000000      1.450000      0.760000   \n",
              "25%        30.000000      3.000000      0.000000      9.000000     22.260000   \n",
              "50%        32.000000      3.000000      0.000000      9.000000     22.260000   \n",
              "75%        34.400000      3.500000      2.370000     12.400000     27.250000   \n",
              "max        62.300000      9.200000     17.210000     22.900000     47.830000   \n",
              "\n",
              "        compositionJ    unit  \n",
              "count    6957.000000    6957  \n",
              "unique           NaN      19  \n",
              "top              NaN  unit_0  \n",
              "freq             NaN    1158  \n",
              "mean       18.831394     NaN  \n",
              "std         4.528308     NaN  \n",
              "min         5.000000     NaN  \n",
              "25%        18.380000     NaN  \n",
              "50%        20.000000     NaN  \n",
              "75%        20.000000     NaN  \n",
              "max        37.830000     NaN  \n",
              "\n",
              "[11 rows x 27 columns]"
            ],
            "text/html": [
              "\n",
              "  <div id=\"df-8ed75bd3-1695-4603-91d6-b77b5c8b023e\">\n",
              "    <div class=\"colab-df-container\">\n",
              "      <div>\n",
              "<style scoped>\n",
              "    .dataframe tbody tr th:only-of-type {\n",
              "        vertical-align: middle;\n",
              "    }\n",
              "\n",
              "    .dataframe tbody tr th {\n",
              "        vertical-align: top;\n",
              "    }\n",
              "\n",
              "    .dataframe thead th {\n",
              "        text-align: right;\n",
              "    }\n",
              "</style>\n",
              "<table border=\"1\" class=\"dataframe\">\n",
              "  <thead>\n",
              "    <tr style=\"text-align: right;\">\n",
              "      <th></th>\n",
              "      <th>id</th>\n",
              "      <th>categoryA</th>\n",
              "      <th>categoryB</th>\n",
              "      <th>categoryC</th>\n",
              "      <th>categoryD</th>\n",
              "      <th>categoryE</th>\n",
              "      <th>categoryF</th>\n",
              "      <th>featureA</th>\n",
              "      <th>featureB</th>\n",
              "      <th>featureC</th>\n",
              "      <th>...</th>\n",
              "      <th>compositionB</th>\n",
              "      <th>compositionC</th>\n",
              "      <th>compositionD</th>\n",
              "      <th>compositionE</th>\n",
              "      <th>compositionF</th>\n",
              "      <th>compositionG</th>\n",
              "      <th>compositionH</th>\n",
              "      <th>compositionI</th>\n",
              "      <th>compositionJ</th>\n",
              "      <th>unit</th>\n",
              "    </tr>\n",
              "  </thead>\n",
              "  <tbody>\n",
              "    <tr>\n",
              "      <th>count</th>\n",
              "      <td>6957</td>\n",
              "      <td>6957</td>\n",
              "      <td>6957</td>\n",
              "      <td>6957</td>\n",
              "      <td>6957</td>\n",
              "      <td>6957</td>\n",
              "      <td>6957</td>\n",
              "      <td>6957.000000</td>\n",
              "      <td>6957.000000</td>\n",
              "      <td>6957.000000</td>\n",
              "      <td>...</td>\n",
              "      <td>6957.000000</td>\n",
              "      <td>6957.000000</td>\n",
              "      <td>6957.000000</td>\n",
              "      <td>6957.000000</td>\n",
              "      <td>6957.000000</td>\n",
              "      <td>6957.000000</td>\n",
              "      <td>6957.000000</td>\n",
              "      <td>6957.000000</td>\n",
              "      <td>6957.000000</td>\n",
              "      <td>6957</td>\n",
              "    </tr>\n",
              "    <tr>\n",
              "      <th>unique</th>\n",
              "      <td>6957</td>\n",
              "      <td>140</td>\n",
              "      <td>2</td>\n",
              "      <td>1740</td>\n",
              "      <td>3</td>\n",
              "      <td>23</td>\n",
              "      <td>3</td>\n",
              "      <td>NaN</td>\n",
              "      <td>NaN</td>\n",
              "      <td>NaN</td>\n",
              "      <td>...</td>\n",
              "      <td>NaN</td>\n",
              "      <td>NaN</td>\n",
              "      <td>NaN</td>\n",
              "      <td>NaN</td>\n",
              "      <td>NaN</td>\n",
              "      <td>NaN</td>\n",
              "      <td>NaN</td>\n",
              "      <td>NaN</td>\n",
              "      <td>NaN</td>\n",
              "      <td>19</td>\n",
              "    </tr>\n",
              "    <tr>\n",
              "      <th>top</th>\n",
              "      <td>939edadbc8e0cddf21c8c5710c4f2f909abd36c196aee8...</td>\n",
              "      <td>catA_4</td>\n",
              "      <td>catB_0</td>\n",
              "      <td>catC_0</td>\n",
              "      <td>catD_0</td>\n",
              "      <td>catE_0</td>\n",
              "      <td>catF_0</td>\n",
              "      <td>NaN</td>\n",
              "      <td>NaN</td>\n",
              "      <td>NaN</td>\n",
              "      <td>...</td>\n",
              "      <td>NaN</td>\n",
              "      <td>NaN</td>\n",
              "      <td>NaN</td>\n",
              "      <td>NaN</td>\n",
              "      <td>NaN</td>\n",
              "      <td>NaN</td>\n",
              "      <td>NaN</td>\n",
              "      <td>NaN</td>\n",
              "      <td>NaN</td>\n",
              "      <td>unit_0</td>\n",
              "    </tr>\n",
              "    <tr>\n",
              "      <th>freq</th>\n",
              "      <td>1</td>\n",
              "      <td>468</td>\n",
              "      <td>6902</td>\n",
              "      <td>56</td>\n",
              "      <td>6716</td>\n",
              "      <td>3220</td>\n",
              "      <td>6800</td>\n",
              "      <td>NaN</td>\n",
              "      <td>NaN</td>\n",
              "      <td>NaN</td>\n",
              "      <td>...</td>\n",
              "      <td>NaN</td>\n",
              "      <td>NaN</td>\n",
              "      <td>NaN</td>\n",
              "      <td>NaN</td>\n",
              "      <td>NaN</td>\n",
              "      <td>NaN</td>\n",
              "      <td>NaN</td>\n",
              "      <td>NaN</td>\n",
              "      <td>NaN</td>\n",
              "      <td>1158</td>\n",
              "    </tr>\n",
              "    <tr>\n",
              "      <th>mean</th>\n",
              "      <td>NaN</td>\n",
              "      <td>NaN</td>\n",
              "      <td>NaN</td>\n",
              "      <td>NaN</td>\n",
              "      <td>NaN</td>\n",
              "      <td>NaN</td>\n",
              "      <td>NaN</td>\n",
              "      <td>109832.747125</td>\n",
              "      <td>4.887512</td>\n",
              "      <td>0.124551</td>\n",
              "      <td>...</td>\n",
              "      <td>7.580673</td>\n",
              "      <td>23.319761</td>\n",
              "      <td>1.312885</td>\n",
              "      <td>32.403993</td>\n",
              "      <td>3.228531</td>\n",
              "      <td>2.166027</td>\n",
              "      <td>11.192078</td>\n",
              "      <td>23.176489</td>\n",
              "      <td>18.831394</td>\n",
              "      <td>NaN</td>\n",
              "    </tr>\n",
              "    <tr>\n",
              "      <th>std</th>\n",
              "      <td>NaN</td>\n",
              "      <td>NaN</td>\n",
              "      <td>NaN</td>\n",
              "      <td>NaN</td>\n",
              "      <td>NaN</td>\n",
              "      <td>NaN</td>\n",
              "      <td>NaN</td>\n",
              "      <td>141143.226320</td>\n",
              "      <td>3.875819</td>\n",
              "      <td>0.254029</td>\n",
              "      <td>...</td>\n",
              "      <td>3.405854</td>\n",
              "      <td>6.760931</td>\n",
              "      <td>3.527154</td>\n",
              "      <td>11.736163</td>\n",
              "      <td>1.185796</td>\n",
              "      <td>3.098774</td>\n",
              "      <td>4.977530</td>\n",
              "      <td>5.994695</td>\n",
              "      <td>4.528308</td>\n",
              "      <td>NaN</td>\n",
              "    </tr>\n",
              "    <tr>\n",
              "      <th>min</th>\n",
              "      <td>NaN</td>\n",
              "      <td>NaN</td>\n",
              "      <td>NaN</td>\n",
              "      <td>NaN</td>\n",
              "      <td>NaN</td>\n",
              "      <td>NaN</td>\n",
              "      <td>NaN</td>\n",
              "      <td>-83749.750000</td>\n",
              "      <td>1.728675</td>\n",
              "      <td>0.000000</td>\n",
              "      <td>...</td>\n",
              "      <td>2.200000</td>\n",
              "      <td>0.000000</td>\n",
              "      <td>0.000000</td>\n",
              "      <td>12.780000</td>\n",
              "      <td>1.380000</td>\n",
              "      <td>0.000000</td>\n",
              "      <td>1.450000</td>\n",
              "      <td>0.760000</td>\n",
              "      <td>5.000000</td>\n",
              "      <td>NaN</td>\n",
              "    </tr>\n",
              "    <tr>\n",
              "      <th>25%</th>\n",
              "      <td>NaN</td>\n",
              "      <td>NaN</td>\n",
              "      <td>NaN</td>\n",
              "      <td>NaN</td>\n",
              "      <td>NaN</td>\n",
              "      <td>NaN</td>\n",
              "      <td>NaN</td>\n",
              "      <td>21256.750000</td>\n",
              "      <td>4.363288</td>\n",
              "      <td>0.005718</td>\n",
              "      <td>...</td>\n",
              "      <td>4.600000</td>\n",
              "      <td>16.720000</td>\n",
              "      <td>0.000000</td>\n",
              "      <td>30.000000</td>\n",
              "      <td>3.000000</td>\n",
              "      <td>0.000000</td>\n",
              "      <td>9.000000</td>\n",
              "      <td>22.260000</td>\n",
              "      <td>18.380000</td>\n",
              "      <td>NaN</td>\n",
              "    </tr>\n",
              "    <tr>\n",
              "      <th>50%</th>\n",
              "      <td>NaN</td>\n",
              "      <td>NaN</td>\n",
              "      <td>NaN</td>\n",
              "      <td>NaN</td>\n",
              "      <td>NaN</td>\n",
              "      <td>NaN</td>\n",
              "      <td>NaN</td>\n",
              "      <td>75808.375000</td>\n",
              "      <td>4.457840</td>\n",
              "      <td>0.005718</td>\n",
              "      <td>...</td>\n",
              "      <td>9.240000</td>\n",
              "      <td>26.000000</td>\n",
              "      <td>0.000000</td>\n",
              "      <td>32.000000</td>\n",
              "      <td>3.000000</td>\n",
              "      <td>0.000000</td>\n",
              "      <td>9.000000</td>\n",
              "      <td>22.260000</td>\n",
              "      <td>20.000000</td>\n",
              "      <td>NaN</td>\n",
              "    </tr>\n",
              "    <tr>\n",
              "      <th>75%</th>\n",
              "      <td>NaN</td>\n",
              "      <td>NaN</td>\n",
              "      <td>NaN</td>\n",
              "      <td>NaN</td>\n",
              "      <td>NaN</td>\n",
              "      <td>NaN</td>\n",
              "      <td>NaN</td>\n",
              "      <td>75808.375000</td>\n",
              "      <td>4.457840</td>\n",
              "      <td>0.032407</td>\n",
              "      <td>...</td>\n",
              "      <td>10.000000</td>\n",
              "      <td>26.000000</td>\n",
              "      <td>2.700000</td>\n",
              "      <td>34.400000</td>\n",
              "      <td>3.500000</td>\n",
              "      <td>2.370000</td>\n",
              "      <td>12.400000</td>\n",
              "      <td>27.250000</td>\n",
              "      <td>20.000000</td>\n",
              "      <td>NaN</td>\n",
              "    </tr>\n",
              "    <tr>\n",
              "      <th>max</th>\n",
              "      <td>NaN</td>\n",
              "      <td>NaN</td>\n",
              "      <td>NaN</td>\n",
              "      <td>NaN</td>\n",
              "      <td>NaN</td>\n",
              "      <td>NaN</td>\n",
              "      <td>NaN</td>\n",
              "      <td>582211.000000</td>\n",
              "      <td>25.982190</td>\n",
              "      <td>0.729194</td>\n",
              "      <td>...</td>\n",
              "      <td>21.400000</td>\n",
              "      <td>44.050000</td>\n",
              "      <td>30.460000</td>\n",
              "      <td>62.300000</td>\n",
              "      <td>9.200000</td>\n",
              "      <td>17.210000</td>\n",
              "      <td>22.900000</td>\n",
              "      <td>47.830000</td>\n",
              "      <td>37.830000</td>\n",
              "      <td>NaN</td>\n",
              "    </tr>\n",
              "  </tbody>\n",
              "</table>\n",
              "<p>11 rows × 27 columns</p>\n",
              "</div>\n",
              "      <button class=\"colab-df-convert\" onclick=\"convertToInteractive('df-8ed75bd3-1695-4603-91d6-b77b5c8b023e')\"\n",
              "              title=\"Convert this dataframe to an interactive table.\"\n",
              "              style=\"display:none;\">\n",
              "        \n",
              "  <svg xmlns=\"http://www.w3.org/2000/svg\" height=\"24px\"viewBox=\"0 0 24 24\"\n",
              "       width=\"24px\">\n",
              "    <path d=\"M0 0h24v24H0V0z\" fill=\"none\"/>\n",
              "    <path d=\"M18.56 5.44l.94 2.06.94-2.06 2.06-.94-2.06-.94-.94-2.06-.94 2.06-2.06.94zm-11 1L8.5 8.5l.94-2.06 2.06-.94-2.06-.94L8.5 2.5l-.94 2.06-2.06.94zm10 10l.94 2.06.94-2.06 2.06-.94-2.06-.94-.94-2.06-.94 2.06-2.06.94z\"/><path d=\"M17.41 7.96l-1.37-1.37c-.4-.4-.92-.59-1.43-.59-.52 0-1.04.2-1.43.59L10.3 9.45l-7.72 7.72c-.78.78-.78 2.05 0 2.83L4 21.41c.39.39.9.59 1.41.59.51 0 1.02-.2 1.41-.59l7.78-7.78 2.81-2.81c.8-.78.8-2.07 0-2.86zM5.41 20L4 18.59l7.72-7.72 1.47 1.35L5.41 20z\"/>\n",
              "  </svg>\n",
              "      </button>\n",
              "      \n",
              "  <style>\n",
              "    .colab-df-container {\n",
              "      display:flex;\n",
              "      flex-wrap:wrap;\n",
              "      gap: 12px;\n",
              "    }\n",
              "\n",
              "    .colab-df-convert {\n",
              "      background-color: #E8F0FE;\n",
              "      border: none;\n",
              "      border-radius: 50%;\n",
              "      cursor: pointer;\n",
              "      display: none;\n",
              "      fill: #1967D2;\n",
              "      height: 32px;\n",
              "      padding: 0 0 0 0;\n",
              "      width: 32px;\n",
              "    }\n",
              "\n",
              "    .colab-df-convert:hover {\n",
              "      background-color: #E2EBFA;\n",
              "      box-shadow: 0px 1px 2px rgba(60, 64, 67, 0.3), 0px 1px 3px 1px rgba(60, 64, 67, 0.15);\n",
              "      fill: #174EA6;\n",
              "    }\n",
              "\n",
              "    [theme=dark] .colab-df-convert {\n",
              "      background-color: #3B4455;\n",
              "      fill: #D2E3FC;\n",
              "    }\n",
              "\n",
              "    [theme=dark] .colab-df-convert:hover {\n",
              "      background-color: #434B5C;\n",
              "      box-shadow: 0px 1px 3px 1px rgba(0, 0, 0, 0.15);\n",
              "      filter: drop-shadow(0px 1px 2px rgba(0, 0, 0, 0.3));\n",
              "      fill: #FFFFFF;\n",
              "    }\n",
              "  </style>\n",
              "\n",
              "      <script>\n",
              "        const buttonEl =\n",
              "          document.querySelector('#df-8ed75bd3-1695-4603-91d6-b77b5c8b023e button.colab-df-convert');\n",
              "        buttonEl.style.display =\n",
              "          google.colab.kernel.accessAllowed ? 'block' : 'none';\n",
              "\n",
              "        async function convertToInteractive(key) {\n",
              "          const element = document.querySelector('#df-8ed75bd3-1695-4603-91d6-b77b5c8b023e');\n",
              "          const dataTable =\n",
              "            await google.colab.kernel.invokeFunction('convertToInteractive',\n",
              "                                                     [key], {});\n",
              "          if (!dataTable) return;\n",
              "\n",
              "          const docLinkHtml = 'Like what you see? Visit the ' +\n",
              "            '<a target=\"_blank\" href=https://colab.research.google.com/notebooks/data_table.ipynb>data table notebook</a>'\n",
              "            + ' to learn more about interactive tables.';\n",
              "          element.innerHTML = '';\n",
              "          dataTable['output_type'] = 'display_data';\n",
              "          await google.colab.output.renderOutput(dataTable, element);\n",
              "          const docLink = document.createElement('div');\n",
              "          docLink.innerHTML = docLinkHtml;\n",
              "          element.appendChild(docLink);\n",
              "        }\n",
              "      </script>\n",
              "    </div>\n",
              "  </div>\n",
              "  "
            ]
          },
          "metadata": {},
          "execution_count": 19
        }
      ]
    },
    {
      "cell_type": "code",
      "source": [
        "cor=data.corr()\n",
        "plt.figure(figsize=(12,8))\n",
        "sns.heatmap(cor, annot=True, cmap='coolwarm',fmt=\".1f\")\n",
        "plt.show()"
      ],
      "metadata": {
        "colab": {
          "base_uri": "https://localhost:8080/",
          "height": 545
        },
        "id": "CLYkphsNOQHj",
        "outputId": "e7d5f348-4de9-4687-e521-59ec5df42666"
      },
      "execution_count": 20,
      "outputs": [
        {
          "output_type": "display_data",
          "data": {
            "text/plain": [
              "<Figure size 864x576 with 2 Axes>"
            ],
            "image/png": "[encoded data removed]"
          },
          "metadata": {
            "needs_background": "light"
          }
        }
      ]
    },
    {
      "cell_type": "markdown",
      "source": [
        "Присутствует корреляция между переменными, но неясно как именно влияет связь на итоговый результат, поэтому решено пока оставить все как есть"
      ],
      "metadata": {
        "id": "lHO_logP66Ew"
      }
    },
    {
      "cell_type": "code",
      "source": [
        "\n",
        "features_num = ['featureA', 'featureB', 'featureC', 'featureD', 'featureE',\n",
        "                'featureF', 'featureG', 'featureH', 'featureI', 'compositionA',\n",
        "                'compositionB', 'compositionC', 'compositionD', 'compositionE',\n",
        "                'compositionF', 'compositionG', 'compositionH', 'compositionI',\n",
        "                'compositionJ']\n",
        "\n",
        "features_cat = ['categoryA', 'categoryB', 'categoryC', 'categoryD', 'categoryE',\n",
        "                'categoryF',  'unit']\n",
        "\n",
        "target = 'result'"
      ],
      "metadata": {
        "id": "WkQeyQxOmrh4"
      },
      "execution_count": 21,
      "outputs": []
    },
    {
      "cell_type": "code",
      "source": [
        "\n",
        "for f in features_num:\n",
        "    plt.figure(figsize=(14,3))\n",
        "    ax1 = plt.subplot(1,2,1)\n",
        "    data[f].plot(kind='hist', bins=25)\n",
        "    plt.title(f + ' - Train')\n",
        "    plt.grid()\n",
        "    ax2 = plt.subplot(1,2,2, sharex=ax1)\n",
        "    test[f].plot(kind='hist', bins=25)\n",
        "    plt.title(f + ' - Test')\n",
        "    plt.grid()\n",
        "    plt.show()"
      ],
      "metadata": {
        "id": "nGu2AAOLOdnM",
        "colab": {
          "base_uri": "https://localhost:8080/",
          "height": 1000
        },
        "outputId": "ac2615be-a8e3-4910-abea-5b2254fea19f"
      },
      "execution_count": 22,
      "outputs": [
        {
          "output_type": "display_data",
          "data": {
            "text/plain": [
              "<Figure size 1008x216 with 2 Axes>"
            ],
            "image/png": "[encoded data removed]"
          },
          "metadata": {
            "needs_background": "light"
          }
        },
        {
          "output_type": "display_data",
          "data": {
            "text/plain": [
              "<Figure size 1008x216 with 2 Axes>"
            ],
            "image/png": "[encoded data removed]"
          },
          "metadata": {
            "needs_background": "light"
          }
        },
        {
          "output_type": "display_data",
          "data": {
            "text/plain": [
              "<Figure size 1008x216 with 2 Axes>"
            ],
            "image/png": "[encoded data removed]"
          },
          "metadata": {
            "needs_background": "light"
          }
        },
        {
          "output_type": "display_data",
          "data": {
            "text/plain": [
              "<Figure size 1008x216 with 2 Axes>"
            ],
            "image/png": "[encoded data removed]"
          },
          "metadata": {
            "needs_background": "light"
          }
        },
        {
          "output_type": "display_data",
          "data": {
            "text/plain": [
              "<Figure size 1008x216 with 2 Axes>"
            ],
            "image/png": "[encoded data removed]"
          },
          "metadata": {
            "needs_background": "light"
          }
        },
        {
          "output_type": "display_data",
          "data": {
            "text/plain": [
              "<Figure size 1008x216 with 2 Axes>"
            ],
            "image/png": "[encoded data removed]"
          },
          "metadata": {
            "needs_background": "light"
          }
        },
        {
          "output_type": "display_data",
          "data": {
            "text/plain": [
              "<Figure size 1008x216 with 2 Axes>"
            ],
            "image/png": "[encoded data removed]"
          },
          "metadata": {
            "needs_background": "light"
          }
        },
        {
          "output_type": "display_data",
          "data": {
            "text/plain": [
              "<Figure size 1008x216 with 2 Axes>"
            ],
            "image/png": "[encoded data removed]"
          },
          "metadata": {
            "needs_background": "light"
          }
        },
        {
          "output_type": "display_data",
          "data": {
            "text/plain": [
              "<Figure size 1008x216 with 2 Axes>"
            ],
            "image/png": "[encoded data removed]"
          },
          "metadata": {
            "needs_background": "light"
          }
        },
        {
          "output_type": "display_data",
          "data": {
            "text/plain": [
              "<Figure size 1008x216 with 2 Axes>"
            ],
            "image/png": "[encoded data removed]"
          },
          "metadata": {
            "needs_background": "light"
          }
        },
        {
          "output_type": "display_data",
          "data": {
            "text/plain": [
              "<Figure size 1008x216 with 2 Axes>"
            ],
            "image/png": "[encoded data removed]"
          },
          "metadata": {
            "needs_background": "light"
          }
        },
        {
          "output_type": "display_data",
          "data": {
            "text/plain": [
              "<Figure size 1008x216 with 2 Axes>"
            ],
            "image/png": "[encoded data removed]"
          },
          "metadata": {
            "needs_background": "light"
          }
        },
        {
          "output_type": "display_data",
          "data": {
            "text/plain": [
              "<Figure size 1008x216 with 2 Axes>"
            ],
            "image/png": "[encoded data removed]"
          },
          "metadata": {
            "needs_background": "light"
          }
        },
        {
          "output_type": "display_data",
          "data": {
            "text/plain": [
              "<Figure size 1008x216 with 2 Axes>"
            ],
            "image/png": "[encoded data removed]"
          },
          "metadata": {
            "needs_background": "light"
          }
        },
        {
          "output_type": "display_data",
          "data": {
            "text/plain": [
              "<Figure size 1008x216 with 2 Axes>"
            ],
            "image/png": "[encoded data removed]"
          },
          "metadata": {
            "needs_background": "light"
          }
        },
        {
          "output_type": "display_data",
          "data": {
            "text/plain": [
              "<Figure size 1008x216 with 2 Axes>"
            ],
            "image/png": "[encoded data removed]"
          },
          "metadata": {
            "needs_background": "light"
          }
        },
        {
          "output_type": "display_data",
          "data": {
            "text/plain": [
              "<Figure size 1008x216 with 2 Axes>"
            ],
            "image/png": "[encoded data removed]"
          },
          "metadata": {
            "needs_background": "light"
          }
        },
        {
          "output_type": "display_data",
          "data": {
            "text/plain": [
              "<Figure size 1008x216 with 2 Axes>"
            ],
            "image/png": "[encoded data removed]"
          },
          "metadata": {
            "needs_background": "light"
          }
        },
        {
          "output_type": "display_data",
          "data": {
            "text/plain": [
              "<Figure size 1008x216 with 2 Axes>"
            ],
            "image/png": "[encoded data removed]"
          },
          "metadata": {
            "needs_background": "light"
          }
        }
      ]
    },
    {
      "cell_type": "markdown",
      "source": [
        "Распредление признаков не похоже на нормальное и определяет наболее повторящиеся признаки "
      ],
      "metadata": {
        "id": "4d8WIho87ILo"
      }
    },
    {
      "cell_type": "code",
      "source": [
        "# boxplots (train and test)\n",
        "for f in features_num:\n",
        "    plt.figure(figsize=(14,1))\n",
        "    ax1 = plt.subplot(1,2,1)\n",
        "    data_temp = data[f].dropna() # boxplot does not like missings...\n",
        "    plt.boxplot(data_temp, vert=False)\n",
        "    plt.title(f + ' - Train')\n",
        "    plt.grid()\n",
        "    ax2 = plt.subplot(1,2,2, sharex=ax1)\n",
        "    test_temp = test[f].dropna()\n",
        "    plt.boxplot(test_temp, vert=False)\n",
        "    plt.title(f + ' - Test')\n",
        "    plt.grid()\n",
        "    plt.show()"
      ],
      "metadata": {
        "colab": {
          "base_uri": "https://localhost:8080/",
          "height": 1000
        },
        "id": "Tj2YZglOhWq-",
        "outputId": "15f29073-99d4-4b7d-e43c-aea8fc1aa911"
      },
      "execution_count": 23,
      "outputs": [
        {
          "output_type": "display_data",
          "data": {
            "text/plain": [
              "<Figure size 1008x72 with 2 Axes>"
            ],
            "image/png": "[encoded data removed]"
          },
          "metadata": {
            "needs_background": "light"
          }
        },
        {
          "output_type": "display_data",
          "data": {
            "text/plain": [
              "<Figure size 1008x72 with 2 Axes>"
            ],
            "image/png": "[encoded data removed]"
          },
          "metadata": {
            "needs_background": "light"
          }
        },
        {
          "output_type": "display_data",
          "data": {
            "text/plain": [
              "<Figure size 1008x72 with 2 Axes>"
            ],
            "image/png": "[encoded data removed]"
          },
          "metadata": {
            "needs_background": "light"
          }
        },
        {
          "output_type": "display_data",
          "data": {
            "text/plain": [
              "<Figure size 1008x72 with 2 Axes>"
            ],
            "image/png": "[encoded data removed]"
          },
          "metadata": {
            "needs_background": "light"
          }
        },
        {
          "output_type": "display_data",
          "data": {
            "text/plain": [
              "<Figure size 1008x72 with 2 Axes>"
            ],
            "image/png": "[encoded data removed]"
          },
          "metadata": {
            "needs_background": "light"
          }
        },
        {
          "output_type": "display_data",
          "data": {
            "text/plain": [
              "<Figure size 1008x72 with 2 Axes>"
            ],
            "image/png": "[encoded data removed]"
          },
          "metadata": {
            "needs_background": "light"
          }
        },
        {
          "output_type": "display_data",
          "data": {
            "text/plain": [
              "<Figure size 1008x72 with 2 Axes>"
            ],
            "image/png": "[encoded data removed]"
          },
          "metadata": {
            "needs_background": "light"
          }
        },
        {
          "output_type": "display_data",
          "data": {
            "text/plain": [
              "<Figure size 1008x72 with 2 Axes>"
            ],
            "image/png": "[encoded data removed]"
          },
          "metadata": {
            "needs_background": "light"
          }
        },
        {
          "output_type": "display_data",
          "data": {
            "text/plain": [
              "<Figure size 1008x72 with 2 Axes>"
            ],
            "image/png": "[encoded data removed]"
          },
          "metadata": {
            "needs_background": "light"
          }
        },
        {
          "output_type": "display_data",
          "data": {
            "text/plain": [
              "<Figure size 1008x72 with 2 Axes>"
            ],
            "image/png": "[encoded data removed]"
          },
          "metadata": {
            "needs_background": "light"
          }
        },
        {
          "output_type": "display_data",
          "data": {
            "text/plain": [
              "<Figure size 1008x72 with 2 Axes>"
            ],
            "image/png": "[encoded data removed]"
          },
          "metadata": {
            "needs_background": "light"
          }
        },
        {
          "output_type": "display_data",
          "data": {
            "text/plain": [
              "<Figure size 1008x72 with 2 Axes>"
            ],
            "image/png": "[encoded data removed]"
          },
          "metadata": {
            "needs_background": "light"
          }
        },
        {
          "output_type": "display_data",
          "data": {
            "text/plain": [
              "<Figure size 1008x72 with 2 Axes>"
            ],
            "image/png": "[encoded data removed]"
          },
          "metadata": {
            "needs_background": "light"
          }
        },
        {
          "output_type": "display_data",
          "data": {
            "text/plain": [
              "<Figure size 1008x72 with 2 Axes>"
            ],
            "image/png": "[encoded data removed]"
          },
          "metadata": {
            "needs_background": "light"
          }
        },
        {
          "output_type": "display_data",
          "data": {
            "text/plain": [
              "<Figure size 1008x72 with 2 Axes>"
            ],
            "image/png": "[encoded data removed]"
          },
          "metadata": {
            "needs_background": "light"
          }
        },
        {
          "output_type": "display_data",
          "data": {
            "text/plain": [
              "<Figure size 1008x72 with 2 Axes>"
            ],
            "image/png": "[encoded data removed]"
          },
          "metadata": {
            "needs_background": "light"
          }
        },
        {
          "output_type": "display_data",
          "data": {
            "text/plain": [
              "<Figure size 1008x72 with 2 Axes>"
            ],
            "image/png": "[encoded data removed]"
          },
          "metadata": {
            "needs_background": "light"
          }
        },
        {
          "output_type": "display_data",
          "data": {
            "text/plain": [
              "<Figure size 1008x72 with 2 Axes>"
            ],
            "image/png": "[encoded data removed]"
          },
          "metadata": {
            "needs_background": "light"
          }
        },
        {
          "output_type": "display_data",
          "data": {
            "text/plain": [
              "<Figure size 1008x72 with 2 Axes>"
            ],
            "image/png": "[encoded data removed]"
          },
          "metadata": {
            "needs_background": "light"
          }
        }
      ]
    },
    {
      "cell_type": "code",
      "source": [
        "data.columns"
      ],
      "metadata": {
        "colab": {
          "base_uri": "https://localhost:8080/"
        },
        "id": "blPOS2rWhWuh",
        "outputId": "ec86c5b2-8b64-49fd-bfba-6999f20754a5"
      },
      "execution_count": 24,
      "outputs": [
        {
          "output_type": "execute_result",
          "data": {
            "text/plain": [
              "Index(['id', 'categoryA', 'categoryB', 'categoryC', 'categoryD', 'categoryE',\n",
              "       'categoryF', 'featureA', 'featureB', 'featureC', 'featureD', 'featureE',\n",
              "       'featureF', 'featureG', 'featureH', 'featureI', 'compositionA',\n",
              "       'compositionB', 'compositionC', 'compositionD', 'compositionE',\n",
              "       'compositionF', 'compositionG', 'compositionH', 'compositionI',\n",
              "       'compositionJ', 'unit', 'result'],\n",
              "      dtype='object')"
            ]
          },
          "metadata": {},
          "execution_count": 24
        }
      ]
    },
    {
      "cell_type": "markdown",
      "source": [
        "Построение модели"
      ],
      "metadata": {
        "id": "CKS_04x5hW45"
      }
    },
    {
      "cell_type": "code",
      "source": [
        "data[features_cat]"
      ],
      "metadata": {
        "colab": {
          "base_uri": "https://localhost:8080/",
          "height": 424
        },
        "id": "hSVv54qQhYAb",
        "outputId": "7a7d9854-b244-4e00-d95b-6fc7bac1b1f1"
      },
      "execution_count": 25,
      "outputs": [
        {
          "output_type": "execute_result",
          "data": {
            "text/plain": [
              "      categoryA categoryB  categoryC categoryD categoryE categoryF     unit\n",
              "0        catA_1    catB_0   catC_718    catD_0    catE_0    catF_0   unit_6\n",
              "1        catA_1    catB_0  catC_1309    catD_0    catE_0    catF_0   unit_6\n",
              "2       catA_15    catB_0  catC_1309    catD_0    catE_0    catF_0   unit_4\n",
              "3        catA_0    catB_0   catC_935    catD_0    catE_0    catF_0   unit_5\n",
              "4       catA_22    catB_0  catC_1325    catD_0    catE_2    catF_0  unit_15\n",
              "...         ...       ...        ...       ...       ...       ...      ...\n",
              "12995    catA_3    catB_0   catC_639    catD_0    catE_0    catF_0   unit_1\n",
              "12996    catA_8    catB_0   catC_445    catD_0    catE_0    catF_0   unit_9\n",
              "12997   catA_25    catB_0   catC_445    catD_0    catE_0    catF_1  unit_12\n",
              "12998    catA_7    catB_0  catC_2322    catD_0    catE_5    catF_0   unit_8\n",
              "12999    catA_9    catB_0  catC_2322    catD_0    catE_5    catF_0  unit_10\n",
              "\n",
              "[12936 rows x 7 columns]"
            ],
            "text/html": [
              "\n",
              "  <div id=\"df-5bb34911-a250-4523-978e-5bb72891b941\">\n",
              "    <div class=\"colab-df-container\">\n",
              "      <div>\n",
              "<style scoped>\n",
              "    .dataframe tbody tr th:only-of-type {\n",
              "        vertical-align: middle;\n",
              "    }\n",
              "\n",
              "    .dataframe tbody tr th {\n",
              "        vertical-align: top;\n",
              "    }\n",
              "\n",
              "    .dataframe thead th {\n",
              "        text-align: right;\n",
              "    }\n",
              "</style>\n",
              "<table border=\"1\" class=\"dataframe\">\n",
              "  <thead>\n",
              "    <tr style=\"text-align: right;\">\n",
              "      <th></th>\n",
              "      <th>categoryA</th>\n",
              "      <th>categoryB</th>\n",
              "      <th>categoryC</th>\n",
              "      <th>categoryD</th>\n",
              "      <th>categoryE</th>\n",
              "      <th>categoryF</th>\n",
              "      <th>unit</th>\n",
              "    </tr>\n",
              "  </thead>\n",
              "  <tbody>\n",
              "    <tr>\n",
              "      <th>0</th>\n",
              "      <td>catA_1</td>\n",
              "      <td>catB_0</td>\n",
              "      <td>catC_718</td>\n",
              "      <td>catD_0</td>\n",
              "      <td>catE_0</td>\n",
              "      <td>catF_0</td>\n",
              "      <td>unit_6</td>\n",
              "    </tr>\n",
              "    <tr>\n",
              "      <th>1</th>\n",
              "      <td>catA_1</td>\n",
              "      <td>catB_0</td>\n",
              "      <td>catC_1309</td>\n",
              "      <td>catD_0</td>\n",
              "      <td>catE_0</td>\n",
              "      <td>catF_0</td>\n",
              "      <td>unit_6</td>\n",
              "    </tr>\n",
              "    <tr>\n",
              "      <th>2</th>\n",
              "      <td>catA_15</td>\n",
              "      <td>catB_0</td>\n",
              "      <td>catC_1309</td>\n",
              "      <td>catD_0</td>\n",
              "      <td>catE_0</td>\n",
              "      <td>catF_0</td>\n",
              "      <td>unit_4</td>\n",
              "    </tr>\n",
              "    <tr>\n",
              "      <th>3</th>\n",
              "      <td>catA_0</td>\n",
              "      <td>catB_0</td>\n",
              "      <td>catC_935</td>\n",
              "      <td>catD_0</td>\n",
              "      <td>catE_0</td>\n",
              "      <td>catF_0</td>\n",
              "      <td>unit_5</td>\n",
              "    </tr>\n",
              "    <tr>\n",
              "      <th>4</th>\n",
              "      <td>catA_22</td>\n",
              "      <td>catB_0</td>\n",
              "      <td>catC_1325</td>\n",
              "      <td>catD_0</td>\n",
              "      <td>catE_2</td>\n",
              "      <td>catF_0</td>\n",
              "      <td>unit_15</td>\n",
              "    </tr>\n",
              "    <tr>\n",
              "      <th>...</th>\n",
              "      <td>...</td>\n",
              "      <td>...</td>\n",
              "      <td>...</td>\n",
              "      <td>...</td>\n",
              "      <td>...</td>\n",
              "      <td>...</td>\n",
              "      <td>...</td>\n",
              "    </tr>\n",
              "    <tr>\n",
              "      <th>12995</th>\n",
              "      <td>catA_3</td>\n",
              "      <td>catB_0</td>\n",
              "      <td>catC_639</td>\n",
              "      <td>catD_0</td>\n",
              "      <td>catE_0</td>\n",
              "      <td>catF_0</td>\n",
              "      <td>unit_1</td>\n",
              "    </tr>\n",
              "    <tr>\n",
              "      <th>12996</th>\n",
              "      <td>catA_8</td>\n",
              "      <td>catB_0</td>\n",
              "      <td>catC_445</td>\n",
              "      <td>catD_0</td>\n",
              "      <td>catE_0</td>\n",
              "      <td>catF_0</td>\n",
              "      <td>unit_9</td>\n",
              "    </tr>\n",
              "    <tr>\n",
              "      <th>12997</th>\n",
              "      <td>catA_25</td>\n",
              "      <td>catB_0</td>\n",
              "      <td>catC_445</td>\n",
              "      <td>catD_0</td>\n",
              "      <td>catE_0</td>\n",
              "      <td>catF_1</td>\n",
              "      <td>unit_12</td>\n",
              "    </tr>\n",
              "    <tr>\n",
              "      <th>12998</th>\n",
              "      <td>catA_7</td>\n",
              "      <td>catB_0</td>\n",
              "      <td>catC_2322</td>\n",
              "      <td>catD_0</td>\n",
              "      <td>catE_5</td>\n",
              "      <td>catF_0</td>\n",
              "      <td>unit_8</td>\n",
              "    </tr>\n",
              "    <tr>\n",
              "      <th>12999</th>\n",
              "      <td>catA_9</td>\n",
              "      <td>catB_0</td>\n",
              "      <td>catC_2322</td>\n",
              "      <td>catD_0</td>\n",
              "      <td>catE_5</td>\n",
              "      <td>catF_0</td>\n",
              "      <td>unit_10</td>\n",
              "    </tr>\n",
              "  </tbody>\n",
              "</table>\n",
              "<p>12936 rows × 7 columns</p>\n",
              "</div>\n",
              "      <button class=\"colab-df-convert\" onclick=\"convertToInteractive('df-5bb34911-a250-4523-978e-5bb72891b941')\"\n",
              "              title=\"Convert this dataframe to an interactive table.\"\n",
              "              style=\"display:none;\">\n",
              "        \n",
              "  <svg xmlns=\"http://www.w3.org/2000/svg\" height=\"24px\"viewBox=\"0 0 24 24\"\n",
              "       width=\"24px\">\n",
              "    <path d=\"M0 0h24v24H0V0z\" fill=\"none\"/>\n",
              "    <path d=\"M18.56 5.44l.94 2.06.94-2.06 2.06-.94-2.06-.94-.94-2.06-.94 2.06-2.06.94zm-11 1L8.5 8.5l.94-2.06 2.06-.94-2.06-.94L8.5 2.5l-.94 2.06-2.06.94zm10 10l.94 2.06.94-2.06 2.06-.94-2.06-.94-.94-2.06-.94 2.06-2.06.94z\"/><path d=\"M17.41 7.96l-1.37-1.37c-.4-.4-.92-.59-1.43-.59-.52 0-1.04.2-1.43.59L10.3 9.45l-7.72 7.72c-.78.78-.78 2.05 0 2.83L4 21.41c.39.39.9.59 1.41.59.51 0 1.02-.2 1.41-.59l7.78-7.78 2.81-2.81c.8-.78.8-2.07 0-2.86zM5.41 20L4 18.59l7.72-7.72 1.47 1.35L5.41 20z\"/>\n",
              "  </svg>\n",
              "      </button>\n",
              "      \n",
              "  <style>\n",
              "    .colab-df-container {\n",
              "      display:flex;\n",
              "      flex-wrap:wrap;\n",
              "      gap: 12px;\n",
              "    }\n",
              "\n",
              "    .colab-df-convert {\n",
              "      background-color: #E8F0FE;\n",
              "      border: none;\n",
              "      border-radius: 50%;\n",
              "      cursor: pointer;\n",
              "      display: none;\n",
              "      fill: #1967D2;\n",
              "      height: 32px;\n",
              "      padding: 0 0 0 0;\n",
              "      width: 32px;\n",
              "    }\n",
              "\n",
              "    .colab-df-convert:hover {\n",
              "      background-color: #E2EBFA;\n",
              "      box-shadow: 0px 1px 2px rgba(60, 64, 67, 0.3), 0px 1px 3px 1px rgba(60, 64, 67, 0.15);\n",
              "      fill: #174EA6;\n",
              "    }\n",
              "\n",
              "    [theme=dark] .colab-df-convert {\n",
              "      background-color: #3B4455;\n",
              "      fill: #D2E3FC;\n",
              "    }\n",
              "\n",
              "    [theme=dark] .colab-df-convert:hover {\n",
              "      background-color: #434B5C;\n",
              "      box-shadow: 0px 1px 3px 1px rgba(0, 0, 0, 0.15);\n",
              "      filter: drop-shadow(0px 1px 2px rgba(0, 0, 0, 0.3));\n",
              "      fill: #FFFFFF;\n",
              "    }\n",
              "  </style>\n",
              "\n",
              "      <script>\n",
              "        const buttonEl =\n",
              "          document.querySelector('#df-5bb34911-a250-4523-978e-5bb72891b941 button.colab-df-convert');\n",
              "        buttonEl.style.display =\n",
              "          google.colab.kernel.accessAllowed ? 'block' : 'none';\n",
              "\n",
              "        async function convertToInteractive(key) {\n",
              "          const element = document.querySelector('#df-5bb34911-a250-4523-978e-5bb72891b941');\n",
              "          const dataTable =\n",
              "            await google.colab.kernel.invokeFunction('convertToInteractive',\n",
              "                                                     [key], {});\n",
              "          if (!dataTable) return;\n",
              "\n",
              "          const docLinkHtml = 'Like what you see? Visit the ' +\n",
              "            '<a target=\"_blank\" href=https://colab.research.google.com/notebooks/data_table.ipynb>data table notebook</a>'\n",
              "            + ' to learn more about interactive tables.';\n",
              "          element.innerHTML = '';\n",
              "          dataTable['output_type'] = 'display_data';\n",
              "          await google.colab.output.renderOutput(dataTable, element);\n",
              "          const docLink = document.createElement('div');\n",
              "          docLink.innerHTML = docLinkHtml;\n",
              "          element.appendChild(docLink);\n",
              "        }\n",
              "      </script>\n",
              "    </div>\n",
              "  </div>\n",
              "  "
            ]
          },
          "metadata": {},
          "execution_count": 25
        }
      ]
    },
    {
      "cell_type": "code",
      "source": [
        "train_scaled = data.copy()\n",
        "test_scaled = test.copy()"
      ],
      "metadata": {
        "id": "qocnQPbGtEJ4"
      },
      "execution_count": 35,
      "outputs": []
    },
    {
      "cell_type": "code",
      "source": [
        "scaler = StandardScaler()\n",
        "train_scaled[features_num] = scaler.fit_transform(data[features_num])\n",
        "test_scaled[features_num] = scaler.transform(test[features_num])\n",
        "train_scaled[features_num]"
      ],
      "metadata": {
        "colab": {
          "base_uri": "https://localhost:8080/",
          "height": 488
        },
        "id": "M-z9QJTDhYYX",
        "outputId": "548461ea-31f3-46e4-f70d-1d2f8d7f11de"
      },
      "execution_count": 37,
      "outputs": [
        {
          "output_type": "execute_result",
          "data": {
            "text/plain": [
              "       featureA  featureB  featureC  featureD  featureE  featureF  featureG  \\\n",
              "0     -0.278170 -0.021516 -0.481773 -0.373437  0.657987 -0.093287  0.526658   \n",
              "1     -0.278170 -0.021516 -0.481773 -0.373437  0.657987 -0.093287  0.526658   \n",
              "2     -0.278170 -0.021516 -0.481773 -0.373437  0.657987 -0.093287  0.526658   \n",
              "3     -0.278170 -0.021516 -0.481773 -0.373437  0.657987  0.787882  0.526658   \n",
              "4     -1.069068 -0.051243  2.257233 -0.754606 -1.710079  1.669050 -0.974444   \n",
              "...         ...       ...       ...       ...       ...       ...       ...   \n",
              "12995 -0.278170 -0.021516 -0.481773 -0.373437  0.657987 -0.093287  0.526658   \n",
              "12996 -0.278170 -0.021516 -0.481773 -0.373437  0.657987 -0.093287  0.526658   \n",
              "12997 -0.278170 -0.021516 -0.481773 -0.373437  0.657987 -0.093287  0.526658   \n",
              "12998 -0.666448  5.181629 -0.501954 -1.760437 -1.840710 -0.093287 -2.330405   \n",
              "12999 -0.666448  5.181629 -0.501954 -1.760437 -1.840710 -0.093287 -2.330405   \n",
              "\n",
              "       featureH  featureI  compositionA  compositionB  compositionC  \\\n",
              "0     -0.470237  0.869483     -0.221909      0.714267      0.368783   \n",
              "1     -0.470237  0.869483     -0.221909      0.714267      0.368783   \n",
              "2     -0.470237  0.869483     -0.221909      0.714267      0.368783   \n",
              "3     -0.470237  0.869483     -0.221909      0.714267      0.368783   \n",
              "4      2.253553  0.030660     -0.221909      0.090935     -1.496523   \n",
              "...         ...       ...           ...           ...           ...   \n",
              "12995 -0.470237  0.869483     -0.221909      0.714267      0.368783   \n",
              "12996 -0.470237  0.869483     -0.221909      0.714267      0.368783   \n",
              "12997 -0.470237  0.869483     -0.221909      0.714267      0.368783   \n",
              "12998 -0.470237 -1.992114     -0.221909      0.477401     -1.631758   \n",
              "12999 -0.470237 -1.992114     -0.221909      0.477401     -1.631758   \n",
              "\n",
              "       compositionD  compositionE  compositionF  compositionG  compositionH  \\\n",
              "0          -0.34825     -0.003435     -0.162668     -0.682772     -0.455706   \n",
              "1          -0.34825     -0.003435     -0.162668     -0.682772     -0.455706   \n",
              "2          -0.34825     -0.003435     -0.162668     -0.682772     -0.455706   \n",
              "3          -0.34825     -0.003435     -0.162668     -0.682772     -0.455706   \n",
              "4          -0.34825      1.528407     -0.162668     -0.008201     -0.455706   \n",
              "...             ...           ...           ...           ...           ...   \n",
              "12995      -0.34825     -0.003435     -0.162668     -0.682772     -0.455706   \n",
              "12996      -0.34825     -0.003435     -0.162668     -0.682772     -0.455706   \n",
              "12997      -0.34825     -0.003435     -0.162668     -0.682772     -0.455706   \n",
              "12998      -0.34825      0.346185     -1.346055     -0.436554     -2.009226   \n",
              "12999      -0.34825      0.346185     -1.346055     -0.436554     -2.009226   \n",
              "\n",
              "       compositionI  compositionJ  \n",
              "0         -0.189650      0.258149  \n",
              "1         -0.189650      0.258149  \n",
              "2         -0.189650      0.258149  \n",
              "3         -0.189650      0.258149  \n",
              "4         -1.102459     -0.962522  \n",
              "...             ...           ...  \n",
              "12995     -0.189650      0.258149  \n",
              "12996     -0.189650      0.258149  \n",
              "12997     -0.189650      0.258149  \n",
              "12998      0.797262      4.611063  \n",
              "12999      0.797262      4.611063  \n",
              "\n",
              "[12936 rows x 19 columns]"
            ],
            "text/html": [
              "\n",
              "  <div id=\"df-5a3aa970-ce76-4a7d-84f1-887cf65eed50\">\n",
              "    <div class=\"colab-df-container\">\n",
              "      <div>\n",
              "<style scoped>\n",
              "    .dataframe tbody tr th:only-of-type {\n",
              "        vertical-align: middle;\n",
              "    }\n",
              "\n",
              "    .dataframe tbody tr th {\n",
              "        vertical-align: top;\n",
              "    }\n",
              "\n",
              "    .dataframe thead th {\n",
              "        text-align: right;\n",
              "    }\n",
              "</style>\n",
              "<table border=\"1\" class=\"dataframe\">\n",
              "  <thead>\n",
              "    <tr style=\"text-align: right;\">\n",
              "      <th></th>\n",
              "      <th>featureA</th>\n",
              "      <th>featureB</th>\n",
              "      <th>featureC</th>\n",
              "      <th>featureD</th>\n",
              "      <th>featureE</th>\n",
              "      <th>featureF</th>\n",
              "      <th>featureG</th>\n",
              "      <th>featureH</th>\n",
              "      <th>featureI</th>\n",
              "      <th>compositionA</th>\n",
              "      <th>compositionB</th>\n",
              "      <th>compositionC</th>\n",
              "      <th>compositionD</th>\n",
              "      <th>compositionE</th>\n",
              "      <th>compositionF</th>\n",
              "      <th>compositionG</th>\n",
              "      <th>compositionH</th>\n",
              "      <th>compositionI</th>\n",
              "      <th>compositionJ</th>\n",
              "    </tr>\n",
              "  </thead>\n",
              "  <tbody>\n",
              "    <tr>\n",
              "      <th>0</th>\n",
              "      <td>-0.278170</td>\n",
              "      <td>-0.021516</td>\n",
              "      <td>-0.481773</td>\n",
              "      <td>-0.373437</td>\n",
              "      <td>0.657987</td>\n",
              "      <td>-0.093287</td>\n",
              "      <td>0.526658</td>\n",
              "      <td>-0.470237</td>\n",
              "      <td>0.869483</td>\n",
              "      <td>-0.221909</td>\n",
              "      <td>0.714267</td>\n",
              "      <td>0.368783</td>\n",
              "      <td>-0.34825</td>\n",
              "      <td>-0.003435</td>\n",
              "      <td>-0.162668</td>\n",
              "      <td>-0.682772</td>\n",
              "      <td>-0.455706</td>\n",
              "      <td>-0.189650</td>\n",
              "      <td>0.258149</td>\n",
              "    </tr>\n",
              "    <tr>\n",
              "      <th>1</th>\n",
              "      <td>-0.278170</td>\n",
              "      <td>-0.021516</td>\n",
              "      <td>-0.481773</td>\n",
              "      <td>-0.373437</td>\n",
              "      <td>0.657987</td>\n",
              "      <td>-0.093287</td>\n",
              "      <td>0.526658</td>\n",
              "      <td>-0.470237</td>\n",
              "      <td>0.869483</td>\n",
              "      <td>-0.221909</td>\n",
              "      <td>0.714267</td>\n",
              "      <td>0.368783</td>\n",
              "      <td>-0.34825</td>\n",
              "      <td>-0.003435</td>\n",
              "      <td>-0.162668</td>\n",
              "      <td>-0.682772</td>\n",
              "      <td>-0.455706</td>\n",
              "      <td>-0.189650</td>\n",
              "      <td>0.258149</td>\n",
              "    </tr>\n",
              "    <tr>\n",
              "      <th>2</th>\n",
              "      <td>-0.278170</td>\n",
              "      <td>-0.021516</td>\n",
              "      <td>-0.481773</td>\n",
              "      <td>-0.373437</td>\n",
              "      <td>0.657987</td>\n",
              "      <td>-0.093287</td>\n",
              "      <td>0.526658</td>\n",
              "      <td>-0.470237</td>\n",
              "      <td>0.869483</td>\n",
              "      <td>-0.221909</td>\n",
              "      <td>0.714267</td>\n",
              "      <td>0.368783</td>\n",
              "      <td>-0.34825</td>\n",
              "      <td>-0.003435</td>\n",
              "      <td>-0.162668</td>\n",
              "      <td>-0.682772</td>\n",
              "      <td>-0.455706</td>\n",
              "      <td>-0.189650</td>\n",
              "      <td>0.258149</td>\n",
              "    </tr>\n",
              "    <tr>\n",
              "      <th>3</th>\n",
              "      <td>-0.278170</td>\n",
              "      <td>-0.021516</td>\n",
              "      <td>-0.481773</td>\n",
              "      <td>-0.373437</td>\n",
              "      <td>0.657987</td>\n",
              "      <td>0.787882</td>\n",
              "      <td>0.526658</td>\n",
              "      <td>-0.470237</td>\n",
              "      <td>0.869483</td>\n",
              "      <td>-0.221909</td>\n",
              "      <td>0.714267</td>\n",
              "      <td>0.368783</td>\n",
              "      <td>-0.34825</td>\n",
              "      <td>-0.003435</td>\n",
              "      <td>-0.162668</td>\n",
              "      <td>-0.682772</td>\n",
              "      <td>-0.455706</td>\n",
              "      <td>-0.189650</td>\n",
              "      <td>0.258149</td>\n",
              "    </tr>\n",
              "    <tr>\n",
              "      <th>4</th>\n",
              "      <td>-1.069068</td>\n",
              "      <td>-0.051243</td>\n",
              "      <td>2.257233</td>\n",
              "      <td>-0.754606</td>\n",
              "      <td>-1.710079</td>\n",
              "      <td>1.669050</td>\n",
              "      <td>-0.974444</td>\n",
              "      <td>2.253553</td>\n",
              "      <td>0.030660</td>\n",
              "      <td>-0.221909</td>\n",
              "      <td>0.090935</td>\n",
              "      <td>-1.496523</td>\n",
              "      <td>-0.34825</td>\n",
              "      <td>1.528407</td>\n",
              "      <td>-0.162668</td>\n",
              "      <td>-0.008201</td>\n",
              "      <td>-0.455706</td>\n",
              "      <td>-1.102459</td>\n",
              "      <td>-0.962522</td>\n",
              "    </tr>\n",
              "    <tr>\n",
              "      <th>...</th>\n",
              "      <td>...</td>\n",
              "      <td>...</td>\n",
              "      <td>...</td>\n",
              "      <td>...</td>\n",
              "      <td>...</td>\n",
              "      <td>...</td>\n",
              "      <td>...</td>\n",
              "      <td>...</td>\n",
              "      <td>...</td>\n",
              "      <td>...</td>\n",
              "      <td>...</td>\n",
              "      <td>...</td>\n",
              "      <td>...</td>\n",
              "      <td>...</td>\n",
              "      <td>...</td>\n",
              "      <td>...</td>\n",
              "      <td>...</td>\n",
              "      <td>...</td>\n",
              "      <td>...</td>\n",
              "    </tr>\n",
              "    <tr>\n",
              "      <th>12995</th>\n",
              "      <td>-0.278170</td>\n",
              "      <td>-0.021516</td>\n",
              "      <td>-0.481773</td>\n",
              "      <td>-0.373437</td>\n",
              "      <td>0.657987</td>\n",
              "      <td>-0.093287</td>\n",
              "      <td>0.526658</td>\n",
              "      <td>-0.470237</td>\n",
              "      <td>0.869483</td>\n",
              "      <td>-0.221909</td>\n",
              "      <td>0.714267</td>\n",
              "      <td>0.368783</td>\n",
              "      <td>-0.34825</td>\n",
              "      <td>-0.003435</td>\n",
              "      <td>-0.162668</td>\n",
              "      <td>-0.682772</td>\n",
              "      <td>-0.455706</td>\n",
              "      <td>-0.189650</td>\n",
              "      <td>0.258149</td>\n",
              "    </tr>\n",
              "    <tr>\n",
              "      <th>12996</th>\n",
              "      <td>-0.278170</td>\n",
              "      <td>-0.021516</td>\n",
              "      <td>-0.481773</td>\n",
              "      <td>-0.373437</td>\n",
              "      <td>0.657987</td>\n",
              "      <td>-0.093287</td>\n",
              "      <td>0.526658</td>\n",
              "      <td>-0.470237</td>\n",
              "      <td>0.869483</td>\n",
              "      <td>-0.221909</td>\n",
              "      <td>0.714267</td>\n",
              "      <td>0.368783</td>\n",
              "      <td>-0.34825</td>\n",
              "      <td>-0.003435</td>\n",
              "      <td>-0.162668</td>\n",
              "      <td>-0.682772</td>\n",
              "      <td>-0.455706</td>\n",
              "      <td>-0.189650</td>\n",
              "      <td>0.258149</td>\n",
              "    </tr>\n",
              "    <tr>\n",
              "      <th>12997</th>\n",
              "      <td>-0.278170</td>\n",
              "      <td>-0.021516</td>\n",
              "      <td>-0.481773</td>\n",
              "      <td>-0.373437</td>\n",
              "      <td>0.657987</td>\n",
              "      <td>-0.093287</td>\n",
              "      <td>0.526658</td>\n",
              "      <td>-0.470237</td>\n",
              "      <td>0.869483</td>\n",
              "      <td>-0.221909</td>\n",
              "      <td>0.714267</td>\n",
              "      <td>0.368783</td>\n",
              "      <td>-0.34825</td>\n",
              "      <td>-0.003435</td>\n",
              "      <td>-0.162668</td>\n",
              "      <td>-0.682772</td>\n",
              "      <td>-0.455706</td>\n",
              "      <td>-0.189650</td>\n",
              "      <td>0.258149</td>\n",
              "    </tr>\n",
              "    <tr>\n",
              "      <th>12998</th>\n",
              "      <td>-0.666448</td>\n",
              "      <td>5.181629</td>\n",
              "      <td>-0.501954</td>\n",
              "      <td>-1.760437</td>\n",
              "      <td>-1.840710</td>\n",
              "      <td>-0.093287</td>\n",
              "      <td>-2.330405</td>\n",
              "      <td>-0.470237</td>\n",
              "      <td>-1.992114</td>\n",
              "      <td>-0.221909</td>\n",
              "      <td>0.477401</td>\n",
              "      <td>-1.631758</td>\n",
              "      <td>-0.34825</td>\n",
              "      <td>0.346185</td>\n",
              "      <td>-1.346055</td>\n",
              "      <td>-0.436554</td>\n",
              "      <td>-2.009226</td>\n",
              "      <td>0.797262</td>\n",
              "      <td>4.611063</td>\n",
              "    </tr>\n",
              "    <tr>\n",
              "      <th>12999</th>\n",
              "      <td>-0.666448</td>\n",
              "      <td>5.181629</td>\n",
              "      <td>-0.501954</td>\n",
              "      <td>-1.760437</td>\n",
              "      <td>-1.840710</td>\n",
              "      <td>-0.093287</td>\n",
              "      <td>-2.330405</td>\n",
              "      <td>-0.470237</td>\n",
              "      <td>-1.992114</td>\n",
              "      <td>-0.221909</td>\n",
              "      <td>0.477401</td>\n",
              "      <td>-1.631758</td>\n",
              "      <td>-0.34825</td>\n",
              "      <td>0.346185</td>\n",
              "      <td>-1.346055</td>\n",
              "      <td>-0.436554</td>\n",
              "      <td>-2.009226</td>\n",
              "      <td>0.797262</td>\n",
              "      <td>4.611063</td>\n",
              "    </tr>\n",
              "  </tbody>\n",
              "</table>\n",
              "<p>12936 rows × 19 columns</p>\n",
              "</div>\n",
              "      <button class=\"colab-df-convert\" onclick=\"convertToInteractive('df-5a3aa970-ce76-4a7d-84f1-887cf65eed50')\"\n",
              "              title=\"Convert this dataframe to an interactive table.\"\n",
              "              style=\"display:none;\">\n",
              "        \n",
              "  <svg xmlns=\"http://www.w3.org/2000/svg\" height=\"24px\"viewBox=\"0 0 24 24\"\n",
              "       width=\"24px\">\n",
              "    <path d=\"M0 0h24v24H0V0z\" fill=\"none\"/>\n",
              "    <path d=\"M18.56 5.44l.94 2.06.94-2.06 2.06-.94-2.06-.94-.94-2.06-.94 2.06-2.06.94zm-11 1L8.5 8.5l.94-2.06 2.06-.94-2.06-.94L8.5 2.5l-.94 2.06-2.06.94zm10 10l.94 2.06.94-2.06 2.06-.94-2.06-.94-.94-2.06-.94 2.06-2.06.94z\"/><path d=\"M17.41 7.96l-1.37-1.37c-.4-.4-.92-.59-1.43-.59-.52 0-1.04.2-1.43.59L10.3 9.45l-7.72 7.72c-.78.78-.78 2.05 0 2.83L4 21.41c.39.39.9.59 1.41.59.51 0 1.02-.2 1.41-.59l7.78-7.78 2.81-2.81c.8-.78.8-2.07 0-2.86zM5.41 20L4 18.59l7.72-7.72 1.47 1.35L5.41 20z\"/>\n",
              "  </svg>\n",
              "      </button>\n",
              "      \n",
              "  <style>\n",
              "    .colab-df-container {\n",
              "      display:flex;\n",
              "      flex-wrap:wrap;\n",
              "      gap: 12px;\n",
              "    }\n",
              "\n",
              "    .colab-df-convert {\n",
              "      background-color: #E8F0FE;\n",
              "      border: none;\n",
              "      border-radius: 50%;\n",
              "      cursor: pointer;\n",
              "      display: none;\n",
              "      fill: #1967D2;\n",
              "      height: 32px;\n",
              "      padding: 0 0 0 0;\n",
              "      width: 32px;\n",
              "    }\n",
              "\n",
              "    .colab-df-convert:hover {\n",
              "      background-color: #E2EBFA;\n",
              "      box-shadow: 0px 1px 2px rgba(60, 64, 67, 0.3), 0px 1px 3px 1px rgba(60, 64, 67, 0.15);\n",
              "      fill: #174EA6;\n",
              "    }\n",
              "\n",
              "    [theme=dark] .colab-df-convert {\n",
              "      background-color: #3B4455;\n",
              "      fill: #D2E3FC;\n",
              "    }\n",
              "\n",
              "    [theme=dark] .colab-df-convert:hover {\n",
              "      background-color: #434B5C;\n",
              "      box-shadow: 0px 1px 3px 1px rgba(0, 0, 0, 0.15);\n",
              "      filter: drop-shadow(0px 1px 2px rgba(0, 0, 0, 0.3));\n",
              "      fill: #FFFFFF;\n",
              "    }\n",
              "  </style>\n",
              "\n",
              "      <script>\n",
              "        const buttonEl =\n",
              "          document.querySelector('#df-5a3aa970-ce76-4a7d-84f1-887cf65eed50 button.colab-df-convert');\n",
              "        buttonEl.style.display =\n",
              "          google.colab.kernel.accessAllowed ? 'block' : 'none';\n",
              "\n",
              "        async function convertToInteractive(key) {\n",
              "          const element = document.querySelector('#df-5a3aa970-ce76-4a7d-84f1-887cf65eed50');\n",
              "          const dataTable =\n",
              "            await google.colab.kernel.invokeFunction('convertToInteractive',\n",
              "                                                     [key], {});\n",
              "          if (!dataTable) return;\n",
              "\n",
              "          const docLinkHtml = 'Like what you see? Visit the ' +\n",
              "            '<a target=\"_blank\" href=https://colab.research.google.com/notebooks/data_table.ipynb>data table notebook</a>'\n",
              "            + ' to learn more about interactive tables.';\n",
              "          element.innerHTML = '';\n",
              "          dataTable['output_type'] = 'display_data';\n",
              "          await google.colab.output.renderOutput(dataTable, element);\n",
              "          const docLink = document.createElement('div');\n",
              "          docLink.innerHTML = docLinkHtml;\n",
              "          element.appendChild(docLink);\n",
              "        }\n",
              "      </script>\n",
              "    </div>\n",
              "  </div>\n",
              "  "
            ]
          },
          "metadata": {},
          "execution_count": 37
        }
      ]
    },
    {
      "cell_type": "code",
      "source": [],
      "metadata": {
        "id": "NFvGBDMzuwu7"
      },
      "execution_count": 37,
      "outputs": []
    },
    {
      "cell_type": "code",
      "source": [
        "for column in features_cat:\n",
        "\n",
        "  labelencoder = LabelEncoder()\n",
        "  if column in [\"categoryA\",\"categoryC\",\"categoryE\"]:\n",
        "    set_categoryC = set()\n",
        "    set_categoryC.update(train_scaled[column].unique())\n",
        "    set_categoryC.update(test_scaled[column].unique())\n",
        "    labelencoder.fit(list(set_categoryC))\n",
        "    train_scaled[column] = labelencoder.transform(train_scaled[column])\n",
        "  else:\n",
        "    train_scaled[column] = labelencoder.fit_transform(train_scaled[column])\n",
        "  test_scaled[column] = labelencoder.transform(test_scaled[column])\n",
        "\n",
        "train_scaled[features_cat]"
      ],
      "metadata": {
        "colab": {
          "base_uri": "https://localhost:8080/",
          "height": 424
        },
        "id": "T-E9SoRvhYbx",
        "outputId": "ede4c84c-616b-447b-ac8a-6cec943796b9"
      },
      "execution_count": 36,
      "outputs": [
        {
          "output_type": "execute_result",
          "data": {
            "text/plain": [
              "       categoryA  categoryB  categoryC  categoryD  categoryE  categoryF  unit\n",
              "0              1          0       2578          0          0          0    15\n",
              "1              1          0        343          0          0          0    15\n",
              "2             57          0        343          0          0          0    13\n",
              "3              0          0       2817          0          0          0    14\n",
              "4             97          0        361          0         11          0     7\n",
              "...          ...        ...        ...        ...        ...        ...   ...\n",
              "12995        105          0       2490          0          0          0     1\n",
              "12996        160          0       2276          0          0          0    18\n",
              "12997        100          0       2276          0          0          1     4\n",
              "12998        149          0       1462          0         21          0    17\n",
              "12999        171          0       1462          0         21          0     2\n",
              "\n",
              "[12936 rows x 7 columns]"
            ],
            "text/html": [
              "\n",
              "  <div id=\"df-7a3dbc83-1a26-4d47-b059-894b126c6bf1\">\n",
              "    <div class=\"colab-df-container\">\n",
              "      <div>\n",
              "<style scoped>\n",
              "    .dataframe tbody tr th:only-of-type {\n",
              "        vertical-align: middle;\n",
              "    }\n",
              "\n",
              "    .dataframe tbody tr th {\n",
              "        vertical-align: top;\n",
              "    }\n",
              "\n",
              "    .dataframe thead th {\n",
              "        text-align: right;\n",
              "    }\n",
              "</style>\n",
              "<table border=\"1\" class=\"dataframe\">\n",
              "  <thead>\n",
              "    <tr style=\"text-align: right;\">\n",
              "      <th></th>\n",
              "      <th>categoryA</th>\n",
              "      <th>categoryB</th>\n",
              "      <th>categoryC</th>\n",
              "      <th>categoryD</th>\n",
              "      <th>categoryE</th>\n",
              "      <th>categoryF</th>\n",
              "      <th>unit</th>\n",
              "    </tr>\n",
              "  </thead>\n",
              "  <tbody>\n",
              "    <tr>\n",
              "      <th>0</th>\n",
              "      <td>1</td>\n",
              "      <td>0</td>\n",
              "      <td>2578</td>\n",
              "      <td>0</td>\n",
              "      <td>0</td>\n",
              "      <td>0</td>\n",
              "      <td>15</td>\n",
              "    </tr>\n",
              "    <tr>\n",
              "      <th>1</th>\n",
              "      <td>1</td>\n",
              "      <td>0</td>\n",
              "      <td>343</td>\n",
              "      <td>0</td>\n",
              "      <td>0</td>\n",
              "      <td>0</td>\n",
              "      <td>15</td>\n",
              "    </tr>\n",
              "    <tr>\n",
              "      <th>2</th>\n",
              "      <td>57</td>\n",
              "      <td>0</td>\n",
              "      <td>343</td>\n",
              "      <td>0</td>\n",
              "      <td>0</td>\n",
              "      <td>0</td>\n",
              "      <td>13</td>\n",
              "    </tr>\n",
              "    <tr>\n",
              "      <th>3</th>\n",
              "      <td>0</td>\n",
              "      <td>0</td>\n",
              "      <td>2817</td>\n",
              "      <td>0</td>\n",
              "      <td>0</td>\n",
              "      <td>0</td>\n",
              "      <td>14</td>\n",
              "    </tr>\n",
              "    <tr>\n",
              "      <th>4</th>\n",
              "      <td>97</td>\n",
              "      <td>0</td>\n",
              "      <td>361</td>\n",
              "      <td>0</td>\n",
              "      <td>11</td>\n",
              "      <td>0</td>\n",
              "      <td>7</td>\n",
              "    </tr>\n",
              "    <tr>\n",
              "      <th>...</th>\n",
              "      <td>...</td>\n",
              "      <td>...</td>\n",
              "      <td>...</td>\n",
              "      <td>...</td>\n",
              "      <td>...</td>\n",
              "      <td>...</td>\n",
              "      <td>...</td>\n",
              "    </tr>\n",
              "    <tr>\n",
              "      <th>12995</th>\n",
              "      <td>105</td>\n",
              "      <td>0</td>\n",
              "      <td>2490</td>\n",
              "      <td>0</td>\n",
              "      <td>0</td>\n",
              "      <td>0</td>\n",
              "      <td>1</td>\n",
              "    </tr>\n",
              "    <tr>\n",
              "      <th>12996</th>\n",
              "      <td>160</td>\n",
              "      <td>0</td>\n",
              "      <td>2276</td>\n",
              "      <td>0</td>\n",
              "      <td>0</td>\n",
              "      <td>0</td>\n",
              "      <td>18</td>\n",
              "    </tr>\n",
              "    <tr>\n",
              "      <th>12997</th>\n",
              "      <td>100</td>\n",
              "      <td>0</td>\n",
              "      <td>2276</td>\n",
              "      <td>0</td>\n",
              "      <td>0</td>\n",
              "      <td>1</td>\n",
              "      <td>4</td>\n",
              "    </tr>\n",
              "    <tr>\n",
              "      <th>12998</th>\n",
              "      <td>149</td>\n",
              "      <td>0</td>\n",
              "      <td>1462</td>\n",
              "      <td>0</td>\n",
              "      <td>21</td>\n",
              "      <td>0</td>\n",
              "      <td>17</td>\n",
              "    </tr>\n",
              "    <tr>\n",
              "      <th>12999</th>\n",
              "      <td>171</td>\n",
              "      <td>0</td>\n",
              "      <td>1462</td>\n",
              "      <td>0</td>\n",
              "      <td>21</td>\n",
              "      <td>0</td>\n",
              "      <td>2</td>\n",
              "    </tr>\n",
              "  </tbody>\n",
              "</table>\n",
              "<p>12936 rows × 7 columns</p>\n",
              "</div>\n",
              "      <button class=\"colab-df-convert\" onclick=\"convertToInteractive('df-7a3dbc83-1a26-4d47-b059-894b126c6bf1')\"\n",
              "              title=\"Convert this dataframe to an interactive table.\"\n",
              "              style=\"display:none;\">\n",
              "        \n",
              "  <svg xmlns=\"http://www.w3.org/2000/svg\" height=\"24px\"viewBox=\"0 0 24 24\"\n",
              "       width=\"24px\">\n",
              "    <path d=\"M0 0h24v24H0V0z\" fill=\"none\"/>\n",
              "    <path d=\"M18.56 5.44l.94 2.06.94-2.06 2.06-.94-2.06-.94-.94-2.06-.94 2.06-2.06.94zm-11 1L8.5 8.5l.94-2.06 2.06-.94-2.06-.94L8.5 2.5l-.94 2.06-2.06.94zm10 10l.94 2.06.94-2.06 2.06-.94-2.06-.94-.94-2.06-.94 2.06-2.06.94z\"/><path d=\"M17.41 7.96l-1.37-1.37c-.4-.4-.92-.59-1.43-.59-.52 0-1.04.2-1.43.59L10.3 9.45l-7.72 7.72c-.78.78-.78 2.05 0 2.83L4 21.41c.39.39.9.59 1.41.59.51 0 1.02-.2 1.41-.59l7.78-7.78 2.81-2.81c.8-.78.8-2.07 0-2.86zM5.41 20L4 18.59l7.72-7.72 1.47 1.35L5.41 20z\"/>\n",
              "  </svg>\n",
              "      </button>\n",
              "      \n",
              "  <style>\n",
              "    .colab-df-container {\n",
              "      display:flex;\n",
              "      flex-wrap:wrap;\n",
              "      gap: 12px;\n",
              "    }\n",
              "\n",
              "    .colab-df-convert {\n",
              "      background-color: #E8F0FE;\n",
              "      border: none;\n",
              "      border-radius: 50%;\n",
              "      cursor: pointer;\n",
              "      display: none;\n",
              "      fill: #1967D2;\n",
              "      height: 32px;\n",
              "      padding: 0 0 0 0;\n",
              "      width: 32px;\n",
              "    }\n",
              "\n",
              "    .colab-df-convert:hover {\n",
              "      background-color: #E2EBFA;\n",
              "      box-shadow: 0px 1px 2px rgba(60, 64, 67, 0.3), 0px 1px 3px 1px rgba(60, 64, 67, 0.15);\n",
              "      fill: #174EA6;\n",
              "    }\n",
              "\n",
              "    [theme=dark] .colab-df-convert {\n",
              "      background-color: #3B4455;\n",
              "      fill: #D2E3FC;\n",
              "    }\n",
              "\n",
              "    [theme=dark] .colab-df-convert:hover {\n",
              "      background-color: #434B5C;\n",
              "      box-shadow: 0px 1px 3px 1px rgba(0, 0, 0, 0.15);\n",
              "      filter: drop-shadow(0px 1px 2px rgba(0, 0, 0, 0.3));\n",
              "      fill: #FFFFFF;\n",
              "    }\n",
              "  </style>\n",
              "\n",
              "      <script>\n",
              "        const buttonEl =\n",
              "          document.querySelector('#df-7a3dbc83-1a26-4d47-b059-894b126c6bf1 button.colab-df-convert');\n",
              "        buttonEl.style.display =\n",
              "          google.colab.kernel.accessAllowed ? 'block' : 'none';\n",
              "\n",
              "        async function convertToInteractive(key) {\n",
              "          const element = document.querySelector('#df-7a3dbc83-1a26-4d47-b059-894b126c6bf1');\n",
              "          const dataTable =\n",
              "            await google.colab.kernel.invokeFunction('convertToInteractive',\n",
              "                                                     [key], {});\n",
              "          if (!dataTable) return;\n",
              "\n",
              "          const docLinkHtml = 'Like what you see? Visit the ' +\n",
              "            '<a target=\"_blank\" href=https://colab.research.google.com/notebooks/data_table.ipynb>data table notebook</a>'\n",
              "            + ' to learn more about interactive tables.';\n",
              "          element.innerHTML = '';\n",
              "          dataTable['output_type'] = 'display_data';\n",
              "          await google.colab.output.renderOutput(dataTable, element);\n",
              "          const docLink = document.createElement('div');\n",
              "          docLink.innerHTML = docLinkHtml;\n",
              "          element.appendChild(docLink);\n",
              "        }\n",
              "      </script>\n",
              "    </div>\n",
              "  </div>\n",
              "  "
            ]
          },
          "metadata": {},
          "execution_count": 36
        }
      ]
    },
    {
      "cell_type": "code",
      "source": [
        "train_scaled.head()"
      ],
      "metadata": {
        "colab": {
          "base_uri": "https://localhost:8080/",
          "height": 299
        },
        "id": "Xc8UJAq03E36",
        "outputId": "2e17d464-e6ed-4ea0-dfb1-12a8940e3803"
      },
      "execution_count": 38,
      "outputs": [
        {
          "output_type": "execute_result",
          "data": {
            "text/plain": [
              "                                                  id  categoryA  categoryB  \\\n",
              "0  a563699ca2a601c6ac64aa29986a00a90fb42b48741695...          1          0   \n",
              "1  91ab3eb3bcf6c8c1c5fe2da9ba671aa5a48c7369d9a50f...          1          0   \n",
              "2  7128c51c554735d6c81862684ad6005ae12d2edbcd4644...         57          0   \n",
              "3  c8144b52e4f63014de0a0d8e1c629bf0b05cb2696cfc23...          0          0   \n",
              "4  88d15a5b2df6692f23d105ff1ae82ae026be00c9271eef...         97          0   \n",
              "\n",
              "   categoryC  categoryD  categoryE  categoryF  featureA  featureB  featureC  \\\n",
              "0       2578          0          0          0 -0.278170 -0.021516 -0.481773   \n",
              "1        343          0          0          0 -0.278170 -0.021516 -0.481773   \n",
              "2        343          0          0          0 -0.278170 -0.021516 -0.481773   \n",
              "3       2817          0          0          0 -0.278170 -0.021516 -0.481773   \n",
              "4        361          0         11          0 -1.069068 -0.051243  2.257233   \n",
              "\n",
              "   ...  compositionC  compositionD  compositionE  compositionF  compositionG  \\\n",
              "0  ...      0.368783      -0.34825     -0.003435     -0.162668     -0.682772   \n",
              "1  ...      0.368783      -0.34825     -0.003435     -0.162668     -0.682772   \n",
              "2  ...      0.368783      -0.34825     -0.003435     -0.162668     -0.682772   \n",
              "3  ...      0.368783      -0.34825     -0.003435     -0.162668     -0.682772   \n",
              "4  ...     -1.496523      -0.34825      1.528407     -0.162668     -0.008201   \n",
              "\n",
              "   compositionH  compositionI  compositionJ  unit    result  \n",
              "0     -0.455706     -0.189650      0.258149    15  0.000458  \n",
              "1     -0.455706     -0.189650      0.258149    15  0.000335  \n",
              "2     -0.455706     -0.189650      0.258149    13  0.054072  \n",
              "3     -0.455706     -0.189650      0.258149    14  0.061143  \n",
              "4     -0.455706     -1.102459     -0.962522     7  0.015439  \n",
              "\n",
              "[5 rows x 28 columns]"
            ],
            "text/html": [
              "\n",
              "  <div id=\"df-937c5b69-7c19-489f-a4d9-6641f9a4e2f0\">\n",
              "    <div class=\"colab-df-container\">\n",
              "      <div>\n",
              "<style scoped>\n",
              "    .dataframe tbody tr th:only-of-type {\n",
              "        vertical-align: middle;\n",
              "    }\n",
              "\n",
              "    .dataframe tbody tr th {\n",
              "        vertical-align: top;\n",
              "    }\n",
              "\n",
              "    .dataframe thead th {\n",
              "        text-align: right;\n",
              "    }\n",
              "</style>\n",
              "<table border=\"1\" class=\"dataframe\">\n",
              "  <thead>\n",
              "    <tr style=\"text-align: right;\">\n",
              "      <th></th>\n",
              "      <th>id</th>\n",
              "      <th>categoryA</th>\n",
              "      <th>categoryB</th>\n",
              "      <th>categoryC</th>\n",
              "      <th>categoryD</th>\n",
              "      <th>categoryE</th>\n",
              "      <th>categoryF</th>\n",
              "      <th>featureA</th>\n",
              "      <th>featureB</th>\n",
              "      <th>featureC</th>\n",
              "      <th>...</th>\n",
              "      <th>compositionC</th>\n",
              "      <th>compositionD</th>\n",
              "      <th>compositionE</th>\n",
              "      <th>compositionF</th>\n",
              "      <th>compositionG</th>\n",
              "      <th>compositionH</th>\n",
              "      <th>compositionI</th>\n",
              "      <th>compositionJ</th>\n",
              "      <th>unit</th>\n",
              "      <th>result</th>\n",
              "    </tr>\n",
              "  </thead>\n",
              "  <tbody>\n",
              "    <tr>\n",
              "      <th>0</th>\n",
              "      <td>a563699ca2a601c6ac64aa29986a00a90fb42b48741695...</td>\n",
              "      <td>1</td>\n",
              "      <td>0</td>\n",
              "      <td>2578</td>\n",
              "      <td>0</td>\n",
              "      <td>0</td>\n",
              "      <td>0</td>\n",
              "      <td>-0.278170</td>\n",
              "      <td>-0.021516</td>\n",
              "      <td>-0.481773</td>\n",
              "      <td>...</td>\n",
              "      <td>0.368783</td>\n",
              "      <td>-0.34825</td>\n",
              "      <td>-0.003435</td>\n",
              "      <td>-0.162668</td>\n",
              "      <td>-0.682772</td>\n",
              "      <td>-0.455706</td>\n",
              "      <td>-0.189650</td>\n",
              "      <td>0.258149</td>\n",
              "      <td>15</td>\n",
              "      <td>0.000458</td>\n",
              "    </tr>\n",
              "    <tr>\n",
              "      <th>1</th>\n",
              "      <td>91ab3eb3bcf6c8c1c5fe2da9ba671aa5a48c7369d9a50f...</td>\n",
              "      <td>1</td>\n",
              "      <td>0</td>\n",
              "      <td>343</td>\n",
              "      <td>0</td>\n",
              "      <td>0</td>\n",
              "      <td>0</td>\n",
              "      <td>-0.278170</td>\n",
              "      <td>-0.021516</td>\n",
              "      <td>-0.481773</td>\n",
              "      <td>...</td>\n",
              "      <td>0.368783</td>\n",
              "      <td>-0.34825</td>\n",
              "      <td>-0.003435</td>\n",
              "      <td>-0.162668</td>\n",
              "      <td>-0.682772</td>\n",
              "      <td>-0.455706</td>\n",
              "      <td>-0.189650</td>\n",
              "      <td>0.258149</td>\n",
              "      <td>15</td>\n",
              "      <td>0.000335</td>\n",
              "    </tr>\n",
              "    <tr>\n",
              "      <th>2</th>\n",
              "      <td>7128c51c554735d6c81862684ad6005ae12d2edbcd4644...</td>\n",
              "      <td>57</td>\n",
              "      <td>0</td>\n",
              "      <td>343</td>\n",
              "      <td>0</td>\n",
              "      <td>0</td>\n",
              "      <td>0</td>\n",
              "      <td>-0.278170</td>\n",
              "      <td>-0.021516</td>\n",
              "      <td>-0.481773</td>\n",
              "      <td>...</td>\n",
              "      <td>0.368783</td>\n",
              "      <td>-0.34825</td>\n",
              "      <td>-0.003435</td>\n",
              "      <td>-0.162668</td>\n",
              "      <td>-0.682772</td>\n",
              "      <td>-0.455706</td>\n",
              "      <td>-0.189650</td>\n",
              "      <td>0.258149</td>\n",
              "      <td>13</td>\n",
              "      <td>0.054072</td>\n",
              "    </tr>\n",
              "    <tr>\n",
              "      <th>3</th>\n",
              "      <td>c8144b52e4f63014de0a0d8e1c629bf0b05cb2696cfc23...</td>\n",
              "      <td>0</td>\n",
              "      <td>0</td>\n",
              "      <td>2817</td>\n",
              "      <td>0</td>\n",
              "      <td>0</td>\n",
              "      <td>0</td>\n",
              "      <td>-0.278170</td>\n",
              "      <td>-0.021516</td>\n",
              "      <td>-0.481773</td>\n",
              "      <td>...</td>\n",
              "      <td>0.368783</td>\n",
              "      <td>-0.34825</td>\n",
              "      <td>-0.003435</td>\n",
              "      <td>-0.162668</td>\n",
              "      <td>-0.682772</td>\n",
              "      <td>-0.455706</td>\n",
              "      <td>-0.189650</td>\n",
              "      <td>0.258149</td>\n",
              "      <td>14</td>\n",
              "      <td>0.061143</td>\n",
              "    </tr>\n",
              "    <tr>\n",
              "      <th>4</th>\n",
              "      <td>88d15a5b2df6692f23d105ff1ae82ae026be00c9271eef...</td>\n",
              "      <td>97</td>\n",
              "      <td>0</td>\n",
              "      <td>361</td>\n",
              "      <td>0</td>\n",
              "      <td>11</td>\n",
              "      <td>0</td>\n",
              "      <td>-1.069068</td>\n",
              "      <td>-0.051243</td>\n",
              "      <td>2.257233</td>\n",
              "      <td>...</td>\n",
              "      <td>-1.496523</td>\n",
              "      <td>-0.34825</td>\n",
              "      <td>1.528407</td>\n",
              "      <td>-0.162668</td>\n",
              "      <td>-0.008201</td>\n",
              "      <td>-0.455706</td>\n",
              "      <td>-1.102459</td>\n",
              "      <td>-0.962522</td>\n",
              "      <td>7</td>\n",
              "      <td>0.015439</td>\n",
              "    </tr>\n",
              "  </tbody>\n",
              "</table>\n",
              "<p>5 rows × 28 columns</p>\n",
              "</div>\n",
              "      <button class=\"colab-df-convert\" onclick=\"convertToInteractive('df-937c5b69-7c19-489f-a4d9-6641f9a4e2f0')\"\n",
              "              title=\"Convert this dataframe to an interactive table.\"\n",
              "              style=\"display:none;\">\n",
              "        \n",
              "  <svg xmlns=\"http://www.w3.org/2000/svg\" height=\"24px\"viewBox=\"0 0 24 24\"\n",
              "       width=\"24px\">\n",
              "    <path d=\"M0 0h24v24H0V0z\" fill=\"none\"/>\n",
              "    <path d=\"M18.56 5.44l.94 2.06.94-2.06 2.06-.94-2.06-.94-.94-2.06-.94 2.06-2.06.94zm-11 1L8.5 8.5l.94-2.06 2.06-.94-2.06-.94L8.5 2.5l-.94 2.06-2.06.94zm10 10l.94 2.06.94-2.06 2.06-.94-2.06-.94-.94-2.06-.94 2.06-2.06.94z\"/><path d=\"M17.41 7.96l-1.37-1.37c-.4-.4-.92-.59-1.43-.59-.52 0-1.04.2-1.43.59L10.3 9.45l-7.72 7.72c-.78.78-.78 2.05 0 2.83L4 21.41c.39.39.9.59 1.41.59.51 0 1.02-.2 1.41-.59l7.78-7.78 2.81-2.81c.8-.78.8-2.07 0-2.86zM5.41 20L4 18.59l7.72-7.72 1.47 1.35L5.41 20z\"/>\n",
              "  </svg>\n",
              "      </button>\n",
              "      \n",
              "  <style>\n",
              "    .colab-df-container {\n",
              "      display:flex;\n",
              "      flex-wrap:wrap;\n",
              "      gap: 12px;\n",
              "    }\n",
              "\n",
              "    .colab-df-convert {\n",
              "      background-color: #E8F0FE;\n",
              "      border: none;\n",
              "      border-radius: 50%;\n",
              "      cursor: pointer;\n",
              "      display: none;\n",
              "      fill: #1967D2;\n",
              "      height: 32px;\n",
              "      padding: 0 0 0 0;\n",
              "      width: 32px;\n",
              "    }\n",
              "\n",
              "    .colab-df-convert:hover {\n",
              "      background-color: #E2EBFA;\n",
              "      box-shadow: 0px 1px 2px rgba(60, 64, 67, 0.3), 0px 1px 3px 1px rgba(60, 64, 67, 0.15);\n",
              "      fill: #174EA6;\n",
              "    }\n",
              "\n",
              "    [theme=dark] .colab-df-convert {\n",
              "      background-color: #3B4455;\n",
              "      fill: #D2E3FC;\n",
              "    }\n",
              "\n",
              "    [theme=dark] .colab-df-convert:hover {\n",
              "      background-color: #434B5C;\n",
              "      box-shadow: 0px 1px 3px 1px rgba(0, 0, 0, 0.15);\n",
              "      filter: drop-shadow(0px 1px 2px rgba(0, 0, 0, 0.3));\n",
              "      fill: #FFFFFF;\n",
              "    }\n",
              "  </style>\n",
              "\n",
              "      <script>\n",
              "        const buttonEl =\n",
              "          document.querySelector('#df-937c5b69-7c19-489f-a4d9-6641f9a4e2f0 button.colab-df-convert');\n",
              "        buttonEl.style.display =\n",
              "          google.colab.kernel.accessAllowed ? 'block' : 'none';\n",
              "\n",
              "        async function convertToInteractive(key) {\n",
              "          const element = document.querySelector('#df-937c5b69-7c19-489f-a4d9-6641f9a4e2f0');\n",
              "          const dataTable =\n",
              "            await google.colab.kernel.invokeFunction('convertToInteractive',\n",
              "                                                     [key], {});\n",
              "          if (!dataTable) return;\n",
              "\n",
              "          const docLinkHtml = 'Like what you see? Visit the ' +\n",
              "            '<a target=\"_blank\" href=https://colab.research.google.com/notebooks/data_table.ipynb>data table notebook</a>'\n",
              "            + ' to learn more about interactive tables.';\n",
              "          element.innerHTML = '';\n",
              "          dataTable['output_type'] = 'display_data';\n",
              "          await google.colab.output.renderOutput(dataTable, element);\n",
              "          const docLink = document.createElement('div');\n",
              "          docLink.innerHTML = docLinkHtml;\n",
              "          element.appendChild(docLink);\n",
              "        }\n",
              "      </script>\n",
              "    </div>\n",
              "  </div>\n",
              "  "
            ]
          },
          "metadata": {},
          "execution_count": 38
        }
      ]
    },
    {
      "cell_type": "code",
      "source": [
        "train_scaled = train_scaled.drop('id',1)"
      ],
      "metadata": {
        "colab": {
          "base_uri": "https://localhost:8080/"
        },
        "id": "jOzdv-G6x8I9",
        "outputId": "568daf55-9522-4484-b465-b135fa152754"
      },
      "execution_count": 39,
      "outputs": [
        {
          "output_type": "stream",
          "name": "stderr",
          "text": [
            "<ipython-input-39-c6a6168265d4>:1: FutureWarning: In a future version of pandas all arguments of DataFrame.drop except for the argument 'labels' will be keyword-only\n",
            "  train_scaled = train_scaled.drop('id',1)\n"
          ]
        }
      ]
    },
    {
      "cell_type": "code",
      "source": [
        "test_scaled = test_scaled.drop('id',1)"
      ],
      "metadata": {
        "colab": {
          "base_uri": "https://localhost:8080/"
        },
        "id": "rpscE0rvyE9X",
        "outputId": "95275f61-e307-451c-f29b-7847c5c69889"
      },
      "execution_count": 40,
      "outputs": [
        {
          "output_type": "stream",
          "name": "stderr",
          "text": [
            "<ipython-input-40-b360d5d30b9a>:1: FutureWarning: In a future version of pandas all arguments of DataFrame.drop except for the argument 'labels' will be keyword-only\n",
            "  test_scaled = test_scaled.drop('id',1)\n"
          ]
        }
      ]
    },
    {
      "cell_type": "code",
      "source": [
        "train_scaled = train_scaled.dropna()\n",
        "test_scaled = test_scaled.dropna()"
      ],
      "metadata": {
        "id": "CeyqdPPgyXg4"
      },
      "execution_count": 41,
      "outputs": []
    },
    {
      "cell_type": "code",
      "source": [
        "train_scaled.isna().any()"
      ],
      "metadata": {
        "colab": {
          "base_uri": "https://localhost:8080/"
        },
        "id": "MKbhfRwtyxIg",
        "outputId": "f580226f-821f-4efe-a01e-043554f4d192"
      },
      "execution_count": 42,
      "outputs": [
        {
          "output_type": "execute_result",
          "data": {
            "text/plain": [
              "categoryA       False\n",
              "categoryB       False\n",
              "categoryC       False\n",
              "categoryD       False\n",
              "categoryE       False\n",
              "categoryF       False\n",
              "featureA        False\n",
              "featureB        False\n",
              "featureC        False\n",
              "featureD        False\n",
              "featureE        False\n",
              "featureF        False\n",
              "featureG        False\n",
              "featureH        False\n",
              "featureI        False\n",
              "compositionA    False\n",
              "compositionB    False\n",
              "compositionC    False\n",
              "compositionD    False\n",
              "compositionE    False\n",
              "compositionF    False\n",
              "compositionG    False\n",
              "compositionH    False\n",
              "compositionI    False\n",
              "compositionJ    False\n",
              "unit            False\n",
              "result          False\n",
              "dtype: bool"
            ]
          },
          "metadata": {},
          "execution_count": 42
        }
      ]
    },
    {
      "cell_type": "code",
      "source": [
        "train_scaled.result.mean()"
      ],
      "metadata": {
        "colab": {
          "base_uri": "https://localhost:8080/"
        },
        "id": "pQl3h43k7mhH",
        "outputId": "c604b39a-db33-404d-fcb6-bd210345fbf7"
      },
      "execution_count": 43,
      "outputs": [
        {
          "output_type": "execute_result",
          "data": {
            "text/plain": [
              "0.14413740216591764"
            ]
          },
          "metadata": {},
          "execution_count": 43
        }
      ]
    },
    {
      "cell_type": "code",
      "source": [
        "train_scaled.result.median()"
      ],
      "metadata": {
        "colab": {
          "base_uri": "https://localhost:8080/"
        },
        "id": "QL1tfOPf7tM0",
        "outputId": "d72527ba-2150-4044-d863-7f7e795a4732"
      },
      "execution_count": 44,
      "outputs": [
        {
          "output_type": "execute_result",
          "data": {
            "text/plain": [
              "0.02795211758466545"
            ]
          },
          "metadata": {},
          "execution_count": 44
        }
      ]
    },
    {
      "cell_type": "markdown",
      "source": [
        "Построение модели"
      ],
      "metadata": {
        "id": "HIXxaC9yhY2J"
      }
    },
    {
      "cell_type": "code",
      "source": [
        "from sklearn.model_selection import train_test_split\n",
        "from sklearn.ensemble import RandomForestRegressor\n",
        "from sklearn import linear_model\n",
        "from sklearn import svm\n",
        "from sklearn.ensemble import GradientBoostingRegressor\n",
        "from sklearn.model_selection import cross_validate\n",
        "from sklearn.metrics import r2_score"
      ],
      "metadata": {
        "id": "KjMkhlORxDQL"
      },
      "execution_count": 66,
      "outputs": []
    },
    {
      "cell_type": "code",
      "source": [
        "X = train_scaled.drop('result',axis=1)\n",
        "y = train_scaled.result"
      ],
      "metadata": {
        "id": "flXcJL9wwTaq"
      },
      "execution_count": 47,
      "outputs": []
    },
    {
      "cell_type": "code",
      "source": [
        "X_train, X_test, y_train, y_test = train_test_split(\n",
        "    X, y, test_size=0.33, random_state=42)"
      ],
      "metadata": {
        "id": "-8-1Bf-mxWvj"
      },
      "execution_count": 48,
      "outputs": []
    },
    {
      "cell_type": "code",
      "source": [
        "clf = linear_model.Lasso(alpha=0.1)\n",
        "clf.fit(X_train, y_train)\n",
        "y_pred = clf.predict(X_test)\n",
        "r2_score(y_test,y_pred)"
      ],
      "metadata": {
        "colab": {
          "base_uri": "https://localhost:8080/"
        },
        "id": "Z9i0X1Z5x4Ec",
        "outputId": "10b3326c-1b1f-4851-d7ad-726e854bd4f0"
      },
      "execution_count": 69,
      "outputs": [
        {
          "output_type": "execute_result",
          "data": {
            "text/plain": [
              "0.2212622935745956"
            ]
          },
          "metadata": {},
          "execution_count": 69
        }
      ]
    },
    {
      "cell_type": "code",
      "source": [
        "clf.get_params()"
      ],
      "metadata": {
        "colab": {
          "base_uri": "https://localhost:8080/"
        },
        "id": "tVAhNklN7meh",
        "outputId": "7e3aac15-7e74-4c55-9f59-fcdd8d697d42"
      },
      "execution_count": 65,
      "outputs": [
        {
          "output_type": "execute_result",
          "data": {
            "text/plain": [
              "{'alpha': 0.1,\n",
              " 'copy_X': True,\n",
              " 'fit_intercept': True,\n",
              " 'max_iter': 1000,\n",
              " 'normalize': 'deprecated',\n",
              " 'positive': False,\n",
              " 'precompute': False,\n",
              " 'random_state': None,\n",
              " 'selection': 'cyclic',\n",
              " 'tol': 0.0001,\n",
              " 'warm_start': False}"
            ]
          },
          "metadata": {},
          "execution_count": 65
        }
      ]
    },
    {
      "cell_type": "code",
      "source": [
        "clf.score(X_test,y_test)"
      ],
      "metadata": {
        "colab": {
          "base_uri": "https://localhost:8080/"
        },
        "id": "x6B5Rxwt1ECn",
        "outputId": "42cb770e-637f-4cff-cc24-9a64dc385447"
      },
      "execution_count": 50,
      "outputs": [
        {
          "output_type": "execute_result",
          "data": {
            "text/plain": [
              "0.2212622935745956"
            ]
          },
          "metadata": {},
          "execution_count": 50
        }
      ]
    },
    {
      "cell_type": "markdown",
      "source": [
        "Малое значение lasso - не отслеживается прямая зависимость между переменными\n",
        "\n",
        "Для оценки моделей используется коэффициент детерминации, т. к. результат для оценки моделей легче интерпритировать "
      ],
      "metadata": {
        "id": "XtdI0EqA1Xzl"
      }
    },
    {
      "cell_type": "code",
      "source": [],
      "metadata": {
        "id": "XTTMQERg1EIg"
      },
      "execution_count": null,
      "outputs": []
    },
    {
      "cell_type": "code",
      "source": [
        "regr = RandomForestRegressor()\n",
        "regr.fit(X_train, y_train)"
      ],
      "metadata": {
        "colab": {
          "base_uri": "https://localhost:8080/"
        },
        "id": "WlGuuNVahZ5K",
        "outputId": "79c2b9a0-14a2-4469-a467-8afe64970948"
      },
      "execution_count": 53,
      "outputs": [
        {
          "output_type": "execute_result",
          "data": {
            "text/plain": [
              "RandomForestRegressor()"
            ]
          },
          "metadata": {},
          "execution_count": 53
        }
      ]
    },
    {
      "cell_type": "code",
      "source": [
        "y_pred = regr.predict(X_test)"
      ],
      "metadata": {
        "id": "-djtqt3fhaUy"
      },
      "execution_count": 54,
      "outputs": []
    },
    {
      "cell_type": "code",
      "source": [
        "r2_score(y_test,y_pred)"
      ],
      "metadata": {
        "colab": {
          "base_uri": "https://localhost:8080/"
        },
        "id": "UbqrMla0haYO",
        "outputId": "cd36ead7-3bb3-42a1-846f-dce6b6b9265a"
      },
      "execution_count": 55,
      "outputs": [
        {
          "output_type": "execute_result",
          "data": {
            "text/plain": [
              "0.8463474744481526"
            ]
          },
          "metadata": {},
          "execution_count": 55
        }
      ]
    },
    {
      "cell_type": "code",
      "source": [
        "regr.get_params()"
      ],
      "metadata": {
        "colab": {
          "base_uri": "https://localhost:8080/"
        },
        "id": "zdBWjVL5hb6y",
        "outputId": "c7e85147-aaf2-4fa2-b09c-33cdb3c7cc35"
      },
      "execution_count": 56,
      "outputs": [
        {
          "output_type": "execute_result",
          "data": {
            "text/plain": [
              "{'bootstrap': True,\n",
              " 'ccp_alpha': 0.0,\n",
              " 'criterion': 'squared_error',\n",
              " 'max_depth': None,\n",
              " 'max_features': 'auto',\n",
              " 'max_leaf_nodes': None,\n",
              " 'max_samples': None,\n",
              " 'min_impurity_decrease': 0.0,\n",
              " 'min_samples_leaf': 1,\n",
              " 'min_samples_split': 2,\n",
              " 'min_weight_fraction_leaf': 0.0,\n",
              " 'n_estimators': 100,\n",
              " 'n_jobs': None,\n",
              " 'oob_score': False,\n",
              " 'random_state': None,\n",
              " 'verbose': 0,\n",
              " 'warm_start': False}"
            ]
          },
          "metadata": {},
          "execution_count": 56
        }
      ]
    },
    {
      "cell_type": "code",
      "source": [
        "print(\"y_pred.mean \",y_pred.mean())\n",
        "print(\"y_true.mean \",y_test.mean())"
      ],
      "metadata": {
        "colab": {
          "base_uri": "https://localhost:8080/"
        },
        "id": "N9yNesDH3oX1",
        "outputId": "7ad4b31b-b6ee-4ea5-cdbc-adf2ba9e91ab"
      },
      "execution_count": 61,
      "outputs": [
        {
          "output_type": "stream",
          "name": "stdout",
          "text": [
            "y_pred.mean  0.14405747404377428\n",
            "y_true.mean  0.14544208275228168\n"
          ]
        }
      ]
    },
    {
      "cell_type": "code",
      "source": [
        "model = GradientBoostingRegressor(random_state=42).fit(X_train, y_train)"
      ],
      "metadata": {
        "id": "lcdiuMZQ0UTV"
      },
      "execution_count": 57,
      "outputs": []
    },
    {
      "cell_type": "code",
      "source": [],
      "metadata": {
        "id": "fmmwBenRJHZc"
      },
      "execution_count": 73,
      "outputs": []
    },
    {
      "cell_type": "code",
      "source": [
        "print(model.score(X_train, y_train))\n",
        "print(model.score(X_test, y_test))"
      ],
      "metadata": {
        "colab": {
          "base_uri": "https://localhost:8080/"
        },
        "id": "9cQ2SGkN3h8v",
        "outputId": "9849b4a7-a847-4be9-f67d-11b55349246c"
      },
      "execution_count": 58,
      "outputs": [
        {
          "output_type": "stream",
          "name": "stdout",
          "text": [
            "0.8543584345123609\n",
            "0.8571259919677024\n"
          ]
        }
      ]
    },
    {
      "cell_type": "code",
      "source": [
        "y_pred = model.predict(X_test)\n",
        "r2_score(y_test,y_pred)"
      ],
      "metadata": {
        "colab": {
          "base_uri": "https://localhost:8080/"
        },
        "id": "-BUcS8lj3y1z",
        "outputId": "cbda06db-5ac4-4556-eabc-20da82d0266c"
      },
      "execution_count": 59,
      "outputs": [
        {
          "output_type": "execute_result",
          "data": {
            "text/plain": [
              "0.8571259919677024"
            ]
          },
          "metadata": {},
          "execution_count": 59
        }
      ]
    },
    {
      "cell_type": "code",
      "source": [
        "print(\"y_pred.mean \",y_pred.mean())\n",
        "print(\"y_true.mean \",y_test.mean())"
      ],
      "metadata": {
        "colab": {
          "base_uri": "https://localhost:8080/"
        },
        "id": "y3CqnAlp30ah",
        "outputId": "422eeddd-9fcb-4516-b332-1b4415c97c45"
      },
      "execution_count": 62,
      "outputs": [
        {
          "output_type": "stream",
          "name": "stdout",
          "text": [
            "y_pred.mean  0.14405747404377428\n",
            "y_true.mean  0.14544208275228168\n"
          ]
        }
      ]
    },
    {
      "cell_type": "markdown",
      "source": [
        "Подбор параметров "
      ],
      "metadata": {
        "id": "FJgpUlpS33PY"
      }
    },
    {
      "cell_type": "code",
      "source": [
        "!pip install optuna > None"
      ],
      "metadata": {
        "id": "T2ysvee63_BJ"
      },
      "execution_count": 70,
      "outputs": []
    },
    {
      "cell_type": "code",
      "source": [
        "import optuna\n",
        "from sklearn.model_selection import cross_val_score"
      ],
      "metadata": {
        "id": "XTaavJYg3_KK"
      },
      "execution_count": 71,
      "outputs": []
    },
    {
      "cell_type": "code",
      "source": [
        "def objective(trial):\n",
        "    classifier_name = trial.suggest_categorical(\"regression\", [\"RandomForestRegressor\", \"GradientBoostingRegressor\"])\n",
        "    if classifier_name == \"RandomForestRegressor\":\n",
        "        rf_max_depth = trial.suggest_int(\"rf_max_depth\", 2, 32, log=True)\n",
        "        classifier_obj = RandomForestRegressor(max_depth=rf_max_depth, n_estimators=10)\n",
        "    else:\n",
        "        gb_n_estimators = trial.suggest_int(\"n_estimators\", 80, 150, log=True)\n",
        "        classifier_obj = GradientBoostingRegressor(n_estimators=gb_n_estimators)\n",
        "\n",
        "    score = cross_val_score(classifier_obj, X, y, n_jobs=-1, cv=5)\n",
        "    accuracy = score.mean()\n",
        "    return accuracy"
      ],
      "metadata": {
        "id": "p5ACIlir9Akr"
      },
      "execution_count": 81,
      "outputs": []
    },
    {
      "cell_type": "code",
      "source": [
        "study = optuna.create_study(direction=\"maximize\") \n",
        "study.optimize(objective, n_trials=100)"
      ],
      "metadata": {
        "colab": {
          "base_uri": "https://localhost:8080/"
        },
        "id": "F9PlzbKz9AnE",
        "outputId": "502cf0ed-a229-483e-e0d3-0c2977ced682"
      },
      "execution_count": 82,
      "outputs": [
        {
          "output_type": "stream",
          "name": "stderr",
          "text": [
            "\u001b[32m[I 2023-02-13 09:43:26,271]\u001b[0m A new study created in memory with name: no-name-ad974fc0-5eb2-4493-8016-b58b4826acc1\u001b[0m\n",
            "\u001b[32m[I 2023-02-13 09:43:28,262]\u001b[0m Trial 0 finished with value: 0.850694225807737 and parameters: {'regression': 'RandomForestRegressor', 'rf_max_depth': 11}. Best is trial 0 with value: 0.850694225807737.\u001b[0m\n",
            "\u001b[32m[I 2023-02-13 09:43:35,994]\u001b[0m Trial 1 finished with value: 0.8427807195727889 and parameters: {'regression': 'GradientBoostingRegressor', 'n_estimators': 94}. Best is trial 0 with value: 0.850694225807737.\u001b[0m\n",
            "\u001b[32m[I 2023-02-13 09:43:37,781]\u001b[0m Trial 2 finished with value: 0.8263446136659833 and parameters: {'regression': 'RandomForestRegressor', 'rf_max_depth': 26}. Best is trial 0 with value: 0.850694225807737.\u001b[0m\n",
            "\u001b[32m[I 2023-02-13 09:43:38,697]\u001b[0m Trial 3 finished with value: 0.8502822985158582 and parameters: {'regression': 'RandomForestRegressor', 'rf_max_depth': 7}. Best is trial 0 with value: 0.850694225807737.\u001b[0m\n",
            "\u001b[32m[I 2023-02-13 09:43:39,929]\u001b[0m Trial 4 finished with value: 0.8493004714293125 and parameters: {'regression': 'RandomForestRegressor', 'rf_max_depth': 11}. Best is trial 0 with value: 0.850694225807737.\u001b[0m\n",
            "\u001b[32m[I 2023-02-13 09:43:40,672]\u001b[0m Trial 5 finished with value: 0.8242547463937575 and parameters: {'regression': 'RandomForestRegressor', 'rf_max_depth': 5}. Best is trial 0 with value: 0.850694225807737.\u001b[0m\n",
            "\u001b[32m[I 2023-02-13 09:43:42,462]\u001b[0m Trial 6 finished with value: 0.8308226830820129 and parameters: {'regression': 'RandomForestRegressor', 'rf_max_depth': 22}. Best is trial 0 with value: 0.850694225807737.\u001b[0m\n",
            "\u001b[32m[I 2023-02-13 09:43:42,926]\u001b[0m Trial 7 finished with value: 0.6673038825949893 and parameters: {'regression': 'RandomForestRegressor', 'rf_max_depth': 2}. Best is trial 0 with value: 0.850694225807737.\u001b[0m\n",
            "\u001b[32m[I 2023-02-13 09:43:51,121]\u001b[0m Trial 8 finished with value: 0.8468587834900058 and parameters: {'regression': 'GradientBoostingRegressor', 'n_estimators': 121}. Best is trial 0 with value: 0.850694225807737.\u001b[0m\n",
            "\u001b[32m[I 2023-02-13 09:43:52,030]\u001b[0m Trial 9 finished with value: 0.8489377780751081 and parameters: {'regression': 'RandomForestRegressor', 'rf_max_depth': 7}. Best is trial 0 with value: 0.850694225807737.\u001b[0m\n",
            "\u001b[32m[I 2023-02-13 09:44:00,294]\u001b[0m Trial 10 finished with value: 0.8487600798912881 and parameters: {'regression': 'GradientBoostingRegressor', 'n_estimators': 150}. Best is trial 0 with value: 0.850694225807737.\u001b[0m\n",
            "\u001b[32m[I 2023-02-13 09:44:02,572]\u001b[0m Trial 11 finished with value: 0.8507579040672425 and parameters: {'regression': 'RandomForestRegressor', 'rf_max_depth': 11}. Best is trial 11 with value: 0.8507579040672425.\u001b[0m\n",
            "\u001b[32m[I 2023-02-13 09:44:04,125]\u001b[0m Trial 12 finished with value: 0.8430045794310214 and parameters: {'regression': 'RandomForestRegressor', 'rf_max_depth': 14}. Best is trial 11 with value: 0.8507579040672425.\u001b[0m\n",
            "\u001b[32m[I 2023-02-13 09:44:05,498]\u001b[0m Trial 13 finished with value: 0.8478511907286134 and parameters: {'regression': 'RandomForestRegressor', 'rf_max_depth': 13}. Best is trial 11 with value: 0.8507579040672425.\u001b[0m\n",
            "\u001b[32m[I 2023-02-13 09:44:07,188]\u001b[0m Trial 14 finished with value: 0.82678801565581 and parameters: {'regression': 'RandomForestRegressor', 'rf_max_depth': 21}. Best is trial 11 with value: 0.8507579040672425.\u001b[0m\n",
            "\u001b[32m[I 2023-02-13 09:44:11,246]\u001b[0m Trial 15 finished with value: 0.8407513271530028 and parameters: {'regression': 'GradientBoostingRegressor', 'n_estimators': 82}. Best is trial 11 with value: 0.8507579040672425.\u001b[0m\n",
            "\u001b[32m[I 2023-02-13 09:44:13,118]\u001b[0m Trial 16 finished with value: 0.825337121404934 and parameters: {'regression': 'RandomForestRegressor', 'rf_max_depth': 32}. Best is trial 11 with value: 0.8507579040672425.\u001b[0m\n",
            "\u001b[32m[I 2023-02-13 09:44:15,031]\u001b[0m Trial 17 finished with value: 0.854256754776543 and parameters: {'regression': 'RandomForestRegressor', 'rf_max_depth': 10}. Best is trial 17 with value: 0.854256754776543.\u001b[0m\n",
            "\u001b[32m[I 2023-02-13 09:44:21,836]\u001b[0m Trial 18 finished with value: 0.8457872918530247 and parameters: {'regression': 'GradientBoostingRegressor', 'n_estimators': 112}. Best is trial 17 with value: 0.854256754776543.\u001b[0m\n",
            "\u001b[32m[I 2023-02-13 09:44:22,573]\u001b[0m Trial 19 finished with value: 0.8266051961795207 and parameters: {'regression': 'RandomForestRegressor', 'rf_max_depth': 5}. Best is trial 17 with value: 0.854256754776543.\u001b[0m\n",
            "\u001b[32m[I 2023-02-13 09:44:24,131]\u001b[0m Trial 20 finished with value: 0.8378067568311458 and parameters: {'regression': 'RandomForestRegressor', 'rf_max_depth': 16}. Best is trial 17 with value: 0.854256754776543.\u001b[0m\n",
            "\u001b[32m[I 2023-02-13 09:44:25,302]\u001b[0m Trial 21 finished with value: 0.8515527282896567 and parameters: {'regression': 'RandomForestRegressor', 'rf_max_depth': 10}. Best is trial 17 with value: 0.854256754776543.\u001b[0m\n",
            "\u001b[32m[I 2023-02-13 09:44:26,446]\u001b[0m Trial 22 finished with value: 0.8504587204127437 and parameters: {'regression': 'RandomForestRegressor', 'rf_max_depth': 10}. Best is trial 17 with value: 0.854256754776543.\u001b[0m\n",
            "\u001b[32m[I 2023-02-13 09:44:27,519]\u001b[0m Trial 23 finished with value: 0.8494825610720277 and parameters: {'regression': 'RandomForestRegressor', 'rf_max_depth': 9}. Best is trial 17 with value: 0.854256754776543.\u001b[0m\n",
            "\u001b[32m[I 2023-02-13 09:44:29,868]\u001b[0m Trial 24 finished with value: 0.8364348375639624 and parameters: {'regression': 'RandomForestRegressor', 'rf_max_depth': 17}. Best is trial 17 with value: 0.854256754776543.\u001b[0m\n",
            "\u001b[32m[I 2023-02-13 09:44:31,525]\u001b[0m Trial 25 finished with value: 0.8531748483041028 and parameters: {'regression': 'RandomForestRegressor', 'rf_max_depth': 8}. Best is trial 17 with value: 0.854256754776543.\u001b[0m\n",
            "\u001b[32m[I 2023-02-13 09:44:36,211]\u001b[0m Trial 26 finished with value: 0.8402403616498008 and parameters: {'regression': 'GradientBoostingRegressor', 'n_estimators': 80}. Best is trial 17 with value: 0.854256754776543.\u001b[0m\n",
            "\u001b[32m[I 2023-02-13 09:44:37,198]\u001b[0m Trial 27 finished with value: 0.8549169923470392 and parameters: {'regression': 'RandomForestRegressor', 'rf_max_depth': 8}. Best is trial 27 with value: 0.8549169923470392.\u001b[0m\n",
            "\u001b[32m[I 2023-02-13 09:44:37,818]\u001b[0m Trial 28 finished with value: 0.8268459918284966 and parameters: {'regression': 'RandomForestRegressor', 'rf_max_depth': 5}. Best is trial 27 with value: 0.8549169923470392.\u001b[0m\n",
            "\u001b[32m[I 2023-02-13 09:44:38,474]\u001b[0m Trial 29 finished with value: 0.7982074086599404 and parameters: {'regression': 'RandomForestRegressor', 'rf_max_depth': 4}. Best is trial 27 with value: 0.8549169923470392.\u001b[0m\n",
            "\u001b[32m[I 2023-02-13 09:44:39,470]\u001b[0m Trial 30 finished with value: 0.8524422299756245 and parameters: {'regression': 'RandomForestRegressor', 'rf_max_depth': 8}. Best is trial 27 with value: 0.8549169923470392.\u001b[0m\n",
            "\u001b[32m[I 2023-02-13 09:44:40,385]\u001b[0m Trial 31 finished with value: 0.8475294323760639 and parameters: {'regression': 'RandomForestRegressor', 'rf_max_depth': 7}. Best is trial 27 with value: 0.8549169923470392.\u001b[0m\n",
            "\u001b[32m[I 2023-02-13 09:44:41,361]\u001b[0m Trial 32 finished with value: 0.8539231605108581 and parameters: {'regression': 'RandomForestRegressor', 'rf_max_depth': 8}. Best is trial 27 with value: 0.8549169923470392.\u001b[0m\n",
            "\u001b[32m[I 2023-02-13 09:44:42,327]\u001b[0m Trial 33 finished with value: 0.8528697621312249 and parameters: {'regression': 'RandomForestRegressor', 'rf_max_depth': 8}. Best is trial 27 with value: 0.8549169923470392.\u001b[0m\n",
            "\u001b[32m[I 2023-02-13 09:44:43,221]\u001b[0m Trial 34 finished with value: 0.8449009093510051 and parameters: {'regression': 'RandomForestRegressor', 'rf_max_depth': 6}. Best is trial 27 with value: 0.8549169923470392.\u001b[0m\n",
            "\u001b[32m[I 2023-02-13 09:44:44,983]\u001b[0m Trial 35 finished with value: 0.849134394230953 and parameters: {'regression': 'RandomForestRegressor', 'rf_max_depth': 9}. Best is trial 27 with value: 0.8549169923470392.\u001b[0m\n",
            "\u001b[32m[I 2023-02-13 09:44:53,706]\u001b[0m Trial 36 finished with value: 0.8488063749533131 and parameters: {'regression': 'GradientBoostingRegressor', 'n_estimators': 149}. Best is trial 27 with value: 0.8549169923470392.\u001b[0m\n",
            "\u001b[32m[I 2023-02-13 09:44:55,015]\u001b[0m Trial 37 finished with value: 0.8469158150252263 and parameters: {'regression': 'RandomForestRegressor', 'rf_max_depth': 12}. Best is trial 27 with value: 0.8549169923470392.\u001b[0m\n",
            "\u001b[32m[I 2023-02-13 09:44:56,452]\u001b[0m Trial 38 finished with value: 0.8424448280090475 and parameters: {'regression': 'RandomForestRegressor', 'rf_max_depth': 14}. Best is trial 27 with value: 0.8549169923470392.\u001b[0m\n",
            "\u001b[32m[I 2023-02-13 09:44:57,512]\u001b[0m Trial 39 finished with value: 0.8545446444057154 and parameters: {'regression': 'RandomForestRegressor', 'rf_max_depth': 9}. Best is trial 27 with value: 0.8549169923470392.\u001b[0m\n",
            "\u001b[32m[I 2023-02-13 09:44:58,966]\u001b[0m Trial 40 finished with value: 0.8446511913559187 and parameters: {'regression': 'RandomForestRegressor', 'rf_max_depth': 12}. Best is trial 27 with value: 0.8549169923470392.\u001b[0m\n",
            "\u001b[32m[I 2023-02-13 09:45:00,782]\u001b[0m Trial 41 finished with value: 0.8519815315226105 and parameters: {'regression': 'RandomForestRegressor', 'rf_max_depth': 9}. Best is trial 27 with value: 0.8549169923470392.\u001b[0m\n",
            "\u001b[32m[I 2023-02-13 09:45:02,536]\u001b[0m Trial 42 finished with value: 0.8537290168977218 and parameters: {'regression': 'RandomForestRegressor', 'rf_max_depth': 8}. Best is trial 27 with value: 0.8549169923470392.\u001b[0m\n",
            "\u001b[32m[I 2023-02-13 09:45:03,723]\u001b[0m Trial 43 finished with value: 0.8440425201171313 and parameters: {'regression': 'RandomForestRegressor', 'rf_max_depth': 6}. Best is trial 27 with value: 0.8549169923470392.\u001b[0m\n",
            "\u001b[32m[I 2023-02-13 09:45:04,882]\u001b[0m Trial 44 finished with value: 0.8492003737557745 and parameters: {'regression': 'RandomForestRegressor', 'rf_max_depth': 10}. Best is trial 27 with value: 0.8549169923470392.\u001b[0m\n",
            "\u001b[32m[I 2023-02-13 09:45:05,726]\u001b[0m Trial 45 finished with value: 0.8408355356024474 and parameters: {'regression': 'RandomForestRegressor', 'rf_max_depth': 6}. Best is trial 27 with value: 0.8549169923470392.\u001b[0m\n",
            "\u001b[32m[I 2023-02-13 09:45:10,687]\u001b[0m Trial 46 finished with value: 0.8435279243698748 and parameters: {'regression': 'GradientBoostingRegressor', 'n_estimators': 101}. Best is trial 27 with value: 0.8549169923470392.\u001b[0m\n",
            "\u001b[32m[I 2023-02-13 09:45:11,906]\u001b[0m Trial 47 finished with value: 0.8492565385401534 and parameters: {'regression': 'RandomForestRegressor', 'rf_max_depth': 11}. Best is trial 27 with value: 0.8549169923470392.\u001b[0m\n",
            "\u001b[32m[I 2023-02-13 09:45:12,806]\u001b[0m Trial 48 finished with value: 0.8494508780615366 and parameters: {'regression': 'RandomForestRegressor', 'rf_max_depth': 7}. Best is trial 27 with value: 0.8549169923470392.\u001b[0m\n",
            "\u001b[32m[I 2023-02-13 09:45:13,949]\u001b[0m Trial 49 finished with value: 0.8507631864781416 and parameters: {'regression': 'RandomForestRegressor', 'rf_max_depth': 8}. Best is trial 27 with value: 0.8549169923470392.\u001b[0m\n",
            "\u001b[32m[I 2023-02-13 09:45:21,885]\u001b[0m Trial 50 finished with value: 0.8469748825217316 and parameters: {'regression': 'GradientBoostingRegressor', 'n_estimators': 122}. Best is trial 27 with value: 0.8549169923470392.\u001b[0m\n",
            "\u001b[32m[I 2023-02-13 09:45:22,860]\u001b[0m Trial 51 finished with value: 0.8521772656486254 and parameters: {'regression': 'RandomForestRegressor', 'rf_max_depth': 8}. Best is trial 27 with value: 0.8549169923470392.\u001b[0m\n",
            "\u001b[32m[I 2023-02-13 09:45:23,904]\u001b[0m Trial 52 finished with value: 0.8530626596450613 and parameters: {'regression': 'RandomForestRegressor', 'rf_max_depth': 9}. Best is trial 27 with value: 0.8549169923470392.\u001b[0m\n",
            "\u001b[32m[I 2023-02-13 09:45:25,132]\u001b[0m Trial 53 finished with value: 0.846024892098028 and parameters: {'regression': 'RandomForestRegressor', 'rf_max_depth': 11}. Best is trial 27 with value: 0.8549169923470392.\u001b[0m\n",
            "\u001b[32m[I 2023-02-13 09:45:26,125]\u001b[0m Trial 54 finished with value: 0.8522877905934492 and parameters: {'regression': 'RandomForestRegressor', 'rf_max_depth': 8}. Best is trial 27 with value: 0.8549169923470392.\u001b[0m\n",
            "\u001b[32m[I 2023-02-13 09:45:26,991]\u001b[0m Trial 55 finished with value: 0.8432194861575194 and parameters: {'regression': 'RandomForestRegressor', 'rf_max_depth': 6}. Best is trial 27 with value: 0.8549169923470392.\u001b[0m\n",
            "\u001b[32m[I 2023-02-13 09:45:28,325]\u001b[0m Trial 56 finished with value: 0.845111910163093 and parameters: {'regression': 'RandomForestRegressor', 'rf_max_depth': 13}. Best is trial 27 with value: 0.8549169923470392.\u001b[0m\n",
            "\u001b[32m[I 2023-02-13 09:45:30,047]\u001b[0m Trial 57 finished with value: 0.8511413765724424 and parameters: {'regression': 'RandomForestRegressor', 'rf_max_depth': 10}. Best is trial 27 with value: 0.8549169923470392.\u001b[0m\n",
            "\u001b[32m[I 2023-02-13 09:45:31,468]\u001b[0m Trial 58 finished with value: 0.8487766005595301 and parameters: {'regression': 'RandomForestRegressor', 'rf_max_depth': 7}. Best is trial 27 with value: 0.8549169923470392.\u001b[0m\n",
            "\u001b[32m[I 2023-02-13 09:45:33,930]\u001b[0m Trial 59 finished with value: 0.8346277314413083 and parameters: {'regression': 'RandomForestRegressor', 'rf_max_depth': 16}. Best is trial 27 with value: 0.8549169923470392.\u001b[0m\n",
            "\u001b[32m[I 2023-02-13 09:45:38,495]\u001b[0m Trial 60 finished with value: 0.8422868620075095 and parameters: {'regression': 'GradientBoostingRegressor', 'n_estimators': 91}. Best is trial 27 with value: 0.8549169923470392.\u001b[0m\n",
            "\u001b[32m[I 2023-02-13 09:45:39,635]\u001b[0m Trial 61 finished with value: 0.852145077178357 and parameters: {'regression': 'RandomForestRegressor', 'rf_max_depth': 9}. Best is trial 27 with value: 0.8549169923470392.\u001b[0m\n",
            "\u001b[32m[I 2023-02-13 09:45:40,622]\u001b[0m Trial 62 finished with value: 0.8533303628208829 and parameters: {'regression': 'RandomForestRegressor', 'rf_max_depth': 9}. Best is trial 27 with value: 0.8549169923470392.\u001b[0m\n",
            "\u001b[32m[I 2023-02-13 09:45:41,789]\u001b[0m Trial 63 finished with value: 0.8505316927830975 and parameters: {'regression': 'RandomForestRegressor', 'rf_max_depth': 10}. Best is trial 27 with value: 0.8549169923470392.\u001b[0m\n",
            "\u001b[32m[I 2023-02-13 09:45:43,092]\u001b[0m Trial 64 finished with value: 0.8454913689567475 and parameters: {'regression': 'RandomForestRegressor', 'rf_max_depth': 12}. Best is trial 27 with value: 0.8549169923470392.\u001b[0m\n",
            "\u001b[32m[I 2023-02-13 09:45:44,069]\u001b[0m Trial 65 finished with value: 0.8443563695367267 and parameters: {'regression': 'RandomForestRegressor', 'rf_max_depth': 7}. Best is trial 27 with value: 0.8549169923470392.\u001b[0m\n",
            "\u001b[32m[I 2023-02-13 09:45:45,830]\u001b[0m Trial 66 finished with value: 0.853357712985898 and parameters: {'regression': 'RandomForestRegressor', 'rf_max_depth': 8}. Best is trial 27 with value: 0.8549169923470392.\u001b[0m\n",
            "\u001b[32m[I 2023-02-13 09:45:47,729]\u001b[0m Trial 67 finished with value: 0.848813984140332 and parameters: {'regression': 'RandomForestRegressor', 'rf_max_depth': 9}. Best is trial 27 with value: 0.8549169923470392.\u001b[0m\n",
            "\u001b[32m[I 2023-02-13 09:45:49,480]\u001b[0m Trial 68 finished with value: 0.8476597036737857 and parameters: {'regression': 'RandomForestRegressor', 'rf_max_depth': 11}. Best is trial 27 with value: 0.8549169923470392.\u001b[0m\n",
            "\u001b[32m[I 2023-02-13 09:45:50,358]\u001b[0m Trial 69 finished with value: 0.8498556026714998 and parameters: {'regression': 'RandomForestRegressor', 'rf_max_depth': 7}. Best is trial 27 with value: 0.8549169923470392.\u001b[0m\n",
            "\u001b[32m[I 2023-02-13 09:45:51,511]\u001b[0m Trial 70 finished with value: 0.8501566737419746 and parameters: {'regression': 'RandomForestRegressor', 'rf_max_depth': 10}. Best is trial 27 with value: 0.8549169923470392.\u001b[0m\n",
            "\u001b[32m[I 2023-02-13 09:45:52,520]\u001b[0m Trial 71 finished with value: 0.8530992151671075 and parameters: {'regression': 'RandomForestRegressor', 'rf_max_depth': 8}. Best is trial 27 with value: 0.8549169923470392.\u001b[0m\n",
            "\u001b[32m[I 2023-02-13 09:45:53,561]\u001b[0m Trial 72 finished with value: 0.8504285667693274 and parameters: {'regression': 'RandomForestRegressor', 'rf_max_depth': 8}. Best is trial 27 with value: 0.8549169923470392.\u001b[0m\n",
            "\u001b[32m[I 2023-02-13 09:45:54,653]\u001b[0m Trial 73 finished with value: 0.8527965347013634 and parameters: {'regression': 'RandomForestRegressor', 'rf_max_depth': 9}. Best is trial 27 with value: 0.8549169923470392.\u001b[0m\n",
            "\u001b[32m[I 2023-02-13 09:45:55,492]\u001b[0m Trial 74 finished with value: 0.8435973659790452 and parameters: {'regression': 'RandomForestRegressor', 'rf_max_depth': 6}. Best is trial 27 with value: 0.8549169923470392.\u001b[0m\n",
            "\u001b[32m[I 2023-02-13 09:45:56,494]\u001b[0m Trial 75 finished with value: 0.8551247434345217 and parameters: {'regression': 'RandomForestRegressor', 'rf_max_depth': 8}. Best is trial 75 with value: 0.8551247434345217.\u001b[0m\n",
            "\u001b[32m[I 2023-02-13 09:45:57,417]\u001b[0m Trial 76 finished with value: 0.8494830295074192 and parameters: {'regression': 'RandomForestRegressor', 'rf_max_depth': 7}. Best is trial 75 with value: 0.8551247434345217.\u001b[0m\n",
            "\u001b[32m[I 2023-02-13 09:46:06,413]\u001b[0m Trial 77 finished with value: 0.8478577942120131 and parameters: {'regression': 'GradientBoostingRegressor', 'n_estimators': 132}. Best is trial 75 with value: 0.8551247434345217.\u001b[0m\n",
            "\u001b[32m[I 2023-02-13 09:46:07,501]\u001b[0m Trial 78 finished with value: 0.8521527223574964 and parameters: {'regression': 'RandomForestRegressor', 'rf_max_depth': 9}. Best is trial 75 with value: 0.8551247434345217.\u001b[0m\n",
            "\u001b[32m[I 2023-02-13 09:46:08,629]\u001b[0m Trial 79 finished with value: 0.8471092484355198 and parameters: {'regression': 'RandomForestRegressor', 'rf_max_depth': 10}. Best is trial 75 with value: 0.8551247434345217.\u001b[0m\n",
            "\u001b[32m[I 2023-02-13 09:46:09,364]\u001b[0m Trial 80 finished with value: 0.825480762788561 and parameters: {'regression': 'RandomForestRegressor', 'rf_max_depth': 5}. Best is trial 75 with value: 0.8551247434345217.\u001b[0m\n",
            "\u001b[32m[I 2023-02-13 09:46:10,354]\u001b[0m Trial 81 finished with value: 0.856376444208023 and parameters: {'regression': 'RandomForestRegressor', 'rf_max_depth': 8}. Best is trial 81 with value: 0.856376444208023.\u001b[0m\n",
            "\u001b[32m[I 2023-02-13 09:46:11,362]\u001b[0m Trial 82 finished with value: 0.8544278650306156 and parameters: {'regression': 'RandomForestRegressor', 'rf_max_depth': 8}. Best is trial 81 with value: 0.856376444208023.\u001b[0m\n",
            "\u001b[32m[I 2023-02-13 09:46:12,357]\u001b[0m Trial 83 finished with value: 0.8553234402699351 and parameters: {'regression': 'RandomForestRegressor', 'rf_max_depth': 8}. Best is trial 81 with value: 0.856376444208023.\u001b[0m\n",
            "\u001b[32m[I 2023-02-13 09:46:13,262]\u001b[0m Trial 84 finished with value: 0.8529266233519632 and parameters: {'regression': 'RandomForestRegressor', 'rf_max_depth': 7}. Best is trial 81 with value: 0.856376444208023.\u001b[0m\n",
            "\u001b[32m[I 2023-02-13 09:46:14,744]\u001b[0m Trial 85 finished with value: 0.8489445118364864 and parameters: {'regression': 'RandomForestRegressor', 'rf_max_depth': 12}. Best is trial 81 with value: 0.856376444208023.\u001b[0m\n",
            "\u001b[32m[I 2023-02-13 09:46:16,447]\u001b[0m Trial 86 finished with value: 0.8495638025106962 and parameters: {'regression': 'RandomForestRegressor', 'rf_max_depth': 8}. Best is trial 81 with value: 0.856376444208023.\u001b[0m\n",
            "\u001b[32m[I 2023-02-13 09:46:18,410]\u001b[0m Trial 87 finished with value: 0.8515993001439093 and parameters: {'regression': 'RandomForestRegressor', 'rf_max_depth': 10}. Best is trial 81 with value: 0.856376444208023.\u001b[0m\n",
            "\u001b[32m[I 2023-02-13 09:46:19,391]\u001b[0m Trial 88 finished with value: 0.8426333490887747 and parameters: {'regression': 'RandomForestRegressor', 'rf_max_depth': 6}. Best is trial 81 with value: 0.856376444208023.\u001b[0m\n",
            "\u001b[32m[I 2023-02-13 09:46:24,383]\u001b[0m Trial 89 finished with value: 0.84367824003475 and parameters: {'regression': 'GradientBoostingRegressor', 'n_estimators': 103}. Best is trial 81 with value: 0.856376444208023.\u001b[0m\n",
            "\u001b[32m[I 2023-02-13 09:46:25,453]\u001b[0m Trial 90 finished with value: 0.8514640272630218 and parameters: {'regression': 'RandomForestRegressor', 'rf_max_depth': 9}. Best is trial 81 with value: 0.856376444208023.\u001b[0m\n",
            "\u001b[32m[I 2023-02-13 09:46:26,445]\u001b[0m Trial 91 finished with value: 0.8542943536028339 and parameters: {'regression': 'RandomForestRegressor', 'rf_max_depth': 8}. Best is trial 81 with value: 0.856376444208023.\u001b[0m\n",
            "\u001b[32m[I 2023-02-13 09:46:27,432]\u001b[0m Trial 92 finished with value: 0.8523496852329892 and parameters: {'regression': 'RandomForestRegressor', 'rf_max_depth': 8}. Best is trial 81 with value: 0.856376444208023.\u001b[0m\n",
            "\u001b[32m[I 2023-02-13 09:46:28,345]\u001b[0m Trial 93 finished with value: 0.850661753832985 and parameters: {'regression': 'RandomForestRegressor', 'rf_max_depth': 7}. Best is trial 81 with value: 0.856376444208023.\u001b[0m\n",
            "\u001b[32m[I 2023-02-13 09:46:29,976]\u001b[0m Trial 94 finished with value: 0.8504272095075802 and parameters: {'regression': 'RandomForestRegressor', 'rf_max_depth': 11}. Best is trial 81 with value: 0.856376444208023.\u001b[0m\n",
            "\u001b[32m[I 2023-02-13 09:46:31,670]\u001b[0m Trial 95 finished with value: 0.8500692977345228 and parameters: {'regression': 'RandomForestRegressor', 'rf_max_depth': 8}. Best is trial 81 with value: 0.856376444208023.\u001b[0m\n",
            "\u001b[32m[I 2023-02-13 09:46:33,611]\u001b[0m Trial 96 finished with value: 0.8535891960884759 and parameters: {'regression': 'RandomForestRegressor', 'rf_max_depth': 9}. Best is trial 81 with value: 0.856376444208023.\u001b[0m\n",
            "\u001b[32m[I 2023-02-13 09:46:34,819]\u001b[0m Trial 97 finished with value: 0.8504417154816158 and parameters: {'regression': 'RandomForestRegressor', 'rf_max_depth': 11}. Best is trial 81 with value: 0.856376444208023.\u001b[0m\n",
            "\u001b[32m[I 2023-02-13 09:46:35,949]\u001b[0m Trial 98 finished with value: 0.8494505964603775 and parameters: {'regression': 'RandomForestRegressor', 'rf_max_depth': 10}. Best is trial 81 with value: 0.856376444208023.\u001b[0m\n",
            "\u001b[32m[I 2023-02-13 09:46:36,852]\u001b[0m Trial 99 finished with value: 0.8491452493379368 and parameters: {'regression': 'RandomForestRegressor', 'rf_max_depth': 7}. Best is trial 81 with value: 0.856376444208023.\u001b[0m\n"
          ]
        }
      ]
    },
    {
      "cell_type": "code",
      "source": [
        "print(study.best_trial)"
      ],
      "metadata": {
        "colab": {
          "base_uri": "https://localhost:8080/"
        },
        "id": "tuWF5xK83_No",
        "outputId": "24b4c894-758a-43f8-8f69-df4d4261c042"
      },
      "execution_count": 83,
      "outputs": [
        {
          "output_type": "stream",
          "name": "stdout",
          "text": [
            "FrozenTrial(number=81, state=TrialState.COMPLETE, values=[0.856376444208023], datetime_start=datetime.datetime(2023, 2, 13, 9, 46, 9, 366716), datetime_complete=datetime.datetime(2023, 2, 13, 9, 46, 10, 354256), params={'regression': 'RandomForestRegressor', 'rf_max_depth': 8}, user_attrs={}, system_attrs={}, intermediate_values={}, distributions={'regression': CategoricalDistribution(choices=('RandomForestRegressor', 'GradientBoostingRegressor')), 'rf_max_depth': IntDistribution(high=32, log=True, low=2, step=1)}, trial_id=81, value=None)\n"
          ]
        }
      ]
    },
    {
      "cell_type": "code",
      "source": [
        "study.best_params"
      ],
      "metadata": {
        "colab": {
          "base_uri": "https://localhost:8080/"
        },
        "id": "ZsBaBCo6TNnx",
        "outputId": "9a980086-8a90-4026-fc96-397058265d8c"
      },
      "execution_count": 86,
      "outputs": [
        {
          "output_type": "execute_result",
          "data": {
            "text/plain": [
              "{'regression': 'RandomForestRegressor', 'rf_max_depth': 8}"
            ]
          },
          "metadata": {},
          "execution_count": 86
        }
      ]
    },
    {
      "cell_type": "markdown",
      "source": [
        "Лучшая модель оказалась - слуйчаный лес с максимальной глубиной = 8"
      ],
      "metadata": {
        "id": "MBtRDbFsRQfA"
      }
    },
    {
      "cell_type": "markdown",
      "source": [
        "Визуализация результата"
      ],
      "metadata": {
        "id": "tDSdrSeF3zZz"
      }
    },
    {
      "cell_type": "code",
      "source": [
        "from optuna.visualization import plot_optimization_history\n",
        "\n",
        "plot_optimization_history(study)"
      ],
      "metadata": {
        "colab": {
          "base_uri": "https://localhost:8080/",
          "height": 542
        },
        "id": "clesqf4OQzIl",
        "outputId": "ff6295dd-a892-4939-bbda-0f2d15058feb"
      },
      "execution_count": 84,
      "outputs": [
        {
          "output_type": "display_data",
          "data": {
            "text/html": [
              "<html>\n",
              "<head><meta charset=\"utf-8\" /></head>\n",
              "<body>\n",
              "    <div>            <script src=\"https://cdnjs.cloudflare.com/ajax/libs/mathjax/2.7.5/MathJax.js?config=TeX-AMS-MML_SVG\"></script><script type=\"text/javascript\">if (window.MathJax) {MathJax.Hub.Config({SVG: {font: \"STIX-Web\"}});}</script>                <script type=\"text/javascript\">window.PlotlyConfig = {MathJaxConfig: 'local'};</script>\n",
              "        <script src=\"https://cdn.plot.ly/plotly-2.8.3.min.js\"></script>                <div id=\"48b8102a-a331-477b-876b-b27f906db511\" class=\"plotly-graph-div\" style=\"height:525px; width:100%;\"></div>            <script type=\"text/javascript\">                                    window.PLOTLYENV=window.PLOTLYENV || {};                                    if (document.getElementById(\"48b8102a-a331-477b-876b-b27f906db511\")) {                    Plotly.newPlot(                        \"48b8102a-a331-477b-876b-b27f906db511\",                        [{\"mode\":\"markers\",\"name\":\"Objective Value\",\"x\":[0,1,2,3,4,5,6,7,8,9,10,11,12,13,14,15,16,17,18,19,20,21,22,23,24,25,26,27,28,29,30,31,32,33,34,35,36,37,38,39,40,41,42,43,44,45,46,47,48,49,50,51,52,53,54,55,56,57,58,59,60,61,62,63,64,65,66,67,68,69,70,71,72,73,74,75,76,77,78,79,80,81,82,83,84,85,86,87,88,89,90,91,92,93,94,95,96,97,98,99],\"y\":[0.850694225807737,0.8427807195727889,0.8263446136659833,0.8502822985158582,0.8493004714293125,0.8242547463937575,0.8308226830820129,0.6673038825949893,0.8468587834900058,0.8489377780751081,0.8487600798912881,0.8507579040672425,0.8430045794310214,0.8478511907286134,0.82678801565581,0.8407513271530028,0.825337121404934,0.854256754776543,0.8457872918530247,0.8266051961795207,0.8378067568311458,0.8515527282896567,0.8504587204127437,0.8494825610720277,0.8364348375639624,0.8531748483041028,0.8402403616498008,0.8549169923470392,0.8268459918284966,0.7982074086599404,0.8524422299756245,0.8475294323760639,0.8539231605108581,0.8528697621312249,0.8449009093510051,0.849134394230953,0.8488063749533131,0.8469158150252263,0.8424448280090475,0.8545446444057154,0.8446511913559187,0.8519815315226105,0.8537290168977218,0.8440425201171313,0.8492003737557745,0.8408355356024474,0.8435279243698748,0.8492565385401534,0.8494508780615366,0.8507631864781416,0.8469748825217316,0.8521772656486254,0.8530626596450613,0.846024892098028,0.8522877905934492,0.8432194861575194,0.845111910163093,0.8511413765724424,0.8487766005595301,0.8346277314413083,0.8422868620075095,0.852145077178357,0.8533303628208829,0.8505316927830975,0.8454913689567475,0.8443563695367267,0.853357712985898,0.848813984140332,0.8476597036737857,0.8498556026714998,0.8501566737419746,0.8530992151671075,0.8504285667693274,0.8527965347013634,0.8435973659790452,0.8551247434345217,0.8494830295074192,0.8478577942120131,0.8521527223574964,0.8471092484355198,0.825480762788561,0.856376444208023,0.8544278650306156,0.8553234402699351,0.8529266233519632,0.8489445118364864,0.8495638025106962,0.8515993001439093,0.8426333490887747,0.84367824003475,0.8514640272630218,0.8542943536028339,0.8523496852329892,0.850661753832985,0.8504272095075802,0.8500692977345228,0.8535891960884759,0.8504417154816158,0.8494505964603775,0.8491452493379368],\"type\":\"scatter\"},{\"name\":\"Best Value\",\"x\":[0,1,2,3,4,5,6,7,8,9,10,11,12,13,14,15,16,17,18,19,20,21,22,23,24,25,26,27,28,29,30,31,32,33,34,35,36,37,38,39,40,41,42,43,44,45,46,47,48,49,50,51,52,53,54,55,56,57,58,59,60,61,62,63,64,65,66,67,68,69,70,71,72,73,74,75,76,77,78,79,80,81,82,83,84,85,86,87,88,89,90,91,92,93,94,95,96,97,98,99],\"y\":[0.850694225807737,0.850694225807737,0.850694225807737,0.850694225807737,0.850694225807737,0.850694225807737,0.850694225807737,0.850694225807737,0.850694225807737,0.850694225807737,0.850694225807737,0.8507579040672425,0.8507579040672425,0.8507579040672425,0.8507579040672425,0.8507579040672425,0.8507579040672425,0.854256754776543,0.854256754776543,0.854256754776543,0.854256754776543,0.854256754776543,0.854256754776543,0.854256754776543,0.854256754776543,0.854256754776543,0.854256754776543,0.8549169923470392,0.8549169923470392,0.8549169923470392,0.8549169923470392,0.8549169923470392,0.8549169923470392,0.8549169923470392,0.8549169923470392,0.8549169923470392,0.8549169923470392,0.8549169923470392,0.8549169923470392,0.8549169923470392,0.8549169923470392,0.8549169923470392,0.8549169923470392,0.8549169923470392,0.8549169923470392,0.8549169923470392,0.8549169923470392,0.8549169923470392,0.8549169923470392,0.8549169923470392,0.8549169923470392,0.8549169923470392,0.8549169923470392,0.8549169923470392,0.8549169923470392,0.8549169923470392,0.8549169923470392,0.8549169923470392,0.8549169923470392,0.8549169923470392,0.8549169923470392,0.8549169923470392,0.8549169923470392,0.8549169923470392,0.8549169923470392,0.8549169923470392,0.8549169923470392,0.8549169923470392,0.8549169923470392,0.8549169923470392,0.8549169923470392,0.8549169923470392,0.8549169923470392,0.8549169923470392,0.8549169923470392,0.8551247434345217,0.8551247434345217,0.8551247434345217,0.8551247434345217,0.8551247434345217,0.8551247434345217,0.856376444208023,0.856376444208023,0.856376444208023,0.856376444208023,0.856376444208023,0.856376444208023,0.856376444208023,0.856376444208023,0.856376444208023,0.856376444208023,0.856376444208023,0.856376444208023,0.856376444208023,0.856376444208023,0.856376444208023,0.856376444208023,0.856376444208023,0.856376444208023,0.856376444208023],\"type\":\"scatter\"}],                        {\"title\":{\"text\":\"Optimization History Plot\"},\"xaxis\":{\"title\":{\"text\":\"Trial\"}},\"yaxis\":{\"title\":{\"text\":\"Objective Value\"}},\"template\":{\"data\":{\"bar\":[{\"error_x\":{\"color\":\"#2a3f5f\"},\"error_y\":{\"color\":\"#2a3f5f\"},\"marker\":{\"line\":{\"color\":\"#E5ECF6\",\"width\":0.5},\"pattern\":{\"fillmode\":\"overlay\",\"size\":10,\"solidity\":0.2}},\"type\":\"bar\"}],\"barpolar\":[{\"marker\":{\"line\":{\"color\":\"#E5ECF6\",\"width\":0.5},\"pattern\":{\"fillmode\":\"overlay\",\"size\":10,\"solidity\":0.2}},\"type\":\"barpolar\"}],\"carpet\":[{\"aaxis\":{\"endlinecolor\":\"#2a3f5f\",\"gridcolor\":\"white\",\"linecolor\":\"white\",\"minorgridcolor\":\"white\",\"startlinecolor\":\"#2a3f5f\"},\"baxis\":{\"endlinecolor\":\"#2a3f5f\",\"gridcolor\":\"white\",\"linecolor\":\"white\",\"minorgridcolor\":\"white\",\"startlinecolor\":\"#2a3f5f\"},\"type\":\"carpet\"}],\"choropleth\":[{\"colorbar\":{\"outlinewidth\":0,\"ticks\":\"\"},\"type\":\"choropleth\"}],\"contour\":[{\"colorbar\":{\"outlinewidth\":0,\"ticks\":\"\"},\"colorscale\":[[0.0,\"#0d0887\"],[0.1111111111111111,\"#46039f\"],[0.2222222222222222,\"#7201a8\"],[0.3333333333333333,\"#9c179e\"],[0.4444444444444444,\"#bd3786\"],[0.5555555555555556,\"#d8576b\"],[0.6666666666666666,\"#ed7953\"],[0.7777777777777778,\"#fb9f3a\"],[0.8888888888888888,\"#fdca26\"],[1.0,\"#f0f921\"]],\"type\":\"contour\"}],\"contourcarpet\":[{\"colorbar\":{\"outlinewidth\":0,\"ticks\":\"\"},\"type\":\"contourcarpet\"}],\"heatmap\":[{\"colorbar\":{\"outlinewidth\":0,\"ticks\":\"\"},\"colorscale\":[[0.0,\"#0d0887\"],[0.1111111111111111,\"#46039f\"],[0.2222222222222222,\"#7201a8\"],[0.3333333333333333,\"#9c179e\"],[0.4444444444444444,\"#bd3786\"],[0.5555555555555556,\"#d8576b\"],[0.6666666666666666,\"#ed7953\"],[0.7777777777777778,\"#fb9f3a\"],[0.8888888888888888,\"#fdca26\"],[1.0,\"#f0f921\"]],\"type\":\"heatmap\"}],\"heatmapgl\":[{\"colorbar\":{\"outlinewidth\":0,\"ticks\":\"\"},\"colorscale\":[[0.0,\"#0d0887\"],[0.1111111111111111,\"#46039f\"],[0.2222222222222222,\"#7201a8\"],[0.3333333333333333,\"#9c179e\"],[0.4444444444444444,\"#bd3786\"],[0.5555555555555556,\"#d8576b\"],[0.6666666666666666,\"#ed7953\"],[0.7777777777777778,\"#fb9f3a\"],[0.8888888888888888,\"#fdca26\"],[1.0,\"#f0f921\"]],\"type\":\"heatmapgl\"}],\"histogram\":[{\"marker\":{\"pattern\":{\"fillmode\":\"overlay\",\"size\":10,\"solidity\":0.2}},\"type\":\"histogram\"}],\"histogram2d\":[{\"colorbar\":{\"outlinewidth\":0,\"ticks\":\"\"},\"colorscale\":[[0.0,\"#0d0887\"],[0.1111111111111111,\"#46039f\"],[0.2222222222222222,\"#7201a8\"],[0.3333333333333333,\"#9c179e\"],[0.4444444444444444,\"#bd3786\"],[0.5555555555555556,\"#d8576b\"],[0.6666666666666666,\"#ed7953\"],[0.7777777777777778,\"#fb9f3a\"],[0.8888888888888888,\"#fdca26\"],[1.0,\"#f0f921\"]],\"type\":\"histogram2d\"}],\"histogram2dcontour\":[{\"colorbar\":{\"outlinewidth\":0,\"ticks\":\"\"},\"colorscale\":[[0.0,\"#0d0887\"],[0.1111111111111111,\"#46039f\"],[0.2222222222222222,\"#7201a8\"],[0.3333333333333333,\"#9c179e\"],[0.4444444444444444,\"#bd3786\"],[0.5555555555555556,\"#d8576b\"],[0.6666666666666666,\"#ed7953\"],[0.7777777777777778,\"#fb9f3a\"],[0.8888888888888888,\"#fdca26\"],[1.0,\"#f0f921\"]],\"type\":\"histogram2dcontour\"}],\"mesh3d\":[{\"colorbar\":{\"outlinewidth\":0,\"ticks\":\"\"},\"type\":\"mesh3d\"}],\"parcoords\":[{\"line\":{\"colorbar\":{\"outlinewidth\":0,\"ticks\":\"\"}},\"type\":\"parcoords\"}],\"pie\":[{\"automargin\":true,\"type\":\"pie\"}],\"scatter\":[{\"marker\":{\"colorbar\":{\"outlinewidth\":0,\"ticks\":\"\"}},\"type\":\"scatter\"}],\"scatter3d\":[{\"line\":{\"colorbar\":{\"outlinewidth\":0,\"ticks\":\"\"}},\"marker\":{\"colorbar\":{\"outlinewidth\":0,\"ticks\":\"\"}},\"type\":\"scatter3d\"}],\"scattercarpet\":[{\"marker\":{\"colorbar\":{\"outlinewidth\":0,\"ticks\":\"\"}},\"type\":\"scattercarpet\"}],\"scattergeo\":[{\"marker\":{\"colorbar\":{\"outlinewidth\":0,\"ticks\":\"\"}},\"type\":\"scattergeo\"}],\"scattergl\":[{\"marker\":{\"colorbar\":{\"outlinewidth\":0,\"ticks\":\"\"}},\"type\":\"scattergl\"}],\"scattermapbox\":[{\"marker\":{\"colorbar\":{\"outlinewidth\":0,\"ticks\":\"\"}},\"type\":\"scattermapbox\"}],\"scatterpolar\":[{\"marker\":{\"colorbar\":{\"outlinewidth\":0,\"ticks\":\"\"}},\"type\":\"scatterpolar\"}],\"scatterpolargl\":[{\"marker\":{\"colorbar\":{\"outlinewidth\":0,\"ticks\":\"\"}},\"type\":\"scatterpolargl\"}],\"scatterternary\":[{\"marker\":{\"colorbar\":{\"outlinewidth\":0,\"ticks\":\"\"}},\"type\":\"scatterternary\"}],\"surface\":[{\"colorbar\":{\"outlinewidth\":0,\"ticks\":\"\"},\"colorscale\":[[0.0,\"#0d0887\"],[0.1111111111111111,\"#46039f\"],[0.2222222222222222,\"#7201a8\"],[0.3333333333333333,\"#9c179e\"],[0.4444444444444444,\"#bd3786\"],[0.5555555555555556,\"#d8576b\"],[0.6666666666666666,\"#ed7953\"],[0.7777777777777778,\"#fb9f3a\"],[0.8888888888888888,\"#fdca26\"],[1.0,\"#f0f921\"]],\"type\":\"surface\"}],\"table\":[{\"cells\":{\"fill\":{\"color\":\"#EBF0F8\"},\"line\":{\"color\":\"white\"}},\"header\":{\"fill\":{\"color\":\"#C8D4E3\"},\"line\":{\"color\":\"white\"}},\"type\":\"table\"}]},\"layout\":{\"annotationdefaults\":{\"arrowcolor\":\"#2a3f5f\",\"arrowhead\":0,\"arrowwidth\":1},\"autotypenumbers\":\"strict\",\"coloraxis\":{\"colorbar\":{\"outlinewidth\":0,\"ticks\":\"\"}},\"colorscale\":{\"diverging\":[[0,\"#8e0152\"],[0.1,\"#c51b7d\"],[0.2,\"#de77ae\"],[0.3,\"#f1b6da\"],[0.4,\"#fde0ef\"],[0.5,\"#f7f7f7\"],[0.6,\"#e6f5d0\"],[0.7,\"#b8e186\"],[0.8,\"#7fbc41\"],[0.9,\"#4d9221\"],[1,\"#276419\"]],\"sequential\":[[0.0,\"#0d0887\"],[0.1111111111111111,\"#46039f\"],[0.2222222222222222,\"#7201a8\"],[0.3333333333333333,\"#9c179e\"],[0.4444444444444444,\"#bd3786\"],[0.5555555555555556,\"#d8576b\"],[0.6666666666666666,\"#ed7953\"],[0.7777777777777778,\"#fb9f3a\"],[0.8888888888888888,\"#fdca26\"],[1.0,\"#f0f921\"]],\"sequentialminus\":[[0.0,\"#0d0887\"],[0.1111111111111111,\"#46039f\"],[0.2222222222222222,\"#7201a8\"],[0.3333333333333333,\"#9c179e\"],[0.4444444444444444,\"#bd3786\"],[0.5555555555555556,\"#d8576b\"],[0.6666666666666666,\"#ed7953\"],[0.7777777777777778,\"#fb9f3a\"],[0.8888888888888888,\"#fdca26\"],[1.0,\"#f0f921\"]]},\"colorway\":[\"#636efa\",\"#EF553B\",\"#00cc96\",\"#ab63fa\",\"#FFA15A\",\"#19d3f3\",\"#FF6692\",\"#B6E880\",\"#FF97FF\",\"#FECB52\"],\"font\":{\"color\":\"#2a3f5f\"},\"geo\":{\"bgcolor\":\"white\",\"lakecolor\":\"white\",\"landcolor\":\"#E5ECF6\",\"showlakes\":true,\"showland\":true,\"subunitcolor\":\"white\"},\"hoverlabel\":{\"align\":\"left\"},\"hovermode\":\"closest\",\"mapbox\":{\"style\":\"light\"},\"paper_bgcolor\":\"white\",\"plot_bgcolor\":\"#E5ECF6\",\"polar\":{\"angularaxis\":{\"gridcolor\":\"white\",\"linecolor\":\"white\",\"ticks\":\"\"},\"bgcolor\":\"#E5ECF6\",\"radialaxis\":{\"gridcolor\":\"white\",\"linecolor\":\"white\",\"ticks\":\"\"}},\"scene\":{\"xaxis\":{\"backgroundcolor\":\"#E5ECF6\",\"gridcolor\":\"white\",\"gridwidth\":2,\"linecolor\":\"white\",\"showbackground\":true,\"ticks\":\"\",\"zerolinecolor\":\"white\"},\"yaxis\":{\"backgroundcolor\":\"#E5ECF6\",\"gridcolor\":\"white\",\"gridwidth\":2,\"linecolor\":\"white\",\"showbackground\":true,\"ticks\":\"\",\"zerolinecolor\":\"white\"},\"zaxis\":{\"backgroundcolor\":\"#E5ECF6\",\"gridcolor\":\"white\",\"gridwidth\":2,\"linecolor\":\"white\",\"showbackground\":true,\"ticks\":\"\",\"zerolinecolor\":\"white\"}},\"shapedefaults\":{\"line\":{\"color\":\"#2a3f5f\"}},\"ternary\":{\"aaxis\":{\"gridcolor\":\"white\",\"linecolor\":\"white\",\"ticks\":\"\"},\"baxis\":{\"gridcolor\":\"white\",\"linecolor\":\"white\",\"ticks\":\"\"},\"bgcolor\":\"#E5ECF6\",\"caxis\":{\"gridcolor\":\"white\",\"linecolor\":\"white\",\"ticks\":\"\"}},\"title\":{\"x\":0.05},\"xaxis\":{\"automargin\":true,\"gridcolor\":\"white\",\"linecolor\":\"white\",\"ticks\":\"\",\"title\":{\"standoff\":15},\"zerolinecolor\":\"white\",\"zerolinewidth\":2},\"yaxis\":{\"automargin\":true,\"gridcolor\":\"white\",\"linecolor\":\"white\",\"ticks\":\"\",\"title\":{\"standoff\":15},\"zerolinecolor\":\"white\",\"zerolinewidth\":2}}}},                        {\"responsive\": true}                    ).then(function(){\n",
              "                            \n",
              "var gd = document.getElementById('48b8102a-a331-477b-876b-b27f906db511');\n",
              "var x = new MutationObserver(function (mutations, observer) {{\n",
              "        var display = window.getComputedStyle(gd).display;\n",
              "        if (!display || display === 'none') {{\n",
              "            console.log([gd, 'removed!']);\n",
              "            Plotly.purge(gd);\n",
              "            observer.disconnect();\n",
              "        }}\n",
              "}});\n",
              "\n",
              "// Listen for the removal of the full notebook cells\n",
              "var notebookContainer = gd.closest('#notebook-container');\n",
              "if (notebookContainer) {{\n",
              "    x.observe(notebookContainer, {childList: true});\n",
              "}}\n",
              "\n",
              "// Listen for the clearing of the current output cell\n",
              "var outputEl = gd.closest('.output');\n",
              "if (outputEl) {{\n",
              "    x.observe(outputEl, {childList: true});\n",
              "}}\n",
              "\n",
              "                        })                };                            </script>        </div>\n",
              "</body>\n",
              "</html>"
            ]
          },
          "metadata": {}
        }
      ]
    },
    {
      "cell_type": "code",
      "source": [
        "rfr = RandomForestRegressor(max_depth=8).fit(X_train,y_train)"
      ],
      "metadata": {
        "id": "7trmLswWTSAi"
      },
      "execution_count": 87,
      "outputs": []
    },
    {
      "cell_type": "code",
      "source": [
        "y_pred = rfr.predict(X_test)"
      ],
      "metadata": {
        "id": "8KNGyI-yTi4v"
      },
      "execution_count": 99,
      "outputs": []
    },
    {
      "cell_type": "code",
      "source": [
        "rfr.get_params()"
      ],
      "metadata": {
        "colab": {
          "base_uri": "https://localhost:8080/"
        },
        "id": "ki80UI0gURjS",
        "outputId": "ea45a95d-4309-4108-eeb5-09b876857605"
      },
      "execution_count": 102,
      "outputs": [
        {
          "output_type": "execute_result",
          "data": {
            "text/plain": [
              "{'bootstrap': True,\n",
              " 'ccp_alpha': 0.0,\n",
              " 'criterion': 'squared_error',\n",
              " 'max_depth': 8,\n",
              " 'max_features': 'auto',\n",
              " 'max_leaf_nodes': None,\n",
              " 'max_samples': None,\n",
              " 'min_impurity_decrease': 0.0,\n",
              " 'min_samples_leaf': 1,\n",
              " 'min_samples_split': 2,\n",
              " 'min_weight_fraction_leaf': 0.0,\n",
              " 'n_estimators': 100,\n",
              " 'n_jobs': None,\n",
              " 'oob_score': False,\n",
              " 'random_state': None,\n",
              " 'verbose': 0,\n",
              " 'warm_start': False}"
            ]
          },
          "metadata": {},
          "execution_count": 102
        }
      ]
    },
    {
      "cell_type": "markdown",
      "source": [
        "Получение истории оптимизации, интересно,что максимум достигнут прямо на первой интерации"
      ],
      "metadata": {
        "id": "G1ZmAfaLRHCn"
      }
    },
    {
      "cell_type": "code",
      "source": [
        "fig, ax = plt.subplots()\n",
        "ax.scatter(y_test, y_pred, edgecolors=(0, 0, 0))\n",
        "ax.plot([y_test.min(), y_test.max()], [y_test.min(), y_test.max()], 'k--', lw=4)\n",
        "ax.set_xlabel('Measured')\n",
        "ax.set_ylabel('Predicted')\n",
        "plt.show()"
      ],
      "metadata": {
        "colab": {
          "base_uri": "https://localhost:8080/",
          "height": 279
        },
        "id": "7mGOcme83nDY",
        "outputId": "332a5588-b99b-49c6-e58c-aae2fd050eb0"
      },
      "execution_count": 100,
      "outputs": [
        {
          "output_type": "display_data",
          "data": {
            "text/plain": [
              "<Figure size 432x288 with 1 Axes>"
            ],
            "image/png": "[encoded data removed]"
          },
          "metadata": {
            "needs_background": "light"
          }
        }
      ]
    },
    {
      "cell_type": "code",
      "source": [],
      "metadata": {
        "id": "qTrHnJZCTJyQ"
      },
      "execution_count": null,
      "outputs": []
    },
    {
      "cell_type": "markdown",
      "source": [],
      "metadata": {
        "id": "A8jC_sS4TI_v"
      }
    }
  ]
}